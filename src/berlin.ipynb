{
 "cells": [
  {
   "cell_type": "code",
   "execution_count": 20,
   "metadata": {},
   "outputs": [],
   "source": [
    "import numpy as np\n",
    "import pandas as pd\n",
    "import sys\n",
    "import sklearn.preprocessing\n",
    "import sklearn.model_selection\n",
    "import sklearn.metrics\n",
    "import sklearn\n",
    "import lazypredict\n",
    "import matplotlib.pyplot as plt\n",
    "from tqdm.notebook import tnrange\n",
    "import itertools\n",
    "from sklearn.impute import KNNImputer\n",
    "import tqdm\n",
    "from sklearn.tree import DecisionTreeRegressor\n",
    "from sklearn.model_selection import cross_validate\n",
    "from sklearn import linear_model\n",
    "from sklearn.metrics import mean_squared_error\n",
    "from sklearn.model_selection import KFold\n",
    "from sklearn.decomposition import PCA\n",
    "from sklearn.neural_network import MLPRegressor\n",
    "from sklearn.model_selection import GridSearchCV\n",
    "from sklearn import svm\n",
    "import optuna\n",
    "from sklearn.preprocessing import StandardScaler\n",
    "from sklearn.pipeline import Pipeline\n",
    "from sklearn.ensemble import AdaBoostRegressor\n",
    "from sklearn.ensemble import GradientBoostingRegressor\n",
    "from sklearn.neural_network import MLPRegressor\n",
    "from warnings import simplefilter\n",
    "from sklearn.exceptions import ConvergenceWarning\n",
    "from sklearn.preprocessing import FunctionTransformer\n",
    "from fitter import Fitter, get_common_distributions, get_distributions\n",
    "import time\n",
    "from datetime import datetime"
   ]
  },
  {
   "cell_type": "code",
   "execution_count": 21,
   "metadata": {},
   "outputs": [],
   "source": [
    "df_train = pd.read_csv('../DATA/train_airbnb_berlin.xls')"
   ]
  },
  {
   "cell_type": "markdown",
   "metadata": {},
   "source": [
    "# Pre processing"
   ]
  },
  {
   "cell_type": "markdown",
   "metadata": {},
   "source": [
    "### Feature analysis"
   ]
  },
  {
   "cell_type": "code",
   "execution_count": 3,
   "metadata": {},
   "outputs": [
    {
     "data": {
      "image/png": "[encoded data removed]",
      "text/plain": [
       "<Figure size 640x480 with 4 Axes>"
      ]
     },
     "metadata": {},
     "output_type": "display_data"
    }
   ],
   "source": [
    "plt.subplot(221)\n",
    "df_train.boxplot(column='Price')\n",
    "\n",
    "plt.subplot(222)\n",
    "df_train.boxplot(column='Square Feet')\n",
    "\n",
    "plt.subplot(223)\n",
    "df_train.boxplot(column='Value Rating')\n",
    "\n",
    "plt.subplot(224)\n",
    "df_train.boxplot(column='Accuracy Rating')\n",
    "\n",
    "plt.show()"
   ]
  },
  {
   "cell_type": "code",
   "execution_count": 4,
   "metadata": {},
   "outputs": [],
   "source": [
    "def percentage_of_nans(df: pd.DataFrame) -> list:\n",
    "    nan_percentage = pd.DataFrame(columns=['Feature Name', 'Percentage of NaNs'])\n",
    "    for idx, feature in enumerate(df.columns):\n",
    "        notnans = df_train[feature].notna().value_counts()\n",
    "        percentage = 0\n",
    "        if False in notnans:\n",
    "            percentage = int(10000*notnans[False]/len(df_train))/100\n",
    "\n",
    "        nan_percentage.loc[idx] = [feature, percentage]\n",
    "    return nan_percentage"
   ]
  },
  {
   "cell_type": "code",
   "execution_count": 5,
   "metadata": {},
   "outputs": [
    {
     "data": {
      "text/html": [
       "<div>\n",
       "<style scoped>\n",
       "    .dataframe tbody tr th:only-of-type {\n",
       "        vertical-align: middle;\n",
       "    }\n",
       "\n",
       "    .dataframe tbody tr th {\n",
       "        vertical-align: top;\n",
       "    }\n",
       "\n",
       "    .dataframe thead th {\n",
       "        text-align: right;\n",
       "    }\n",
       "</style>\n",
       "<table border=\"1\" class=\"dataframe\">\n",
       "  <thead>\n",
       "    <tr style=\"text-align: right;\">\n",
       "      <th></th>\n",
       "      <th>Feature Name</th>\n",
       "      <th>Percentage of NaNs</th>\n",
       "    </tr>\n",
       "  </thead>\n",
       "  <tbody>\n",
       "    <tr>\n",
       "      <th>0</th>\n",
       "      <td>Square Feet</td>\n",
       "      <td>98.06</td>\n",
       "    </tr>\n",
       "    <tr>\n",
       "      <th>1</th>\n",
       "      <td>Host Response Time</td>\n",
       "      <td>45.08</td>\n",
       "    </tr>\n",
       "    <tr>\n",
       "      <th>2</th>\n",
       "      <td>Host Response Rate</td>\n",
       "      <td>45.08</td>\n",
       "    </tr>\n",
       "    <tr>\n",
       "      <th>3</th>\n",
       "      <td>Checkin Rating</td>\n",
       "      <td>18.94</td>\n",
       "    </tr>\n",
       "    <tr>\n",
       "      <th>4</th>\n",
       "      <td>Accuracy Rating</td>\n",
       "      <td>18.93</td>\n",
       "    </tr>\n",
       "    <tr>\n",
       "      <th>5</th>\n",
       "      <td>Location Rating</td>\n",
       "      <td>18.93</td>\n",
       "    </tr>\n",
       "    <tr>\n",
       "      <th>6</th>\n",
       "      <td>Value Rating</td>\n",
       "      <td>18.93</td>\n",
       "    </tr>\n",
       "    <tr>\n",
       "      <th>7</th>\n",
       "      <td>Cleanliness Rating</td>\n",
       "      <td>18.92</td>\n",
       "    </tr>\n",
       "    <tr>\n",
       "      <th>8</th>\n",
       "      <td>Communication Rating</td>\n",
       "      <td>18.92</td>\n",
       "    </tr>\n",
       "    <tr>\n",
       "      <th>9</th>\n",
       "      <td>Overall Rating</td>\n",
       "      <td>18.87</td>\n",
       "    </tr>\n",
       "  </tbody>\n",
       "</table>\n",
       "</div>"
      ],
      "text/plain": [
       "           Feature Name  Percentage of NaNs\n",
       "0           Square Feet               98.06\n",
       "1    Host Response Time               45.08\n",
       "2    Host Response Rate               45.08\n",
       "3        Checkin Rating               18.94\n",
       "4       Accuracy Rating               18.93\n",
       "5       Location Rating               18.93\n",
       "6          Value Rating               18.93\n",
       "7    Cleanliness Rating               18.92\n",
       "8  Communication Rating               18.92\n",
       "9        Overall Rating               18.87"
      ]
     },
     "execution_count": 5,
     "metadata": {},
     "output_type": "execute_result"
    }
   ],
   "source": [
    "nan_percentage = percentage_of_nans(df_train)\n",
    "df = nan_percentage[nan_percentage['Percentage of NaNs'] >= 18]\n",
    "df.sort_values(by=['Percentage of NaNs'], ascending=False).reset_index().drop(['index'], axis=1)"
   ]
  },
  {
   "cell_type": "markdown",
   "metadata": {},
   "source": [
    "### Data cleaning"
   ]
  },
  {
   "cell_type": "code",
   "execution_count": 22,
   "metadata": {},
   "outputs": [],
   "source": [
    "from sklearn.preprocessing import LabelEncoder\n",
    "\n",
    "def pre_process_raw(df: pd.DataFrame):\n",
    "    df.columns = df.columns. str.lower().str.replace(' ','_')         \n",
    "\n",
    "    # Converting to datetime\n",
    "    df.host_since = pd.to_datetime(df.host_since)               \n",
    "\n",
    "    cols_to_drop = ['listing_name', 'host_id', 'host_name', 'city', 'country_code', 'country' ]\n",
    "    df = df.drop(cols_to_drop, axis=1)\n",
    "    df.set_index('listing_id', inplace=True)\n",
    "\n",
    "    df.drop(['square_feet'], axis=1, inplace=True)\n",
    "\n",
    "    for col in df.columns:\n",
    "        df[col] = df[col].replace('*', np.nan)\n",
    "\n",
    "    df.drop(['first_review','last_review'], axis=1, inplace=True)\n",
    "    df = df.dropna(subset=['price'], how='all')\n",
    "    df = df.dropna(subset=['overall_rating', 'accuracy_rating','cleanliness_rating','checkin_rating',\n",
    "                            'communication_rating','location_rating','value_rating'], how='all')\n",
    "    \n",
    "    change = ['postal_code','accomodates','latitude',\n",
    "          'longitude','bathrooms','bedrooms','beds','guests_included','min_nights','reviews','overall_rating','accuracy_rating',\n",
    "          'cleanliness_rating','checkin_rating', 'communication_rating','location_rating','value_rating' ]\n",
    "\n",
    "    for i in change:\n",
    "        df[i]=pd.to_numeric(df[i], downcast=\"float\")\n",
    "\n",
    "    #Replacing the null values\n",
    "\n",
    "\n",
    "    obj = df.select_dtypes(include = \"object\").columns\n",
    "    le = LabelEncoder()\n",
    "    for i in obj:\n",
    "        df[i] = le.fit_transform(df[i].astype(str))\n",
    "    \n",
    "    X = df.drop('price', axis = 1)\n",
    "\n",
    "    # Output/Dependent variable\n",
    "\n",
    "    y = df['price']\n",
    "    return X, y\n",
    "\n",
    "def median_imputer(df: pd.DataFrame):\n",
    "    change = ['postal_code','accomodates','latitude',\n",
    "        'longitude','bathrooms','bedrooms','beds','guests_included','min_nights','reviews','overall_rating','accuracy_rating',\n",
    "        'cleanliness_rating','checkin_rating', 'communication_rating','location_rating','value_rating' ]\n",
    "    \n",
    "    df = df.copy()\n",
    "\n",
    "    if 'host_since' in df.columns:\n",
    "        # Calculating the number of days    \n",
    "        df['host_days_active'] = (datetime(2019, 7, 21) - df.host_since).astype('timedelta64[D]').copy()\n",
    "\n",
    "        # Replacing null values with the median\n",
    "        df['host_days_active'] = df.host_days_active.fillna(df.host_days_active.median()).copy()\n",
    "\n",
    "        df['host_days_active'] = (datetime(2019, 7, 21) - df.host_since).astype('timedelta64[D]').copy()\n",
    "        df.drop('host_since', axis=1, inplace=True)\n",
    "\n",
    "    for col in change:\n",
    "        if col not in df.columns:continue\n",
    "        df[col].fillna(df[col].median(), inplace=True)\n",
    "\n",
    "    df = df.fillna(0).copy()\n",
    "\n",
    "    return df"
   ]
  },
  {
   "cell_type": "code",
   "execution_count": 28,
   "metadata": {},
   "outputs": [],
   "source": [
    "def fit_clf_scaler_cv(clf, X, y, clf_params, pipeline_params={}, n_features=25):\n",
    "    X = X.reset_index(drop=True)\n",
    "    y = y.reset_index(drop=True)\n",
    "    kf = KFold(n_splits=5)\n",
    "    \n",
    "    metric = []\n",
    "    X = median_imputer(X)\n",
    "\n",
    "    for train_index, test_index in kf.split(X):\n",
    "        X_train, X_test = X.loc[train_index], X.loc[test_index]\n",
    "        y_train, y_test = y.loc[train_index], y.loc[test_index]\n",
    "\n",
    "        pipe = Pipeline([\n",
    "        ('scaler', StandardScaler()),\n",
    "        ('pca', PCA(n_components=n_features)),\n",
    "        ('svr', clf(**clf_params))], **pipeline_params)\n",
    "        \n",
    "        pipe.fit(X_train,y_train)\n",
    "        y_pred = pipe.predict(X_test)\n",
    "        rmse = mean_squared_error(y_pred, y_test)**(1/2)\n",
    "        metric.append(rmse)\n",
    "    return np.array(metric).mean()\n",
    "\n",
    "def fit_clf_scaler(clf, X, y, clf_params, pipeline_params={}, n_features=25):\n",
    "    X = X.copy()\n",
    "    y = y.copy()\n",
    "    X = X.reset_index(drop=True)\n",
    "    y = y.reset_index(drop=True)\n",
    "    \n",
    "    pipe = Pipeline([('median_imputer', FunctionTransformer(median_imputer)),\n",
    "    ('scaler', StandardScaler()),\n",
    "    ('pca', PCA(n_components=n_features)),\n",
    "    ('svr', clf(**clf_params))], **pipeline_params)\n",
    "    \n",
    "    pipe.fit(X,y)\n",
    "    return pipe "
   ]
  },
  {
   "cell_type": "code",
   "execution_count": 24,
   "metadata": {},
   "outputs": [],
   "source": [
    "X, y = pre_process_raw(df_train)"
   ]
  },
  {
   "cell_type": "code",
   "execution_count": 25,
   "metadata": {},
   "outputs": [],
   "source": [
    "X_train, X_test, y_train, y_test = sklearn.model_selection.train_test_split(X, y, test_size=0.2, random_state=42)"
   ]
  },
  {
   "cell_type": "markdown",
   "metadata": {},
   "source": [
    "### Train test split"
   ]
  },
  {
   "cell_type": "code",
   "execution_count": 30,
   "metadata": {},
   "outputs": [
    {
     "data": {
      "image/png": "[encoded data removed]",
      "text/plain": [
       "<Figure size 640x480 with 1 Axes>"
      ]
     },
     "metadata": {},
     "output_type": "display_data"
    }
   ],
   "source": [
    "plt.hist(y_train,bins=100, label='train')\n",
    "plt.hist(y_test, bins=100,label='test')\n",
    "plt.legend()\n",
    "plt.grid(axis='x')\n",
    "plt.show()\n"
   ]
  },
  {
   "cell_type": "code",
   "execution_count": 31,
   "metadata": {},
   "outputs": [
    {
     "name": "stderr",
     "output_type": "stream",
     "text": [
      "Fitting 5 distributions: 100%|██████████| 5/5 [00:02<00:00,  1.75it/s]\n"
     ]
    },
    {
     "data": {
      "text/html": [
       "<div>\n",
       "<style scoped>\n",
       "    .dataframe tbody tr th:only-of-type {\n",
       "        vertical-align: middle;\n",
       "    }\n",
       "\n",
       "    .dataframe tbody tr th {\n",
       "        vertical-align: top;\n",
       "    }\n",
       "\n",
       "    .dataframe thead th {\n",
       "        text-align: right;\n",
       "    }\n",
       "</style>\n",
       "<table border=\"1\" class=\"dataframe\">\n",
       "  <thead>\n",
       "    <tr style=\"text-align: right;\">\n",
       "      <th></th>\n",
       "      <th>sumsquare_error</th>\n",
       "      <th>aic</th>\n",
       "      <th>bic</th>\n",
       "      <th>kl_div</th>\n",
       "      <th>ks_statistic</th>\n",
       "      <th>ks_pvalue</th>\n",
       "    </tr>\n",
       "  </thead>\n",
       "  <tbody>\n",
       "    <tr>\n",
       "      <th>burr</th>\n",
       "      <td>0.000074</td>\n",
       "      <td>1981.694736</td>\n",
       "      <td>-241262.345112</td>\n",
       "      <td>inf</td>\n",
       "      <td>0.045383</td>\n",
       "      <td>3.221602e-23</td>\n",
       "    </tr>\n",
       "    <tr>\n",
       "      <th>beta</th>\n",
       "      <td>0.000145</td>\n",
       "      <td>3168.370031</td>\n",
       "      <td>-232761.691453</td>\n",
       "      <td>inf</td>\n",
       "      <td>0.095318</td>\n",
       "      <td>4.235137e-101</td>\n",
       "    </tr>\n",
       "    <tr>\n",
       "      <th>norm</th>\n",
       "      <td>0.000480</td>\n",
       "      <td>8769.505263</td>\n",
       "      <td>-217554.043109</td>\n",
       "      <td>inf</td>\n",
       "      <td>0.179096</td>\n",
       "      <td>0.000000e+00</td>\n",
       "    </tr>\n",
       "    <tr>\n",
       "      <th>gamma</th>\n",
       "      <td>0.001484</td>\n",
       "      <td>25858.296772</td>\n",
       "      <td>-203167.414114</td>\n",
       "      <td>inf</td>\n",
       "      <td>0.993223</td>\n",
       "      <td>0.000000e+00</td>\n",
       "    </tr>\n",
       "    <tr>\n",
       "      <th>lognorm</th>\n",
       "      <td>0.001603</td>\n",
       "      <td>1793.180180</td>\n",
       "      <td>-202187.780540</td>\n",
       "      <td>inf</td>\n",
       "      <td>0.671548</td>\n",
       "      <td>0.000000e+00</td>\n",
       "    </tr>\n",
       "  </tbody>\n",
       "</table>\n",
       "</div>"
      ],
      "text/plain": [
       "         sumsquare_error           aic            bic  kl_div  ks_statistic  \\\n",
       "burr            0.000074   1981.694736 -241262.345112     inf      0.045383   \n",
       "beta            0.000145   3168.370031 -232761.691453     inf      0.095318   \n",
       "norm            0.000480   8769.505263 -217554.043109     inf      0.179096   \n",
       "gamma           0.001484  25858.296772 -203167.414114     inf      0.993223   \n",
       "lognorm         0.001603   1793.180180 -202187.780540     inf      0.671548   \n",
       "\n",
       "             ks_pvalue  \n",
       "burr      3.221602e-23  \n",
       "beta     4.235137e-101  \n",
       "norm      0.000000e+00  \n",
       "gamma     0.000000e+00  \n",
       "lognorm   0.000000e+00  "
      ]
     },
     "execution_count": 31,
     "metadata": {},
     "output_type": "execute_result"
    },
    {
     "data": {
      "image/png": "[encoded data removed]",
      "text/plain": [
       "<Figure size 640x480 with 1 Axes>"
      ]
     },
     "metadata": {},
     "output_type": "display_data"
    }
   ],
   "source": [
    "f = Fitter(y.values,\n",
    "           distributions=['gamma',\n",
    "                          'lognorm',\n",
    "                          \"beta\",\n",
    "                          \"burr\",\n",
    "                          \"norm\"])\n",
    "f.fit()\n",
    "f.summary()"
   ]
  },
  {
   "cell_type": "code",
   "execution_count": 32,
   "metadata": {},
   "outputs": [
    {
     "name": "stderr",
     "output_type": "stream",
     "text": [
      "Fitting 1 distributions: 100%|██████████| 1/1 [00:00<00:00,  1.39it/s]\n"
     ]
    },
    {
     "data": {
      "text/plain": [
       "{'burr': {'c': 2.3918847639235943,\n",
       "  'd': 2.6672527926210923,\n",
       "  'loc': -0.0923998227354602,\n",
       "  'scale': 28.50641342786434}}"
      ]
     },
     "metadata": {},
     "output_type": "display_data"
    },
    {
     "name": "stderr",
     "output_type": "stream",
     "text": [
      "Fitting 1 distributions: 100%|██████████| 1/1 [00:00<00:00,  2.99it/s]\n"
     ]
    },
    {
     "data": {
      "text/plain": [
       "{'burr': {'c': 2.5829527482788075,\n",
       "  'd': 1.8337441549196827,\n",
       "  'loc': -0.10671963192032685,\n",
       "  'scale': 35.77353089594571}}"
      ]
     },
     "metadata": {},
     "output_type": "display_data"
    }
   ],
   "source": [
    "f_train = Fitter(y_train.values, distributions=['burr'])\n",
    "f_train.fit()\n",
    "\n",
    "display(f_train.get_best())\n",
    "\n",
    "f_test = Fitter(y_test.values, distributions=['burr'])\n",
    "f_test.fit()\n",
    "display(f_test.get_best())\n"
   ]
  },
  {
   "cell_type": "code",
   "execution_count": 33,
   "metadata": {},
   "outputs": [
    {
     "name": "stdout",
     "output_type": "stream",
     "text": [
      "KL divergence between train and test:  31027.169378291386\n",
      "KL divergence reference:  26620.147560108064\n"
     ]
    }
   ],
   "source": [
    "from scipy.special import rel_entr\n",
    "from scipy.stats import burr\n",
    "\n",
    "r_train = burr.rvs(**(f_train.get_best()['burr']),size=1000)\n",
    "r_test = burr.rvs(**(f_test.get_best()['burr']),size=1000)\n",
    "r_test_base = burr.rvs(**(f_test.get_best()['burr']),size=1000)\n",
    "print('KL divergence between train and test: ', sum(rel_entr(r_train, r_test)))\n",
    "print('KL divergence reference: ', sum(rel_entr(r_test, r_test_base)))"
   ]
  },
  {
   "cell_type": "markdown",
   "metadata": {},
   "source": [
    "# Feature analysis"
   ]
  },
  {
   "cell_type": "markdown",
   "metadata": {},
   "source": [
    "### PCA"
   ]
  },
  {
   "cell_type": "code",
   "execution_count": 14,
   "metadata": {},
   "outputs": [
    {
     "data": {
      "image/png": "[encoded data removed]",
      "text/plain": [
       "<Figure size 640x480 with 1 Axes>"
      ]
     },
     "metadata": {},
     "output_type": "display_data"
    },
    {
     "name": "stdout",
     "output_type": "stream",
     "text": [
      "Explained variance with 24 features:  0.9926008696684153\n"
     ]
    }
   ],
   "source": [
    "pipe = Pipeline([('median_imputer', FunctionTransformer(median_imputer)),\n",
    "('scaler', StandardScaler()),\n",
    "('pca', PCA())])\n",
    "\n",
    "pipe.fit(X_train)\n",
    "explained_variance = pipe['pca'].explained_variance_ratio_\n",
    "acc_sum = np.cumsum(explained_variance) \n",
    "\n",
    "plt.title('Cumulative explained variance')\n",
    "plt.plot(acc_sum)\n",
    "plt.grid()\n",
    "plt.ylabel('Explained variance')\n",
    "plt.xlabel('Number of features')\n",
    "plt.show()\n",
    "\n",
    "print('Explained variance with 24 features: ', acc_sum[25])"
   ]
  },
  {
   "cell_type": "markdown",
   "metadata": {},
   "source": [
    "### Forward selection + Cross Validation"
   ]
  },
  {
   "cell_type": "code",
   "execution_count": 15,
   "metadata": {},
   "outputs": [],
   "source": [
    "def get_feature_importance(clf, params):\n",
    "\tr2 = [] \n",
    "\trmse = []\n",
    "\tfeatures = []\n",
    "\tn_features = []\n",
    "\n",
    "\tfor k in range(1,len(X.columns) + 1):\n",
    "\t\tr2_tmp = []\n",
    "\t\trmse_tmp = []\n",
    "\t\tfor new_feat in X_train.columns:\n",
    "\t\t\tif new_feat in features: continue\n",
    "\t\t\tnew_features = features.copy()\n",
    "\t\t\tnew_features.append(new_feat)\n",
    "\t\t\tpipe = fit_clf_scaler(clf, X_train[new_features],y_train, params, {}, n_features=len(new_features))   \n",
    "\t\t\tr_squared = pipe.score(X_test[new_features],y_test)\n",
    "\t\t\ty_pred = pipe.predict(X_test[new_features])\n",
    "\t\t\trmse_val = mean_squared_error(y_pred, y_test)**(1/2)\n",
    "\t\t\tr2_tmp.append((r_squared, new_feat))                 \n",
    "\t\t\trmse_tmp.append(rmse_val)\n",
    "\t\tr2.append(sorted(r2_tmp, key=lambda x: x[0])[-1][0])\t\n",
    "\t\trmse.append(sorted(rmse_tmp)[-1])\n",
    "\t\tnew_feat = sorted(r2_tmp, key=lambda x: x[0])[-1][1]\n",
    "\t\tfeatures.append(new_feat)\n",
    "\t\tn_features.append(len(features))   \n",
    "\n",
    "\tdf = pd.DataFrame({'n_features': n_features,'R2': r2, 'RMSE':rmse ,'features':features})\n",
    "\n",
    "\treturn df"
   ]
  },
  {
   "cell_type": "code",
   "execution_count": 16,
   "metadata": {},
   "outputs": [
    {
     "data": {
      "image/png": "[encoded data removed]",
      "text/plain": [
       "<Figure size 640x480 with 1 Axes>"
      ]
     },
     "metadata": {},
     "output_type": "display_data"
    },
    {
     "data": {
      "image/png": "[encoded data removed]",
      "text/plain": [
       "<Figure size 640x480 with 1 Axes>"
      ]
     },
     "metadata": {},
     "output_type": "display_data"
    }
   ],
   "source": [
    "df = get_feature_importance(linear_model.LinearRegression, {})\n",
    "plt.title('Cross-validated subset selection - Linear Regression')\n",
    "plt.xlabel('Number of features')\n",
    "plt.ylabel('R squared')\n",
    "plt.grid()\n",
    "plt.plot(df['n_features'], df['R2'])\n",
    "plt.show()\n",
    "\n",
    "plt.title('Cross-validated subset selection - Linear Regression')\n",
    "plt.xlabel('Number of features')\n",
    "plt.ylabel('RMSE')\n",
    "plt.grid()\n",
    "plt.plot(df['n_features'], df['RMSE'])\n",
    "plt.show()\n"
   ]
  },
  {
   "cell_type": "code",
   "execution_count": 17,
   "metadata": {},
   "outputs": [],
   "source": [
    "\n",
    "n_input = X_train.columns\n",
    "\n",
    "n_encoder1 = 50\n",
    "n_encoder2 = 30\n",
    "\n",
    "n_latent = 2\n",
    "\n",
    "n_decoder2 = 30\n",
    "n_decoder1 = 50"
   ]
  },
  {
   "cell_type": "code",
   "execution_count": 18,
   "metadata": {},
   "outputs": [],
   "source": [
    "reg = MLPRegressor(hidden_layer_sizes = (n_encoder1, n_encoder2, n_latent, n_decoder2, n_decoder1), \n",
    "                   activation = 'tanh', \n",
    "                   solver = 'adam', \n",
    "                   learning_rate_init = 1e-4, \n",
    "                   max_iter = 100, \n",
    "                   tol = 0.0000001, \n",
    "                   verbose = False)"
   ]
  },
  {
   "cell_type": "code",
   "execution_count": 19,
   "metadata": {},
   "outputs": [
    {
     "ename": "TypeError",
     "evalue": "The DType <class 'numpy.dtype[datetime64]'> could not be promoted by <class 'numpy.dtype[float32]'>. This means that no common DType exists for the given inputs. For example they cannot be stored in a single array unless the dtype is `object`. The full list of DTypes is: (<class 'numpy.dtype[datetime64]'>, <class 'numpy.dtype[int64]'>, <class 'numpy.dtype[int64]'>, <class 'numpy.dtype[int64]'>, <class 'numpy.dtype[int64]'>, <class 'numpy.dtype[int64]'>, <class 'numpy.dtype[float32]'>, <class 'numpy.dtype[float32]'>, <class 'numpy.dtype[float32]'>, <class 'numpy.dtype[int64]'>, <class 'numpy.dtype[int64]'>, <class 'numpy.dtype[int64]'>, <class 'numpy.dtype[float32]'>, <class 'numpy.dtype[float32]'>, <class 'numpy.dtype[float32]'>, <class 'numpy.dtype[float32]'>, <class 'numpy.dtype[float32]'>, <class 'numpy.dtype[float32]'>, <class 'numpy.dtype[float32]'>, <class 'numpy.dtype[float32]'>, <class 'numpy.dtype[float32]'>, <class 'numpy.dtype[float32]'>, <class 'numpy.dtype[float32]'>, <class 'numpy.dtype[float32]'>, <class 'numpy.dtype[float32]'>, <class 'numpy.dtype[float32]'>, <class 'numpy.dtype[int64]'>, <class 'numpy.dtype[int64]'>)",
     "output_type": "error",
     "traceback": [
      "\u001b[0;31m---------------------------------------------------------------------------\u001b[0m",
      "\u001b[0;31mTypeError\u001b[0m                                 Traceback (most recent call last)",
      "Cell \u001b[0;32mIn [19], line 1\u001b[0m\n\u001b[0;32m----> 1\u001b[0m reg\u001b[39m.\u001b[39;49mfit(X_train, y_train)\n",
      "File \u001b[0;32m/usr/local/lib/python3.10/dist-packages/sklearn/neural_network/_multilayer_perceptron.py:762\u001b[0m, in \u001b[0;36mBaseMultilayerPerceptron.fit\u001b[0;34m(self, X, y)\u001b[0m\n\u001b[1;32m    745\u001b[0m \u001b[39mdef\u001b[39;00m \u001b[39mfit\u001b[39m(\u001b[39mself\u001b[39m, X, y):\n\u001b[1;32m    746\u001b[0m     \u001b[39m\"\"\"Fit the model to data matrix X and target(s) y.\u001b[39;00m\n\u001b[1;32m    747\u001b[0m \n\u001b[1;32m    748\u001b[0m \u001b[39m    Parameters\u001b[39;00m\n\u001b[0;32m   (...)\u001b[0m\n\u001b[1;32m    760\u001b[0m \u001b[39m        Returns a trained MLP model.\u001b[39;00m\n\u001b[1;32m    761\u001b[0m \u001b[39m    \"\"\"\u001b[39;00m\n\u001b[0;32m--> 762\u001b[0m     \u001b[39mreturn\u001b[39;00m \u001b[39mself\u001b[39;49m\u001b[39m.\u001b[39;49m_fit(X, y, incremental\u001b[39m=\u001b[39;49m\u001b[39mFalse\u001b[39;49;00m)\n",
      "File \u001b[0;32m/usr/local/lib/python3.10/dist-packages/sklearn/neural_network/_multilayer_perceptron.py:394\u001b[0m, in \u001b[0;36mBaseMultilayerPerceptron._fit\u001b[0;34m(self, X, y, incremental)\u001b[0m\n\u001b[1;32m    387\u001b[0m     \u001b[39mraise\u001b[39;00m \u001b[39mValueError\u001b[39;00m(\n\u001b[1;32m    388\u001b[0m         \u001b[39m\"\u001b[39m\u001b[39mhidden_layer_sizes must be > 0, got \u001b[39m\u001b[39m%s\u001b[39;00m\u001b[39m.\u001b[39m\u001b[39m\"\u001b[39m \u001b[39m%\u001b[39m hidden_layer_sizes\n\u001b[1;32m    389\u001b[0m     )\n\u001b[1;32m    390\u001b[0m first_pass \u001b[39m=\u001b[39m \u001b[39mnot\u001b[39;00m \u001b[39mhasattr\u001b[39m(\u001b[39mself\u001b[39m, \u001b[39m\"\u001b[39m\u001b[39mcoefs_\u001b[39m\u001b[39m\"\u001b[39m) \u001b[39mor\u001b[39;00m (\n\u001b[1;32m    391\u001b[0m     \u001b[39mnot\u001b[39;00m \u001b[39mself\u001b[39m\u001b[39m.\u001b[39mwarm_start \u001b[39mand\u001b[39;00m \u001b[39mnot\u001b[39;00m incremental\n\u001b[1;32m    392\u001b[0m )\n\u001b[0;32m--> 394\u001b[0m X, y \u001b[39m=\u001b[39m \u001b[39mself\u001b[39;49m\u001b[39m.\u001b[39;49m_validate_input(X, y, incremental, reset\u001b[39m=\u001b[39;49mfirst_pass)\n\u001b[1;32m    396\u001b[0m n_samples, n_features \u001b[39m=\u001b[39m X\u001b[39m.\u001b[39mshape\n\u001b[1;32m    398\u001b[0m \u001b[39m# Ensure y is 2D\u001b[39;00m\n",
      "File \u001b[0;32m/usr/local/lib/python3.10/dist-packages/sklearn/neural_network/_multilayer_perceptron.py:1597\u001b[0m, in \u001b[0;36mMLPRegressor._validate_input\u001b[0;34m(self, X, y, incremental, reset)\u001b[0m\n\u001b[1;32m   1596\u001b[0m \u001b[39mdef\u001b[39;00m \u001b[39m_validate_input\u001b[39m(\u001b[39mself\u001b[39m, X, y, incremental, reset):\n\u001b[0;32m-> 1597\u001b[0m     X, y \u001b[39m=\u001b[39m \u001b[39mself\u001b[39;49m\u001b[39m.\u001b[39;49m_validate_data(\n\u001b[1;32m   1598\u001b[0m         X,\n\u001b[1;32m   1599\u001b[0m         y,\n\u001b[1;32m   1600\u001b[0m         accept_sparse\u001b[39m=\u001b[39;49m[\u001b[39m\"\u001b[39;49m\u001b[39mcsr\u001b[39;49m\u001b[39m\"\u001b[39;49m, \u001b[39m\"\u001b[39;49m\u001b[39mcsc\u001b[39;49m\u001b[39m\"\u001b[39;49m],\n\u001b[1;32m   1601\u001b[0m         multi_output\u001b[39m=\u001b[39;49m\u001b[39mTrue\u001b[39;49;00m,\n\u001b[1;32m   1602\u001b[0m         y_numeric\u001b[39m=\u001b[39;49m\u001b[39mTrue\u001b[39;49;00m,\n\u001b[1;32m   1603\u001b[0m         dtype\u001b[39m=\u001b[39;49m(np\u001b[39m.\u001b[39;49mfloat64, np\u001b[39m.\u001b[39;49mfloat32),\n\u001b[1;32m   1604\u001b[0m         reset\u001b[39m=\u001b[39;49mreset,\n\u001b[1;32m   1605\u001b[0m     )\n\u001b[1;32m   1606\u001b[0m     \u001b[39mif\u001b[39;00m y\u001b[39m.\u001b[39mndim \u001b[39m==\u001b[39m \u001b[39m2\u001b[39m \u001b[39mand\u001b[39;00m y\u001b[39m.\u001b[39mshape[\u001b[39m1\u001b[39m] \u001b[39m==\u001b[39m \u001b[39m1\u001b[39m:\n\u001b[1;32m   1607\u001b[0m         y \u001b[39m=\u001b[39m column_or_1d(y, warn\u001b[39m=\u001b[39m\u001b[39mTrue\u001b[39;00m)\n",
      "File \u001b[0;32m/usr/local/lib/python3.10/dist-packages/sklearn/base.py:596\u001b[0m, in \u001b[0;36mBaseEstimator._validate_data\u001b[0;34m(self, X, y, reset, validate_separately, **check_params)\u001b[0m\n\u001b[1;32m    594\u001b[0m         y \u001b[39m=\u001b[39m check_array(y, input_name\u001b[39m=\u001b[39m\u001b[39m\"\u001b[39m\u001b[39my\u001b[39m\u001b[39m\"\u001b[39m, \u001b[39m*\u001b[39m\u001b[39m*\u001b[39mcheck_y_params)\n\u001b[1;32m    595\u001b[0m     \u001b[39melse\u001b[39;00m:\n\u001b[0;32m--> 596\u001b[0m         X, y \u001b[39m=\u001b[39m check_X_y(X, y, \u001b[39m*\u001b[39;49m\u001b[39m*\u001b[39;49mcheck_params)\n\u001b[1;32m    597\u001b[0m     out \u001b[39m=\u001b[39m X, y\n\u001b[1;32m    599\u001b[0m \u001b[39mif\u001b[39;00m \u001b[39mnot\u001b[39;00m no_val_X \u001b[39mand\u001b[39;00m check_params\u001b[39m.\u001b[39mget(\u001b[39m\"\u001b[39m\u001b[39mensure_2d\u001b[39m\u001b[39m\"\u001b[39m, \u001b[39mTrue\u001b[39;00m):\n",
      "File \u001b[0;32m/usr/local/lib/python3.10/dist-packages/sklearn/utils/validation.py:1074\u001b[0m, in \u001b[0;36mcheck_X_y\u001b[0;34m(X, y, accept_sparse, accept_large_sparse, dtype, order, copy, force_all_finite, ensure_2d, allow_nd, multi_output, ensure_min_samples, ensure_min_features, y_numeric, estimator)\u001b[0m\n\u001b[1;32m   1069\u001b[0m         estimator_name \u001b[39m=\u001b[39m _check_estimator_name(estimator)\n\u001b[1;32m   1070\u001b[0m     \u001b[39mraise\u001b[39;00m \u001b[39mValueError\u001b[39;00m(\n\u001b[1;32m   1071\u001b[0m         \u001b[39mf\u001b[39m\u001b[39m\"\u001b[39m\u001b[39m{\u001b[39;00mestimator_name\u001b[39m}\u001b[39;00m\u001b[39m requires y to be passed, but the target y is None\u001b[39m\u001b[39m\"\u001b[39m\n\u001b[1;32m   1072\u001b[0m     )\n\u001b[0;32m-> 1074\u001b[0m X \u001b[39m=\u001b[39m check_array(\n\u001b[1;32m   1075\u001b[0m     X,\n\u001b[1;32m   1076\u001b[0m     accept_sparse\u001b[39m=\u001b[39;49maccept_sparse,\n\u001b[1;32m   1077\u001b[0m     accept_large_sparse\u001b[39m=\u001b[39;49maccept_large_sparse,\n\u001b[1;32m   1078\u001b[0m     dtype\u001b[39m=\u001b[39;49mdtype,\n\u001b[1;32m   1079\u001b[0m     order\u001b[39m=\u001b[39;49morder,\n\u001b[1;32m   1080\u001b[0m     copy\u001b[39m=\u001b[39;49mcopy,\n\u001b[1;32m   1081\u001b[0m     force_all_finite\u001b[39m=\u001b[39;49mforce_all_finite,\n\u001b[1;32m   1082\u001b[0m     ensure_2d\u001b[39m=\u001b[39;49mensure_2d,\n\u001b[1;32m   1083\u001b[0m     allow_nd\u001b[39m=\u001b[39;49mallow_nd,\n\u001b[1;32m   1084\u001b[0m     ensure_min_samples\u001b[39m=\u001b[39;49mensure_min_samples,\n\u001b[1;32m   1085\u001b[0m     ensure_min_features\u001b[39m=\u001b[39;49mensure_min_features,\n\u001b[1;32m   1086\u001b[0m     estimator\u001b[39m=\u001b[39;49mestimator,\n\u001b[1;32m   1087\u001b[0m     input_name\u001b[39m=\u001b[39;49m\u001b[39m\"\u001b[39;49m\u001b[39mX\u001b[39;49m\u001b[39m\"\u001b[39;49m,\n\u001b[1;32m   1088\u001b[0m )\n\u001b[1;32m   1090\u001b[0m y \u001b[39m=\u001b[39m _check_y(y, multi_output\u001b[39m=\u001b[39mmulti_output, y_numeric\u001b[39m=\u001b[39my_numeric, estimator\u001b[39m=\u001b[39mestimator)\n\u001b[1;32m   1092\u001b[0m check_consistent_length(X, y)\n",
      "File \u001b[0;32m/usr/local/lib/python3.10/dist-packages/sklearn/utils/validation.py:768\u001b[0m, in \u001b[0;36mcheck_array\u001b[0;34m(array, accept_sparse, accept_large_sparse, dtype, order, copy, force_all_finite, ensure_2d, allow_nd, ensure_min_samples, ensure_min_features, estimator, input_name)\u001b[0m\n\u001b[1;32m    764\u001b[0m     pandas_requires_conversion \u001b[39m=\u001b[39m \u001b[39many\u001b[39m(\n\u001b[1;32m    765\u001b[0m         _pandas_dtype_needs_early_conversion(i) \u001b[39mfor\u001b[39;00m i \u001b[39min\u001b[39;00m dtypes_orig\n\u001b[1;32m    766\u001b[0m     )\n\u001b[1;32m    767\u001b[0m     \u001b[39mif\u001b[39;00m \u001b[39mall\u001b[39m(\u001b[39misinstance\u001b[39m(dtype_iter, np\u001b[39m.\u001b[39mdtype) \u001b[39mfor\u001b[39;00m dtype_iter \u001b[39min\u001b[39;00m dtypes_orig):\n\u001b[0;32m--> 768\u001b[0m         dtype_orig \u001b[39m=\u001b[39m np\u001b[39m.\u001b[39;49mresult_type(\u001b[39m*\u001b[39;49mdtypes_orig)\n\u001b[1;32m    770\u001b[0m \u001b[39mif\u001b[39;00m dtype_numeric:\n\u001b[1;32m    771\u001b[0m     \u001b[39mif\u001b[39;00m dtype_orig \u001b[39mis\u001b[39;00m \u001b[39mnot\u001b[39;00m \u001b[39mNone\u001b[39;00m \u001b[39mand\u001b[39;00m dtype_orig\u001b[39m.\u001b[39mkind \u001b[39m==\u001b[39m \u001b[39m\"\u001b[39m\u001b[39mO\u001b[39m\u001b[39m\"\u001b[39m:\n\u001b[1;32m    772\u001b[0m         \u001b[39m# if input is object, convert to float.\u001b[39;00m\n",
      "File \u001b[0;32m<__array_function__ internals>:180\u001b[0m, in \u001b[0;36mresult_type\u001b[0;34m(*args, **kwargs)\u001b[0m\n",
      "\u001b[0;31mTypeError\u001b[0m: The DType <class 'numpy.dtype[datetime64]'> could not be promoted by <class 'numpy.dtype[float32]'>. This means that no common DType exists for the given inputs. For example they cannot be stored in a single array unless the dtype is `object`. The full list of DTypes is: (<class 'numpy.dtype[datetime64]'>, <class 'numpy.dtype[int64]'>, <class 'numpy.dtype[int64]'>, <class 'numpy.dtype[int64]'>, <class 'numpy.dtype[int64]'>, <class 'numpy.dtype[int64]'>, <class 'numpy.dtype[float32]'>, <class 'numpy.dtype[float32]'>, <class 'numpy.dtype[float32]'>, <class 'numpy.dtype[int64]'>, <class 'numpy.dtype[int64]'>, <class 'numpy.dtype[int64]'>, <class 'numpy.dtype[float32]'>, <class 'numpy.dtype[float32]'>, <class 'numpy.dtype[float32]'>, <class 'numpy.dtype[float32]'>, <class 'numpy.dtype[float32]'>, <class 'numpy.dtype[float32]'>, <class 'numpy.dtype[float32]'>, <class 'numpy.dtype[float32]'>, <class 'numpy.dtype[float32]'>, <class 'numpy.dtype[float32]'>, <class 'numpy.dtype[float32]'>, <class 'numpy.dtype[float32]'>, <class 'numpy.dtype[float32]'>, <class 'numpy.dtype[float32]'>, <class 'numpy.dtype[int64]'>, <class 'numpy.dtype[int64]'>)"
     ]
    }
   ],
   "source": [
    "reg.fit(X_train, y_train)"
   ]
  },
  {
   "cell_type": "code",
   "execution_count": null,
   "metadata": {},
   "outputs": [],
   "source": [
    "def encoder(data):\n",
    "    data = np.asmatrix(data)\n",
    "    \n",
    "    encoder1 = data*reg.coefs_[0] + reg.intercepts_[0]\n",
    "    encoder1 = (np.exp(encoder1) - np.exp(-encoder1))/(np.exp(encoder1) + np.exp(-encoder1))\n",
    "    \n",
    "    encoder2 = encoder1*reg.coefs_[1] + reg.intercepts_[1]\n",
    "    encoder2 = (np.exp(encoder2) - np.exp(-encoder2))/(np.exp(encoder2) + np.exp(-encoder2))\n",
    "    \n",
    "    latent = encoder2*reg.coefs_[2] + reg.intercepts_[2]\n",
    "    latent = (np.exp(latent) - np.exp(-latent))/(np.exp(latent) + np.exp(-latent))\n",
    "    \n",
    "    return np.asarray(latent)\n",
    "\n",
    "test_latent = encoder(X_train)\n"
   ]
  },
  {
   "cell_type": "code",
   "execution_count": null,
   "metadata": {},
   "outputs": [
    {
     "data": {
      "image/png": "[encoded data removed]",
      "text/plain": [
       "<Figure size 432x288 with 1 Axes>"
      ]
     },
     "metadata": {
      "needs_background": "light"
     },
     "output_type": "display_data"
    }
   ],
   "source": [
    "plt.scatter(test_latent[:, 0], test_latent[:, 1])\n",
    "plt.grid()\n",
    "plt.show()"
   ]
  },
  {
   "cell_type": "markdown",
   "metadata": {},
   "source": [
    "# Model selection"
   ]
  },
  {
   "cell_type": "markdown",
   "metadata": {},
   "source": [
    "### Decision Trees"
   ]
  },
  {
   "cell_type": "markdown",
   "metadata": {},
   "source": [
    "#### Analysis"
   ]
  },
  {
   "cell_type": "code",
   "execution_count": null,
   "metadata": {},
   "outputs": [
    {
     "data": {
      "image/png": "[encoded data removed]",
      "text/plain": [
       "<Figure size 640x480 with 1 Axes>"
      ]
     },
     "metadata": {},
     "output_type": "display_data"
    }
   ],
   "source": [
    "rmse = []\n",
    "max_depth = []\n",
    "for k in range(1, 30):\n",
    "    rmse_val = fit_clf_scaler_cv(DecisionTreeRegressor, X_train,y_train, {\"max_depth\": k}, {\"verbose\": 0}, n_features=25) \n",
    "    rmse.append(rmse_val)\t\n",
    "    max_depth.append(k)\n",
    "\n",
    "df = pd.DataFrame({'RMSE': rmse,'max_depth':max_depth})\n",
    "plt.title('Influence of the max depth - Decision Tree Regression - 5 fold CV')\n",
    "plt.xlabel('Max depth')\n",
    "plt.ylabel('RMSE')\n",
    "plt.grid()\n",
    "plt.plot(df['max_depth'], df['RMSE'])\n",
    "plt.show()"
   ]
  },
  {
   "cell_type": "code",
   "execution_count": null,
   "metadata": {},
   "outputs": [
    {
     "name": "stdout",
     "output_type": "stream",
     "text": [
      "Best params:  {'max_depth': 4, 'min_samples_split': 2}\n",
      "Best score:  0.3336581268285735\n"
     ]
    }
   ],
   "source": [
    "parameters = {'max_depth':np.arange(1, 15), 'min_samples_split':np.arange(2, 5)}\n",
    "clf = GridSearchCV(DecisionTreeRegressor(), parameters)\n",
    "clf.fit(X_train, y_train)\n",
    "print('Best params: ', clf.best_params_)\n",
    "print('Best score: ', clf.best_score_)"
   ]
  },
  {
   "cell_type": "markdown",
   "metadata": {},
   "source": [
    "#### Model selection"
   ]
  },
  {
   "cell_type": "code",
   "execution_count": null,
   "metadata": {},
   "outputs": [
    {
     "name": "stdout",
     "output_type": "stream",
     "text": [
      "r_squared:  0.2242846742482203\n",
      "rmse:  37.65442950647824\n"
     ]
    }
   ],
   "source": [
    "clf_params = {'max_depth': 4, 'min_samples_split': 2}\n",
    "pipe = fit_clf_scaler(DecisionTreeRegressor, X_train, y_train, clf_params)\n",
    "r_squared = pipe.score(X_test,y_test)\n",
    "y_pred = pipe.predict(X_test)\n",
    "rmse = mean_squared_error(y_pred, y_test)**(1/2)\n",
    "\n",
    "print('r_squared: ', r_squared)\n",
    "print('rmse: ', rmse)"
   ]
  },
  {
   "cell_type": "markdown",
   "metadata": {},
   "source": [
    "### SVM"
   ]
  },
  {
   "cell_type": "markdown",
   "metadata": {},
   "source": [
    "#### Optimization"
   ]
  },
  {
   "cell_type": "code",
   "execution_count": null,
   "metadata": {},
   "outputs": [],
   "source": [
    "\n",
    "def objective(trial: optuna.trial.Trial):\n",
    "\n",
    "    parameters = {\n",
    "        'kernel': trial.suggest_categorical('kernel', ['linear', 'poly', 'rbf', 'sigmoid']),\n",
    "        'C': trial.suggest_float('C', 1e-3, 1e3),\n",
    "        'epsilon': trial.suggest_float('epsilon', 1e-3, 1)\n",
    "    }\n",
    "\n",
    "    clf = svm.SVR\n",
    "    return -fit_clf_scaler(clf, X_train, y_train, parameters)\n",
    "\n",
    "study = optuna.create_study()\n",
    "study.optimize(objective, n_trials=1)\n"
   ]
  },
  {
   "cell_type": "markdown",
   "metadata": {},
   "source": [
    "#### Model selection"
   ]
  },
  {
   "cell_type": "code",
   "execution_count": null,
   "metadata": {},
   "outputs": [
    {
     "name": "stdout",
     "output_type": "stream",
     "text": [
      "[Pipeline] .... (step 1 of 4) Processing median_imputer, total=   0.0s\n",
      "[Pipeline] ............ (step 2 of 4) Processing scaler, total=   0.0s\n",
      "[Pipeline] ............... (step 3 of 4) Processing pca, total=   0.0s\n",
      "[Pipeline] ............... (step 4 of 4) Processing svr, total=  44.3s\n",
      "r_squared:  0.30768109889754514\n",
      "rmse:  35.5727942482594\n"
     ]
    }
   ],
   "source": [
    "clf_params = {'kernel': 'rbf', 'C': 595.6756199722245, 'epsilon': 0.8771538699650302}\n",
    "pipe = fit_clf_scaler(svm.SVR, X_train, y_train, clf_params, {\"verbose\": 1})\n",
    "r_squared = pipe.score(X_test,y_test)\n",
    "y_pred = pipe.predict(X_test)\n",
    "rmse = mean_squared_error(y_pred, y_test)**(1/2)\n",
    "\n",
    "print('r_squared: ', r_squared)\n",
    "print('rmse: ', rmse)"
   ]
  },
  {
   "cell_type": "markdown",
   "metadata": {},
   "source": [
    "### AdaBoost"
   ]
  },
  {
   "cell_type": "markdown",
   "metadata": {},
   "source": [
    "#### Optimization"
   ]
  },
  {
   "cell_type": "code",
   "execution_count": null,
   "metadata": {},
   "outputs": [
    {
     "name": "stderr",
     "output_type": "stream",
     "text": [
      "\u001b[32m[I 2022-10-25 20:13:25,943]\u001b[0m A new study created in memory with name: no-name-fe4bc88d-2ebe-4483-a0cb-36e440b5cfd1\u001b[0m\n",
      "\u001b[32m[I 2022-10-25 20:13:30,579]\u001b[0m Trial 0 finished with value: 0.775794758150748 and parameters: {'n_estimators': 200, 'learning_rate': 0.3890851033130652}. Best is trial 0 with value: 0.775794758150748.\u001b[0m\n",
      "\u001b[32m[I 2022-10-25 20:13:34,626]\u001b[0m Trial 1 finished with value: 1.4470120718879524 and parameters: {'n_estimators': 107, 'learning_rate': 0.5049110671832184}. Best is trial 0 with value: 0.775794758150748.\u001b[0m\n",
      "\u001b[32m[I 2022-10-25 20:13:39,200]\u001b[0m Trial 2 finished with value: 1.0269724904664261 and parameters: {'n_estimators': 177, 'learning_rate': 0.4116827080077768}. Best is trial 0 with value: 0.775794758150748.\u001b[0m\n",
      "\u001b[32m[I 2022-10-25 20:13:44,815]\u001b[0m Trial 3 finished with value: 1.4601433789501144 and parameters: {'n_estimators': 174, 'learning_rate': 0.33538487460819755}. Best is trial 0 with value: 0.775794758150748.\u001b[0m\n",
      "\u001b[32m[I 2022-10-25 20:13:49,333]\u001b[0m Trial 4 finished with value: 0.7154979268822259 and parameters: {'n_estimators': 56, 'learning_rate': 0.3413479621565723}. Best is trial 4 with value: 0.7154979268822259.\u001b[0m\n",
      "\u001b[32m[I 2022-10-25 20:13:56,491]\u001b[0m Trial 5 finished with value: 0.23297038136489362 and parameters: {'n_estimators': 97, 'learning_rate': 0.16406204109777842}. Best is trial 5 with value: 0.23297038136489362.\u001b[0m\n",
      "\u001b[32m[I 2022-10-25 20:13:58,773]\u001b[0m Trial 6 finished with value: 0.4214192064394989 and parameters: {'n_estimators': 18, 'learning_rate': 0.9458185375224981}. Best is trial 5 with value: 0.23297038136489362.\u001b[0m\n",
      "\u001b[32m[I 2022-10-25 20:14:04,717]\u001b[0m Trial 7 finished with value: -0.20732708610150336 and parameters: {'n_estimators': 58, 'learning_rate': 0.09109878174282131}. Best is trial 7 with value: -0.20732708610150336.\u001b[0m\n",
      "\u001b[32m[I 2022-10-25 20:14:21,751]\u001b[0m Trial 8 finished with value: -0.16756444014489735 and parameters: {'n_estimators': 195, 'learning_rate': 0.02612760572593917}. Best is trial 7 with value: -0.20732708610150336.\u001b[0m\n",
      "\u001b[32m[I 2022-10-25 20:14:24,931]\u001b[0m Trial 9 finished with value: 3.373624065363495 and parameters: {'n_estimators': 119, 'learning_rate': 0.9617041908836014}. Best is trial 7 with value: -0.20732708610150336.\u001b[0m\n"
     ]
    }
   ],
   "source": [
    "\n",
    "def objective(trial: optuna.trial.Trial):\n",
    "\n",
    "    parameters = {\n",
    "        'n_estimators': trial.suggest_int('n_estimators', 1, 200),\n",
    "        'learning_rate': trial.suggest_float('learning_rate', 1e-6, 1)\n",
    "    }\n",
    "\n",
    "    clf = AdaBoostRegressor\n",
    "    return -fit_clf_scaler(clf, X_train, y_train, parameters, n_features=5)\n",
    "\n",
    "study = optuna.create_study()\n",
    "study.optimize(objective, n_trials=10)\n"
   ]
  },
  {
   "cell_type": "markdown",
   "metadata": {},
   "source": [
    "#### Model selection"
   ]
  },
  {
   "cell_type": "code",
   "execution_count": null,
   "metadata": {},
   "outputs": [
    {
     "name": "stdout",
     "output_type": "stream",
     "text": [
      "[Pipeline] .... (step 1 of 4) Processing median_imputer, total=   0.0s\n",
      "[Pipeline] ............ (step 2 of 4) Processing scaler, total=   0.0s\n",
      "[Pipeline] ............... (step 3 of 4) Processing pca, total=   0.0s\n",
      "[Pipeline] ............... (step 4 of 4) Processing svr, total=   1.9s\n",
      "r_squared:  -0.6360480529177475\n",
      "rmse:  54.684332314896224\n"
     ]
    }
   ],
   "source": [
    "clf_params = {'n_estimators': 119, 'learning_rate': 0.9617041908836014}\n",
    "pipe = fit_clf_scaler(AdaBoostRegressor, X_train, y_train, clf_params, {\"verbose\": 1})\n",
    "r_squared = pipe.score(X_test,y_test)\n",
    "y_pred = pipe.predict(X_test)\n",
    "rmse = mean_squared_error(y_pred, y_test)**(1/2)\n",
    "\n",
    "print('r_squared: ', r_squared)\n",
    "print('rmse: ', rmse)"
   ]
  },
  {
   "cell_type": "markdown",
   "metadata": {},
   "source": [
    "### KNN"
   ]
  },
  {
   "cell_type": "markdown",
   "metadata": {},
   "source": [
    "#### Optimization"
   ]
  },
  {
   "cell_type": "code",
   "execution_count": null,
   "metadata": {},
   "outputs": [
    {
     "name": "stderr",
     "output_type": "stream",
     "text": [
      "\u001b[32m[I 2022-10-27 01:37:03,160]\u001b[0m A new study created in memory with name: no-name-c7ca8a52-e9db-4024-b790-be06983f4bda\u001b[0m\n",
      "\u001b[32m[I 2022-10-27 01:37:06,247]\u001b[0m Trial 1 finished with value: 37.269399946280224 and parameters: {'n_neighbors': 9, 'leaf_size': 30}. Best is trial 1 with value: 37.269399946280224.\u001b[0m\n",
      "\u001b[32m[I 2022-10-27 01:37:06,285]\u001b[0m Trial 0 finished with value: 38.44130324211633 and parameters: {'n_neighbors': 5, 'leaf_size': 34}. Best is trial 1 with value: 37.269399946280224.\u001b[0m\n",
      "\u001b[32m[I 2022-10-27 01:37:06,578]\u001b[0m Trial 7 finished with value: 48.80545560087855 and parameters: {'n_neighbors': 1, 'leaf_size': 18}. Best is trial 1 with value: 37.269399946280224.\u001b[0m\n",
      "\u001b[32m[I 2022-10-27 01:37:06,970]\u001b[0m Trial 6 finished with value: 36.55611760119297 and parameters: {'n_neighbors': 35, 'leaf_size': 44}. Best is trial 6 with value: 36.55611760119297.\u001b[0m\n",
      "\u001b[32m[I 2022-10-27 01:37:07,477]\u001b[0m Trial 4 finished with value: 36.94531607533883 and parameters: {'n_neighbors': 78, 'leaf_size': 41}. Best is trial 6 with value: 36.55611760119297.\u001b[0m\n",
      "\u001b[32m[I 2022-10-27 01:37:07,886]\u001b[0m Trial 3 finished with value: 37.4479011767174 and parameters: {'n_neighbors': 127, 'leaf_size': 10}. Best is trial 6 with value: 36.55611760119297.\u001b[0m\n",
      "\u001b[32m[I 2022-10-27 01:37:08,165]\u001b[0m Trial 5 finished with value: 37.8639695101339 and parameters: {'n_neighbors': 186, 'leaf_size': 39}. Best is trial 6 with value: 36.55611760119297.\u001b[0m\n",
      "\u001b[32m[I 2022-10-27 01:37:08,567]\u001b[0m Trial 2 finished with value: 37.908732536705315 and parameters: {'n_neighbors': 194, 'leaf_size': 22}. Best is trial 6 with value: 36.55611760119297.\u001b[0m\n",
      "\u001b[32m[I 2022-10-27 01:37:09,780]\u001b[0m Trial 9 finished with value: 36.73335616403669 and parameters: {'n_neighbors': 19, 'leaf_size': 32}. Best is trial 6 with value: 36.55611760119297.\u001b[0m\n",
      "\u001b[32m[I 2022-10-27 01:37:10,153]\u001b[0m Trial 8 finished with value: 36.73063454971009 and parameters: {'n_neighbors': 55, 'leaf_size': 44}. Best is trial 6 with value: 36.55611760119297.\u001b[0m\n",
      "\u001b[32m[I 2022-10-27 01:37:11,574]\u001b[0m Trial 12 finished with value: 36.77211254242281 and parameters: {'n_neighbors': 60, 'leaf_size': 47}. Best is trial 6 with value: 36.55611760119297.\u001b[0m\n",
      "\u001b[32m[I 2022-10-27 01:37:11,746]\u001b[0m Trial 15 finished with value: 36.89353800259194 and parameters: {'n_neighbors': 12, 'leaf_size': 31}. Best is trial 6 with value: 36.55611760119297.\u001b[0m\n",
      "\u001b[32m[I 2022-10-27 01:37:11,848]\u001b[0m Trial 10 finished with value: 37.310508892545286 and parameters: {'n_neighbors': 111, 'leaf_size': 50}. Best is trial 6 with value: 36.55611760119297.\u001b[0m\n",
      "\u001b[32m[I 2022-10-27 01:37:12,008]\u001b[0m Trial 11 finished with value: 37.84667152016925 and parameters: {'n_neighbors': 183, 'leaf_size': 38}. Best is trial 6 with value: 36.55611760119297.\u001b[0m\n",
      "\u001b[32m[I 2022-10-27 01:37:12,988]\u001b[0m Trial 13 finished with value: 37.680952886320384 and parameters: {'n_neighbors': 156, 'leaf_size': 15}. Best is trial 6 with value: 36.55611760119297.\u001b[0m\n",
      "\u001b[32m[I 2022-10-27 01:37:13,575]\u001b[0m Trial 16 finished with value: 36.56464423289272 and parameters: {'n_neighbors': 41, 'leaf_size': 33}. Best is trial 6 with value: 36.55611760119297.\u001b[0m\n",
      "\u001b[32m[I 2022-10-27 01:37:13,676]\u001b[0m Trial 14 finished with value: 37.84667152016925 and parameters: {'n_neighbors': 183, 'leaf_size': 10}. Best is trial 6 with value: 36.55611760119297.\u001b[0m\n",
      "\u001b[32m[I 2022-10-27 01:37:14,957]\u001b[0m Trial 17 finished with value: 37.50588190147803 and parameters: {'n_neighbors': 134, 'leaf_size': 50}. Best is trial 6 with value: 36.55611760119297.\u001b[0m\n",
      "\u001b[32m[I 2022-10-27 01:37:15,362]\u001b[0m Trial 18 finished with value: 36.633684224765034 and parameters: {'n_neighbors': 49, 'leaf_size': 50}. Best is trial 6 with value: 36.55611760119297.\u001b[0m\n",
      "\u001b[32m[I 2022-10-27 01:37:15,674]\u001b[0m Trial 19 finished with value: 36.764899577247306 and parameters: {'n_neighbors': 59, 'leaf_size': 50}. Best is trial 6 with value: 36.55611760119297.\u001b[0m\n",
      "\u001b[32m[I 2022-10-27 01:37:15,833]\u001b[0m Trial 20 finished with value: 36.65389838875636 and parameters: {'n_neighbors': 51, 'leaf_size': 42}. Best is trial 6 with value: 36.55611760119297.\u001b[0m\n",
      "\u001b[32m[I 2022-10-27 01:37:16,072]\u001b[0m Trial 21 finished with value: 36.65389838875636 and parameters: {'n_neighbors': 51, 'leaf_size': 45}. Best is trial 6 with value: 36.55611760119297.\u001b[0m\n",
      "\u001b[32m[I 2022-10-27 01:37:17,193]\u001b[0m Trial 22 finished with value: 36.65389838875636 and parameters: {'n_neighbors': 51, 'leaf_size': 44}. Best is trial 6 with value: 36.55611760119297.\u001b[0m\n",
      "\u001b[32m[I 2022-10-27 01:37:17,244]\u001b[0m Trial 23 finished with value: 36.549210222722934 and parameters: {'n_neighbors': 39, 'leaf_size': 36}. Best is trial 23 with value: 36.549210222722934.\u001b[0m\n",
      "\u001b[32m[I 2022-10-27 01:37:17,366]\u001b[0m Trial 24 finished with value: 36.56464423289272 and parameters: {'n_neighbors': 41, 'leaf_size': 26}. Best is trial 23 with value: 36.549210222722934.\u001b[0m\n",
      "\u001b[32m[I 2022-10-27 01:37:17,948]\u001b[0m Trial 25 finished with value: 36.54304344068159 and parameters: {'n_neighbors': 36, 'leaf_size': 25}. Best is trial 25 with value: 36.54304344068159.\u001b[0m\n",
      "\u001b[32m[I 2022-10-27 01:37:18,190]\u001b[0m Trial 27 finished with value: 36.60689856808713 and parameters: {'n_neighbors': 29, 'leaf_size': 24}. Best is trial 25 with value: 36.54304344068159.\u001b[0m\n",
      "\u001b[32m[I 2022-10-27 01:37:18,289]\u001b[0m Trial 29 finished with value: 36.60689856808713 and parameters: {'n_neighbors': 29, 'leaf_size': 24}. Best is trial 25 with value: 36.54304344068159.\u001b[0m\n",
      "\u001b[32m[I 2022-10-27 01:37:18,367]\u001b[0m Trial 28 finished with value: 36.55611760119297 and parameters: {'n_neighbors': 35, 'leaf_size': 26}. Best is trial 25 with value: 36.54304344068159.\u001b[0m\n",
      "\u001b[32m[I 2022-10-27 01:37:18,392]\u001b[0m Trial 26 finished with value: 37.00952300418429 and parameters: {'n_neighbors': 84, 'leaf_size': 26}. Best is trial 25 with value: 36.54304344068159.\u001b[0m\n"
     ]
    }
   ],
   "source": [
    "from sklearn.ensemble import GradientBoostingRegressor\n",
    "\n",
    "def fit_clf_scaler_cv(clf, X, y, clf_params, imputer_params, n_features=43):\n",
    "    X = X.reset_index(drop=True)\n",
    "    y = y.reset_index(drop=True)\n",
    "    kf = KFold(n_splits=5)\n",
    "    \n",
    "    metric = []\n",
    "    imputer = KNNImputer(**imputer_params)\n",
    "    imputed = imputer.fit_transform(X)\n",
    "    X = pd.DataFrame(imputed, columns=X.columns)\n",
    "\n",
    "    for train_index, test_index in kf.split(X):\n",
    "        X_train, X_test = X.loc[train_index], X.loc[test_index]\n",
    "        y_train, y_test = y.loc[train_index], y.loc[test_index]\n",
    "\n",
    "        pipe = Pipeline([\n",
    "        ('scaler', StandardScaler()),\n",
    "        ('pca', PCA(n_components=n_features)),\n",
    "        ('svr', clf(**clf_params))])\n",
    "        \n",
    "        pipe.fit(X_train,y_train)\n",
    "        y_pred = pipe.predict(X_test)\n",
    "        rmse = mean_squared_error(y_pred, y_test)**(1/2)\n",
    "        metric.append(rmse)\n",
    "    return np.array(metric).mean()\n",
    "\n",
    "\n",
    "def objective(trial: optuna.trial.Trial):\n",
    "\n",
    "    trial_suggestion = {\n",
    "        'n_neighbors': trial.suggest_int('n_neighbors', 1, 200),\n",
    "        'leaf_size': trial.suggest_int('leaf_size', 10, 50),\n",
    "    }\n",
    "\n",
    "    clf_params = {\n",
    "        'n_neighbors': trial_suggestion['n_neighbors'],\n",
    "        'leaf_size': trial_suggestion['leaf_size'],\n",
    "        'n_jobs': -1\n",
    "    }\n",
    "    imputer_params = {\n",
    "        \"n_neighbors\": 3\n",
    "    }\n",
    "\n",
    "    clf = KNeighborsRegressor\n",
    "    return fit_clf_scaler_cv(clf, X_train, y_train, clf_params, imputer_params, n_features=28)\n",
    "\n",
    "study = optuna.create_study()\n",
    "study.optimize(objective, n_trials=30, n_jobs=-1)\n",
    "\n"
   ]
  },
  {
   "cell_type": "markdown",
   "metadata": {},
   "source": [
    "#### Model Selection"
   ]
  },
  {
   "cell_type": "code",
   "execution_count": null,
   "metadata": {},
   "outputs": [
    {
     "name": "stdout",
     "output_type": "stream",
     "text": [
      "[Pipeline] .... (step 1 of 4) Processing median_imputer, total=   0.0s\n",
      "[Pipeline] ............ (step 2 of 4) Processing scaler, total=   0.0s\n",
      "[Pipeline] ............... (step 3 of 4) Processing pca, total=   0.0s\n",
      "[Pipeline] ............... (step 4 of 4) Processing svr, total=   0.0s\n",
      "r_squared:  0.40346567496980534\n",
      "rmse:  54.684332314896224\n"
     ]
    }
   ],
   "source": [
    "from sklearn.neighbors import KNeighborsRegressor\n",
    "\n",
    "clf_params =  {'n_neighbors': 84, 'leaf_size': 26}\n",
    "pipe = fit_clf_scaler(KNeighborsRegressor, X_train, y_train, clf_params, {\"verbose\": 1})\n",
    "r_squared = pipe.score(X_test,y_test)\n",
    "y_pred = pipe.predict(X_test)\n",
    "print('r_squared: ', r_squared)\n",
    "print('rmse: ', rmse)"
   ]
  },
  {
   "cell_type": "markdown",
   "metadata": {},
   "source": [
    "### Gradient Tree Boosting"
   ]
  },
  {
   "cell_type": "markdown",
   "metadata": {},
   "source": [
    "#### Optimization"
   ]
  },
  {
   "cell_type": "code",
   "execution_count": null,
   "metadata": {},
   "outputs": [],
   "source": [
    "from sklearn.ensemble import GradientBoostingRegressor\n",
    "\n",
    "def objective(trial: optuna.trial.Trial):\n",
    "\n",
    "    trial_suggestion = {\n",
    "        'n_estimators': trial.suggest_int('n_estimators', 1, 200),\n",
    "        'learning_rate': trial.suggest_float('learning_rate', 1e-6, 1),\n",
    "        'max_depth': trial.suggest_int('max_depth', 1, 20),\n",
    "        'n_neighbors': trial.suggest_int('n_neighbors',  2, 4),\n",
    "        'n_features': trial.suggest_int('n_features', 10, 54)\n",
    "    }\n",
    "\n",
    "    clf_params = {\n",
    "        'n_estimators': trial_suggestion['n_estimators'],\n",
    "        'learning_rate': trial_suggestion['learning_rate'],\n",
    "        'max_depth': trial_suggestion['max_depth'],\n",
    "    }\n",
    "    imputer_params = {\n",
    "        \"n_neighbors\": trial_suggestion['n_neighbors']\n",
    "    }\n",
    "\n",
    "    clf = GradientBoostingRegressor\n",
    "    return fit_clf_scaler_cv(clf, X_train, y_train, clf_params, imputer_params, n_features=trial_suggestion['n_features'])\n",
    "\n",
    "study = optuna.create_study()\n",
    "study.optimize(objective, n_trials=10, n_jobs=-1)\n",
    "\n"
   ]
  },
  {
   "cell_type": "markdown",
   "metadata": {},
   "source": [
    "#### Model selection"
   ]
  },
  {
   "cell_type": "code",
   "execution_count": null,
   "metadata": {},
   "outputs": [
    {
     "name": "stdout",
     "output_type": "stream",
     "text": [
      "[Pipeline] .... (step 1 of 4) Processing median_imputer, total=   0.0s\n",
      "[Pipeline] ............ (step 2 of 4) Processing scaler, total=   0.0s\n",
      "[Pipeline] ............... (step 3 of 4) Processing pca, total=   0.0s\n",
      "[Pipeline] ............... (step 4 of 4) Processing svr, total=   8.9s\n",
      "r_squared:  0.39520586923047696\n",
      "rmse:  33.24824071222853\n"
     ]
    }
   ],
   "source": [
    "clf_params = {'n_estimators': 178, 'learning_rate': 0.15253399946567545, 'max_depth': 2} \n",
    "pipe = fit_clf_scaler(GradientBoostingRegressor, X_train, y_train, clf_params, {\"verbose\": 1})\n",
    "r_squared = pipe.score(X_test,y_test)\n",
    "y_pred = pipe.predict(X_test)\n",
    "rmse = mean_squared_error(y_pred, y_test)**(1/2)\n",
    "\n",
    "print('r_squared: ', r_squared)\n",
    "print('rmse: ', rmse)"
   ]
  },
  {
   "cell_type": "markdown",
   "metadata": {},
   "source": [
    "### MLP"
   ]
  },
  {
   "cell_type": "markdown",
   "metadata": {},
   "source": [
    "#### Optimization"
   ]
  },
  {
   "cell_type": "code",
   "execution_count": 29,
   "metadata": {},
   "outputs": [
    {
     "name": "stderr",
     "output_type": "stream",
     "text": [
      "\u001b[32m[I 2022-10-27 20:47:12,745]\u001b[0m A new study created in memory with name: no-name-4ab3df21-fef9-4abf-873e-967f0db5baae\u001b[0m\n",
      "\u001b[32m[I 2022-10-27 20:50:43,389]\u001b[0m Trial 0 finished with value: 39.18192681088767 and parameters: {'first_layer': 97, 'second_layer': 75, 'activation': 'tanh'}. Best is trial 0 with value: 39.18192681088767.\u001b[0m\n"
     ]
    }
   ],
   "source": [
    "simplefilter(\"ignore\", category=ConvergenceWarning)\n",
    "def objective(trial: optuna.trial.Trial):\n",
    "\n",
    "    trial_suggestions = {\n",
    "        'first_layer': trial.suggest_int('first_layer', 1, 100),\n",
    "        'second_layer': trial.suggest_int('second_layer', 1, 100),\n",
    "        'activation': trial.suggest_categorical('activation', ['relu', 'logistic', 'tanh', 'relu'])\n",
    "    }\n",
    "\n",
    "    clf = MLPRegressor \n",
    "    clf_params = {\n",
    "        'hidden_layer_sizes': (trial_suggestions['first_layer'], trial_suggestions['second_layer']),#, trial_suggestions['third_layer']),\n",
    "        'activation': trial_suggestions['activation'],\n",
    "        'max_iter': 200,\n",
    "        'learning_rate': 'adaptive'\n",
    "    }\n",
    "    imputer_params = {\n",
    "        \"n_neighbors\": 3\n",
    "    }\n",
    "    return fit_clf_scaler_cv(clf, X_train, y_train, clf_params, {\"verbose\": 0})\n",
    "\n",
    "study = optuna.create_study()\n",
    "study.optimize(objective, n_trials=1)"
   ]
  },
  {
   "cell_type": "markdown",
   "metadata": {},
   "source": [
    "#### Model selection"
   ]
  },
  {
   "cell_type": "code",
   "execution_count": null,
   "metadata": {},
   "outputs": [
    {
     "name": "stdout",
     "output_type": "stream",
     "text": [
      "[Pipeline] .... (step 1 of 4) Processing median_imputer, total=   0.0s\n",
      "[Pipeline] ............ (step 2 of 4) Processing scaler, total=   0.0s\n",
      "[Pipeline] ............... (step 3 of 4) Processing pca, total=   0.0s\n"
     ]
    },
    {
     "name": "stderr",
     "output_type": "stream",
     "text": [
      "/usr/local/lib/python3.10/dist-packages/sklearn/neural_network/_multilayer_perceptron.py:702: ConvergenceWarning: Stochastic Optimizer: Maximum iterations (200) reached and the optimization hasn't converged yet.\n",
      "  warnings.warn(\n"
     ]
    },
    {
     "name": "stdout",
     "output_type": "stream",
     "text": [
      "[Pipeline] ............... (step 4 of 4) Processing svr, total=  37.9s\n",
      "r_squared:  0.40275436054341107\n",
      "rmse:  33.040102044507165\n"
     ]
    }
   ],
   "source": [
    "clf_params = {\n",
    "    \"hidden_layer_sizes\": (93, 47),\n",
    "    \"activation\": 'logistic'\n",
    "}\n",
    "pipe = fit_clf_scaler(sklearn.neural_network.MLPRegressor, X_train, y_train, clf_params, {\"verbose\": 1})\n",
    "r_squared = pipe.score(X_test,y_test)\n",
    "y_pred = pipe.predict(X_test)\n",
    "rmse = mean_squared_error(y_pred, y_test)**(1/2)\n",
    "\n",
    "print('r_squared: ', r_squared)\n",
    "print('rmse: ', rmse)"
   ]
  },
  {
   "cell_type": "markdown",
   "metadata": {},
   "source": [
    "### XGBoost"
   ]
  },
  {
   "cell_type": "markdown",
   "metadata": {},
   "source": [
    "#### Model selection"
   ]
  },
  {
   "cell_type": "code",
   "execution_count": null,
   "metadata": {},
   "outputs": [
    {
     "name": "stdout",
     "output_type": "stream",
     "text": [
      "[Pipeline] .... (step 1 of 4) Processing median_imputer, total=   0.0s\n",
      "[Pipeline] ............ (step 2 of 4) Processing scaler, total=   0.0s\n",
      "[Pipeline] ............... (step 3 of 4) Processing pca, total=   0.0s\n",
      "[Pipeline] ............... (step 4 of 4) Processing svr, total=  41.5s\n",
      "r_squared:  0.40436953843180723\n",
      "rmse:  32.99539533774363\n"
     ]
    }
   ],
   "source": [
    "from xgboost import XGBRegressor\n",
    "clf_params = {\n",
    "    \"learning_rate\": 0.001,\n",
    "    \"n_estimators\":6000,\n",
    "    \"max_depth\":4,\n",
    "    \"min_child_weight\":0,\n",
    "    \"gamma\":0.6,\n",
    "    \"subsample\":0.7,\n",
    "    \"colsample_bytree\":0.7,\n",
    "    \"objective\":'reg:squarederror',\n",
    "    \"nthread\":-1,\n",
    "    \"scale_pos_weight\":1,\n",
    "    \"seed\":27,\n",
    "    \"reg_alpha\":0.00006,\n",
    "    \"random_state\":42\n",
    "}\n",
    "pipe = fit_clf_scaler(XGBRegressor, X_train, y_train, clf_params, {\"verbose\": 1})\n",
    "r_squared = pipe.score(X_test,y_test)\n",
    "y_pred = pipe.predict(X_test)\n",
    "rmse = mean_squared_error(y_pred, y_test)**(1/2)\n",
    "\n",
    "print('r_squared: ', r_squared)\n",
    "print('rmse: ', rmse)"
   ]
  },
  {
   "cell_type": "markdown",
   "metadata": {},
   "source": [
    "### Random Forest"
   ]
  },
  {
   "cell_type": "markdown",
   "metadata": {},
   "source": [
    "#### Optimization"
   ]
  },
  {
   "cell_type": "code",
   "execution_count": null,
   "metadata": {},
   "outputs": [
    {
     "name": "stderr",
     "output_type": "stream",
     "text": [
      "\u001b[32m[I 2022-10-27 01:39:15,323]\u001b[0m A new study created in memory with name: no-name-1f95ccdf-b623-4866-854a-33bd7c0164cf\u001b[0m\n",
      "\u001b[32m[I 2022-10-27 01:39:29,671]\u001b[0m Trial 1 finished with value: 38.269789754838406 and parameters: {'n_estimators': 15, 'max_depth': 10, 'n_neighbors': 3}. Best is trial 1 with value: 38.269789754838406.\u001b[0m\n",
      "\u001b[32m[I 2022-10-27 01:40:05,848]\u001b[0m Trial 6 finished with value: 36.65043646930766 and parameters: {'n_estimators': 55, 'max_depth': 1, 'n_neighbors': 4}. Best is trial 6 with value: 36.65043646930766.\u001b[0m\n",
      "\u001b[32m[I 2022-10-27 01:40:24,956]\u001b[0m Trial 4 finished with value: 36.411537629955106 and parameters: {'n_estimators': 71, 'max_depth': 3, 'n_neighbors': 2}. Best is trial 4 with value: 36.411537629955106.\u001b[0m\n",
      "\u001b[32m[I 2022-10-27 01:40:28,736]\u001b[0m Trial 7 finished with value: 36.42361486957127 and parameters: {'n_estimators': 79, 'max_depth': 17, 'n_neighbors': 3}. Best is trial 4 with value: 36.411537629955106.\u001b[0m\n",
      "\u001b[32m[I 2022-10-27 01:40:36,088]\u001b[0m Trial 5 finished with value: 36.43113405099212 and parameters: {'n_estimators': 86, 'max_depth': 15, 'n_neighbors': 2}. Best is trial 4 with value: 36.411537629955106.\u001b[0m\n",
      "\u001b[32m[I 2022-10-27 01:40:37,557]\u001b[0m Trial 8 finished with value: 36.49201048665498 and parameters: {'n_estimators': 75, 'max_depth': 4, 'n_neighbors': 4}. Best is trial 4 with value: 36.411537629955106.\u001b[0m\n",
      "\u001b[32m[I 2022-10-27 01:40:46,706]\u001b[0m Trial 2 finished with value: 36.32242077921289 and parameters: {'n_estimators': 119, 'max_depth': 17, 'n_neighbors': 3}. Best is trial 2 with value: 36.32242077921289.\u001b[0m\n",
      "\u001b[32m[I 2022-10-27 01:40:47,582]\u001b[0m Trial 9 finished with value: 36.41921577520954 and parameters: {'n_estimators': 69, 'max_depth': 9, 'n_neighbors': 2}. Best is trial 2 with value: 36.32242077921289.\u001b[0m\n",
      "\u001b[32m[I 2022-10-27 01:40:50,872]\u001b[0m Trial 0 finished with value: 36.30860494804996 and parameters: {'n_estimators': 134, 'max_depth': 5, 'n_neighbors': 2}. Best is trial 0 with value: 36.30860494804996.\u001b[0m\n",
      "\u001b[32m[I 2022-10-27 01:41:04,405]\u001b[0m Trial 3 finished with value: 36.34866553751019 and parameters: {'n_estimators': 171, 'max_depth': 19, 'n_neighbors': 4}. Best is trial 0 with value: 36.30860494804996.\u001b[0m\n"
     ]
    }
   ],
   "source": [
    "from sklearn.ensemble import GradientBoostingRegressor\n",
    "\n",
    "def objective(trial: optuna.trial.Trial):\n",
    "\n",
    "    trial_suggestion = {\n",
    "        'n_estimators': trial.suggest_int('n_estimators', 1, 200),\n",
    "        'max_depth': trial.suggest_int('max_depth', 1, 20),\n",
    "        'n_neighbors': trial.suggest_int('n_neighbors',  2, 4),\n",
    "    }\n",
    "\n",
    "    clf_params = {\n",
    "        \"n_estimators\": trial_suggestion['n_estimators'],\n",
    "        \"criterion\": \"squared_error\",\n",
    "\n",
    "    }\n",
    "    imputer_params = {\n",
    "        \"n_neighbors\": trial_suggestion['n_neighbors']\n",
    "    }\n",
    "\n",
    "    clf = GradientBoostingRegressor\n",
    "    return fit_clf_scaler_cv(clf, X_train, y_train, clf_params, imputer_params, n_features=28)\n",
    "\n",
    "study = optuna.create_study()\n",
    "study.optimize(objective, n_trials=10, n_jobs=-1)\n",
    "\n"
   ]
  },
  {
   "cell_type": "markdown",
   "metadata": {},
   "source": [
    "#### Model selection"
   ]
  },
  {
   "cell_type": "code",
   "execution_count": 13,
   "metadata": {},
   "outputs": [
    {
     "name": "stdout",
     "output_type": "stream",
     "text": [
      "[Pipeline] .... (step 1 of 4) Processing median_imputer, total=   0.0s\n",
      "[Pipeline] ............ (step 2 of 4) Processing scaler, total=   0.0s\n",
      "[Pipeline] ............... (step 3 of 4) Processing pca, total=   0.0s\n",
      "[Pipeline] ............... (step 4 of 4) Processing svr, total=   9.2s\n",
      "r_squared:  0.3399179242835415\n",
      "rmse:  33.040102044507165\n"
     ]
    }
   ],
   "source": [
    "from sklearn.ensemble import RandomForestRegressor\n",
    "\n",
    "clf_params = {'n_estimators': 134, 'max_depth': 5}\n",
    "pipe = fit_clf_scaler(RandomForestRegressor, X_train, y_train, clf_params, {\"verbose\": 1})\n",
    "r_squared = pipe.score(X_test,y_test)\n",
    "y_pred = pipe.predict(X_test)\n",
    "print('r_squared: ', r_squared)\n",
    "print('rmse: ', rmse)"
   ]
  }
 ],
 "metadata": {
  "kernelspec": {
   "display_name": "Python 3 (ipykernel)",
   "language": "python",
   "name": "python3"
  },
  "language_info": {
   "codemirror_mode": {
    "name": "ipython",
    "version": 3
   },
   "file_extension": ".py",
   "mimetype": "text/x-python",
   "name": "python",
   "nbconvert_exporter": "python",
   "pygments_lexer": "ipython3",
   "version": "3.10.4"
  },
  "vscode": {
   "interpreter": {
    "hash": "e7370f93d1d0cde622a1f8e1c04877d8463912d04d973331ad4851f04de6915a"
   }
  }
 },
 "nbformat": 4,
 "nbformat_minor": 4
}
