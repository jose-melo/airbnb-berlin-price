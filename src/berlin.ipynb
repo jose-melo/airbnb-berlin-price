{
 "cells": [
  {
   "cell_type": "code",
   "execution_count": null,
   "metadata": {},
   "outputs": [],
   "source": [
    "!pip install lazypredict"
   ]
  },
  {
   "cell_type": "code",
   "execution_count": 2,
   "metadata": {},
   "outputs": [
    {
     "name": "stderr",
     "output_type": "stream",
     "text": [
      "Matplotlib created a temporary config/cache directory at /tmp/matplotlib-a437tgyi because the default path (/home/determined_keller/.config/matplotlib) is not a writable directory; it is highly recommended to set the MPLCONFIGDIR environment variable to a writable directory, in particular to speed up the import of Matplotlib and to better support multiprocessing.\n"
     ]
    }
   ],
   "source": [
    "import numpy as np\n",
    "import pandas as pd\n",
    "import sys\n",
    "import sklearn.preprocessing\n",
    "import sklearn.model_selection\n",
    "import sklearn.metrics\n",
    "import sklearn\n",
    "import lazypredict\n",
    "import matplotlib.pyplot as plt\n",
    "from tqdm.notebook import tnrange\n",
    "import itertools\n",
    "from sklearn.impute import KNNImputer"
   ]
  },
  {
   "cell_type": "code",
   "execution_count": 3,
   "metadata": {},
   "outputs": [],
   "source": [
    "df_train = pd.read_csv('../DATA/train_airbnb_berlin.xls')\n",
    "\n",
    "# without label\n",
    "#df_validation = pd.read_csv('./test_airbnb_berlin.xls') "
   ]
  },
  {
   "cell_type": "markdown",
   "metadata": {},
   "source": [
    "# Pre processing"
   ]
  },
  {
   "cell_type": "markdown",
   "metadata": {},
   "source": [
    "### Feature analysis"
   ]
  },
  {
   "cell_type": "code",
   "execution_count": 4,
   "metadata": {},
   "outputs": [
    {
     "data": {
      "image/png": "[encoded data removed]",
      "text/plain": [
       "<Figure size 640x480 with 3 Axes>"
      ]
     },
     "metadata": {},
     "output_type": "display_data"
    }
   ],
   "source": [
    "plt.subplot(221)\n",
    "df_train.boxplot(column='Price')\n",
    "\n",
    "plt.subplot(222)\n",
    "df_train.boxplot(column='Square Feet')\n",
    "\n",
    "plt.subplot(223)\n",
    "df_train.boxplot(column='Value Rating')\n",
    "\n",
    "plt.show()"
   ]
  },
  {
   "cell_type": "code",
   "execution_count": 27,
   "metadata": {},
   "outputs": [],
   "source": [
    "def percentage_of_nans(df: pd.DataFrame) -> list:\n",
    "    nan_percentage = pd.DataFrame(columns=['Feature Name', 'Percentage of NaNs'])\n",
    "    for idx, feature in enumerate(df.columns):\n",
    "        notnans = df_train[feature].notna().value_counts()\n",
    "        percentage = 0\n",
    "        if False in notnans:\n",
    "            percentage = int(10000*notnans[False]/len(df_train))/100\n",
    "\n",
    "        nan_percentage.loc[idx] = [feature, percentage]\n",
    "    return nan_percentage"
   ]
  },
  {
   "cell_type": "code",
   "execution_count": 28,
   "metadata": {},
   "outputs": [
    {
     "data": {
      "text/html": [
       "<div>\n",
       "<style scoped>\n",
       "    .dataframe tbody tr th:only-of-type {\n",
       "        vertical-align: middle;\n",
       "    }\n",
       "\n",
       "    .dataframe tbody tr th {\n",
       "        vertical-align: top;\n",
       "    }\n",
       "\n",
       "    .dataframe thead th {\n",
       "        text-align: right;\n",
       "    }\n",
       "</style>\n",
       "<table border=\"1\" class=\"dataframe\">\n",
       "  <thead>\n",
       "    <tr style=\"text-align: right;\">\n",
       "      <th></th>\n",
       "      <th>Feature Name</th>\n",
       "      <th>Percentage of NaNs</th>\n",
       "    </tr>\n",
       "  </thead>\n",
       "  <tbody>\n",
       "    <tr>\n",
       "      <th>23</th>\n",
       "      <td>Square Feet</td>\n",
       "      <td>98.06</td>\n",
       "    </tr>\n",
       "    <tr>\n",
       "      <th>5</th>\n",
       "      <td>Host Response Time</td>\n",
       "      <td>45.08</td>\n",
       "    </tr>\n",
       "    <tr>\n",
       "      <th>6</th>\n",
       "      <td>Host Response Rate</td>\n",
       "      <td>45.08</td>\n",
       "    </tr>\n",
       "    <tr>\n",
       "      <th>32</th>\n",
       "      <td>Checkin Rating</td>\n",
       "      <td>18.94</td>\n",
       "    </tr>\n",
       "    <tr>\n",
       "      <th>35</th>\n",
       "      <td>Value Rating</td>\n",
       "      <td>18.93</td>\n",
       "    </tr>\n",
       "    <tr>\n",
       "      <th>34</th>\n",
       "      <td>Location Rating</td>\n",
       "      <td>18.93</td>\n",
       "    </tr>\n",
       "    <tr>\n",
       "      <th>30</th>\n",
       "      <td>Accuracy Rating</td>\n",
       "      <td>18.93</td>\n",
       "    </tr>\n",
       "    <tr>\n",
       "      <th>33</th>\n",
       "      <td>Communication Rating</td>\n",
       "      <td>18.92</td>\n",
       "    </tr>\n",
       "    <tr>\n",
       "      <th>31</th>\n",
       "      <td>Cleanliness Rating</td>\n",
       "      <td>18.92</td>\n",
       "    </tr>\n",
       "    <tr>\n",
       "      <th>29</th>\n",
       "      <td>Overall Rating</td>\n",
       "      <td>18.87</td>\n",
       "    </tr>\n",
       "    <tr>\n",
       "      <th>28</th>\n",
       "      <td>Last Review</td>\n",
       "      <td>17.24</td>\n",
       "    </tr>\n",
       "    <tr>\n",
       "      <th>27</th>\n",
       "      <td>First Review</td>\n",
       "      <td>17.23</td>\n",
       "    </tr>\n",
       "    <tr>\n",
       "      <th>11</th>\n",
       "      <td>Postal Code</td>\n",
       "      <td>1.45</td>\n",
       "    </tr>\n",
       "    <tr>\n",
       "      <th>1</th>\n",
       "      <td>Listing Name</td>\n",
       "      <td>0.34</td>\n",
       "    </tr>\n",
       "    <tr>\n",
       "      <th>3</th>\n",
       "      <td>Host Name</td>\n",
       "      <td>0.14</td>\n",
       "    </tr>\n",
       "    <tr>\n",
       "      <th>7</th>\n",
       "      <td>Is Superhost</td>\n",
       "      <td>0.14</td>\n",
       "    </tr>\n",
       "    <tr>\n",
       "      <th>4</th>\n",
       "      <td>Host Since</td>\n",
       "      <td>0.13</td>\n",
       "    </tr>\n",
       "    <tr>\n",
       "      <th>20</th>\n",
       "      <td>Bathrooms</td>\n",
       "      <td>0.08</td>\n",
       "    </tr>\n",
       "    <tr>\n",
       "      <th>22</th>\n",
       "      <td>Beds</td>\n",
       "      <td>0.05</td>\n",
       "    </tr>\n",
       "    <tr>\n",
       "      <th>38</th>\n",
       "      <td>Price</td>\n",
       "      <td>0.05</td>\n",
       "    </tr>\n",
       "    <tr>\n",
       "      <th>21</th>\n",
       "      <td>Bedrooms</td>\n",
       "      <td>0.03</td>\n",
       "    </tr>\n",
       "  </tbody>\n",
       "</table>\n",
       "</div>"
      ],
      "text/plain": [
       "            Feature Name  Percentage of NaNs\n",
       "23           Square Feet               98.06\n",
       "5     Host Response Time               45.08\n",
       "6     Host Response Rate               45.08\n",
       "32        Checkin Rating               18.94\n",
       "35          Value Rating               18.93\n",
       "34       Location Rating               18.93\n",
       "30       Accuracy Rating               18.93\n",
       "33  Communication Rating               18.92\n",
       "31    Cleanliness Rating               18.92\n",
       "29        Overall Rating               18.87\n",
       "28           Last Review               17.24\n",
       "27          First Review               17.23\n",
       "11           Postal Code                1.45\n",
       "1           Listing Name                0.34\n",
       "3              Host Name                0.14\n",
       "7           Is Superhost                0.14\n",
       "4             Host Since                0.13\n",
       "20             Bathrooms                0.08\n",
       "22                  Beds                0.05\n",
       "38                 Price                0.05\n",
       "21              Bedrooms                0.03"
      ]
     },
     "execution_count": 28,
     "metadata": {},
     "output_type": "execute_result"
    }
   ],
   "source": [
    "nan_percentage = percentage_of_nans(df_train)\n",
    "df = nan_percentage[nan_percentage['Percentage of NaNs'] != 0]\n",
    "df.sort_values(by=['Percentage of NaNs'], ascending=False)"
   ]
  },
  {
   "cell_type": "markdown",
   "metadata": {},
   "source": [
    "### Data cleaning"
   ]
  },
  {
   "cell_type": "code",
   "execution_count": 47,
   "metadata": {},
   "outputs": [],
   "source": [
    "\n",
    "def replace_na(df : pd.DataFrame, numerical_variables : list()):\n",
    "    df.replace(['f', 't'], [0, 1], inplace=True)\n",
    "    df.replace([\"*\"], [np.NaN], inplace=True)\n",
    "    \n",
    "    imputer = KNNImputer(n_neighbors=2)\n",
    "    imputed_values = imputer.fit_transform(df[numerical_variables])\n",
    "    df[numerical_variables] = pd.DataFrame(imputed_values, columns=numerical_variables)\n",
    "\n",
    "    return df\n",
    "\n",
    "    \n",
    "def pre_process(df : pd.DataFrame):\n",
    "\n",
    "    numerical_variables = ['Latitude', 'Longitude', 'Accomodates', 'Bathrooms', 'Bedrooms', 'Beds', 'Guests Included', 'Min Nights',\\\n",
    "        'Reviews']\n",
    "    ratings = ['Accuracy Rating', 'Value Rating', 'Checkin Rating', 'Overall Rating', 'Location Rating', 'Communication Rating', 'Cleanliness Rating']\n",
    "    numerical_variables += ratings\n",
    "\n",
    "    categorical_variables = ['Room Type', 'Property Type']\n",
    "\n",
    "    boolean_variables = ['Is Exact Location', 'Instant Bookable', 'Business Travel Ready']\n",
    "\n",
    "    selected_columns = numerical_variables + categorical_variables + boolean_variables\n",
    "\n",
    "    label_in = 'Price' in df.columns\n",
    "    if label_in:\n",
    "        selected_columns.append('Price')\n",
    "    \n",
    "    df = replace_na(df, numerical_variables)\n",
    "\n",
    "    df = df[selected_columns]\n",
    "    df.dropna(inplace=True)\n",
    "    \n",
    "    # categorcial to dummies\n",
    "    for cat_var in categorical_variables:\n",
    "        dummie = pd.get_dummies(df[cat_var])\n",
    "        df = pd.concat([df, dummie], axis=1)\n",
    "\n",
    "    #rescale the coordinates ?\n",
    "    sklearn.preprocessing.minmax_scale(df['Latitude'], feature_range=(-10, 10), copy=False)\n",
    "    sklearn.preprocessing.minmax_scale(df['Longitude'], feature_range=(-10, 10), copy=False)\n",
    "\n",
    "    y = df['Price']\n",
    "    df.drop([\"Price\", \"Room Type\", \"Property Type\"], axis=1, inplace=True)\n",
    "    \n",
    "    if(label_in):\n",
    "        return df, y\n",
    "    \n",
    "    return df"
   ]
  },
  {
   "cell_type": "code",
   "execution_count": 48,
   "metadata": {},
   "outputs": [
    {
     "name": "stderr",
     "output_type": "stream",
     "text": [
      "<ipython-input-47-c6e173c79fae>:34: SettingWithCopyWarning: \n",
      "A value is trying to be set on a copy of a slice from a DataFrame\n",
      "\n",
      "See the caveats in the documentation: https://pandas.pydata.org/pandas-docs/stable/user_guide/indexing.html#returning-a-view-versus-a-copy\n",
      "  df.dropna(inplace=True)\n"
     ]
    }
   ],
   "source": [
    "X, y = pre_process(df_train)\n",
    "\n",
    "X_train, X_test, y_train, y_test = sklearn.model_selection.train_test_split(X, y, test_size=0.1, random_state=42)"
   ]
  },
  {
   "cell_type": "markdown",
   "metadata": {},
   "source": [
    "# Feature analysis"
   ]
  },
  {
   "cell_type": "markdown",
   "metadata": {},
   "source": [
    "### PCA"
   ]
  },
  {
   "cell_type": "code",
   "execution_count": 62,
   "metadata": {},
   "outputs": [
    {
     "data": {
      "image/png": "[encoded data removed]",
      "text/plain": [
       "<Figure size 432x288 with 1 Axes>"
      ]
     },
     "metadata": {
      "needs_background": "light"
     },
     "output_type": "display_data"
    },
    {
     "name": "stdout",
     "output_type": "stream",
     "text": [
      "Explained variance with 5 features:  0.9958480744294078\n"
     ]
    }
   ],
   "source": [
    "from sklearn.decomposition import PCA\n",
    "pca = PCA()\n",
    "pca.fit(X_train)\n",
    "explained_variance = pca.explained_variance_ratio_\n",
    "acc_sum = np.cumsum(explained_variance) \n",
    "\n",
    "plt.title('Cumulative explained variance')\n",
    "plt.plot(acc_sum)\n",
    "plt.grid()\n",
    "plt.ylabel('Explained variance')\n",
    "plt.xlabel('Number of features')\n",
    "plt.show()\n",
    "\n",
    "print('Explained variance with 5 features: ', acc_sum[4])"
   ]
  },
  {
   "cell_type": "code",
   "execution_count": 77,
   "metadata": {},
   "outputs": [],
   "source": [
    "from sklearn import linear_model\n",
    "from sklearn.metrics import mean_squared_error\n",
    "\n",
    "def fit_linear_reg(X,Y):\n",
    "    model_k = linear_model.LinearRegression(fit_intercept = True)\n",
    "    model_k.fit(X,Y)\n",
    "    RSS = mean_squared_error(Y,model_k.predict(X)) * len(Y)\n",
    "    R_squared = model_k.score(X,Y)\n",
    "    return RSS, R_squared"
   ]
  },
  {
   "cell_type": "markdown",
   "metadata": {},
   "source": [
    "### Forward selection + Cross Validation"
   ]
  },
  {
   "cell_type": "code",
   "execution_count": 97,
   "metadata": {},
   "outputs": [
    {
     "data": {
      "application/vnd.jupyter.widget-view+json": {
       "model_id": "4e86f35696b84f6db6363b023a432404",
       "version_major": 2,
       "version_minor": 0
      },
      "text/plain": [
       "Treating columns:   0%|          | 0/37 [00:00<?, ?it/s]"
      ]
     },
     "metadata": {},
     "output_type": "display_data"
    }
   ],
   "source": [
    "\n",
    "r2 = [] \n",
    "features = []\n",
    "n_features = []\n",
    "\n",
    "for k in tnrange(1,len(X.columns) + 1, desc = 'Treating columns'):\n",
    "\tr2_tmp = []\n",
    "\tfor new_feat in X_train.columns:\n",
    "\t\tif new_feat in features: continue\n",
    "\t\tnew_features = features.copy()\n",
    "\t\tnew_features.append(new_feat)\n",
    "\t\tmetrics = fit_linear_reg(X_train[new_features],y_train)   \n",
    "\t\tr2_tmp.append((metrics[1], new_feat))                 \n",
    "\tr2.append(sorted(r2_tmp, key=lambda x: x[0])[-1][0])\t\n",
    "\tnew_feat = sorted(r2_tmp, key=lambda x: x[0])[-1][1]\n",
    "\tfeatures.append(new_feat)\n",
    "\tn_features.append(len(features))   \n",
    "\n",
    "df = pd.DataFrame({'n_features': n_features,'R2': rss,'features':features})"
   ]
  },
  {
   "cell_type": "code",
   "execution_count": 99,
   "metadata": {},
   "outputs": [
    {
     "data": {
      "image/png": "[encoded data removed]",
      "text/plain": [
       "<Figure size 432x288 with 1 Axes>"
      ]
     },
     "metadata": {
      "needs_background": "light"
     },
     "output_type": "display_data"
    }
   ],
   "source": [
    "plt.title('Cross-validated subset selection')\n",
    "plt.xlabel('Number of features')\n",
    "plt.ylabel('R squared')\n",
    "plt.grid()\n",
    "plt.plot(df['n_features'], df['R2'])\n",
    "plt.show()\n"
   ]
  },
  {
   "cell_type": "markdown",
   "metadata": {},
   "source": [
    "### Autoencoder"
   ]
  },
  {
   "cell_type": "code",
   "execution_count": 114,
   "metadata": {},
   "outputs": [],
   "source": [
    "from sklearn.neural_network import MLPRegressor\n",
    "\n",
    "n_input = X_train.columns\n",
    "\n",
    "n_encoder1 = 50\n",
    "n_encoder2 = 30\n",
    "\n",
    "n_latent = 2\n",
    "\n",
    "n_decoder2 = 30\n",
    "n_decoder1 = 50"
   ]
  },
  {
   "cell_type": "code",
   "execution_count": 115,
   "metadata": {},
   "outputs": [],
   "source": [
    "reg = MLPRegressor(hidden_layer_sizes = (n_encoder1, n_encoder2, n_latent, n_decoder2, n_decoder1), \n",
    "                   activation = 'tanh', \n",
    "                   solver = 'adam', \n",
    "                   learning_rate_init = 1e-4, \n",
    "                   max_iter = 100, \n",
    "                   tol = 0.0000001, \n",
    "                   verbose = False)"
   ]
  },
  {
   "cell_type": "code",
   "execution_count": 116,
   "metadata": {},
   "outputs": [
    {
     "name": "stderr",
     "output_type": "stream",
     "text": [
      "/home/josemelocosta/.local/lib/python3.8/site-packages/sklearn/neural_network/_multilayer_perceptron.py:692: ConvergenceWarning: Stochastic Optimizer: Maximum iterations (100) reached and the optimization hasn't converged yet.\n",
      "  warnings.warn(\n"
     ]
    },
    {
     "data": {
      "text/plain": [
       "MLPRegressor(activation='tanh', hidden_layer_sizes=(50, 30, 2, 30, 50),\n",
       "             learning_rate_init=0.0001, max_iter=100, tol=1e-07)"
      ]
     },
     "execution_count": 116,
     "metadata": {},
     "output_type": "execute_result"
    }
   ],
   "source": [
    "reg.fit(X_train, y_train)"
   ]
  },
  {
   "cell_type": "code",
   "execution_count": 117,
   "metadata": {},
   "outputs": [],
   "source": [
    "def encoder(data):\n",
    "    data = np.asmatrix(data)\n",
    "    \n",
    "    encoder1 = data*reg.coefs_[0] + reg.intercepts_[0]\n",
    "    encoder1 = (np.exp(encoder1) - np.exp(-encoder1))/(np.exp(encoder1) + np.exp(-encoder1))\n",
    "    \n",
    "    encoder2 = encoder1*reg.coefs_[1] + reg.intercepts_[1]\n",
    "    encoder2 = (np.exp(encoder2) - np.exp(-encoder2))/(np.exp(encoder2) + np.exp(-encoder2))\n",
    "    \n",
    "    latent = encoder2*reg.coefs_[2] + reg.intercepts_[2]\n",
    "    latent = (np.exp(latent) - np.exp(-latent))/(np.exp(latent) + np.exp(-latent))\n",
    "    \n",
    "    return np.asarray(latent)\n",
    "\n",
    "test_latent = encoder(X_train)\n"
   ]
  },
  {
   "cell_type": "code",
   "execution_count": 120,
   "metadata": {},
   "outputs": [
    {
     "data": {
      "image/png": "[encoded data removed]",
      "text/plain": [
       "<Figure size 432x288 with 1 Axes>"
      ]
     },
     "metadata": {
      "needs_background": "light"
     },
     "output_type": "display_data"
    }
   ],
   "source": [
    "plt.scatter(test_latent[:, 0], test_latent[:, 1])\n",
    "plt.grid()\n",
    "plt.show()"
   ]
  },
  {
   "cell_type": "markdown",
   "metadata": {},
   "source": [
    "# Model selection"
   ]
  },
  {
   "cell_type": "code",
   "execution_count": 129,
   "metadata": {},
   "outputs": [
    {
     "name": "stdout",
     "output_type": "stream",
     "text": [
      "Train MSE: 1287.806422766963\n",
      "Train R2: 0.44093457095961264\n",
      "Test MSE: 1435.987956161085\n",
      "Test R2: 0.40227173859973275\n"
     ]
    }
   ],
   "source": [
    "# import sklearn.linear_model\n",
    "# import sklearn.svm\n",
    "# import sklearn.neural_network\n",
    "# import sklearn.ensemble\n",
    "\n",
    "\n",
    "# #model = sklearn.linear_model.Ridge()\n",
    "# #model = sklearn.neural_network.MLPRegressor(hidden_layer_sizes=(10,3))\n",
    "# #model = sklearn.svm.SVR(kernel='poly')\n",
    "# model = sklearn.ensemble.RandomForestRegressor()\n",
    "\n",
    "# model.fit(X_train, y_train)\n",
    "\n",
    "# y_train_predict = model.predict(X_train)\n",
    "# y_test_predict = model.predict(X_test)\n",
    "\n",
    "\n",
    "import xgboost as xgb\n",
    "param = {'max_depth':5, 'eta':1, 'objective':'reg:squarederror' }\n",
    "num_round = 2\n",
    "\n",
    "dtrain = xgb.DMatrix(X_train, label=y_train)\n",
    "dtest = xgb.DMatrix(X_test, label=y_test)\n",
    "\n",
    "bst = xgb.train(param, dtrain, num_round)\n",
    "y_train_predict = bst.predict(dtrain)\n",
    "y_test_predict = bst.predict(dtest)\n",
    "\n",
    "#from lazypredict.Supervised import LazyRegressor\n",
    "# reg = LazyRegressor(verbose=0,ignore_warnings=False, custom_metric=None)\n",
    "# reg.fit(X_train, X_test, y_train, y_test)\n",
    "\n",
    "\n",
    "# evaluation\n",
    "train_mse = sklearn.metrics.mean_squared_error(y_train, y_train_predict)\n",
    "train_r2 = sklearn.metrics.r2_score(y_train, y_train_predict)\n",
    "print(\"Train MSE: \"+str(train_mse))\n",
    "print(\"Train R2: \"+str(train_r2))\n",
    "\n",
    "test_mse = sklearn.metrics.mean_squared_error(y_test, y_test_predict)\n",
    "test_r2 = sklearn.metrics.r2_score(y_test, y_test_predict)\n",
    "print(\"Test MSE: \"+str(test_mse))\n",
    "print(\"Test R2: \"+str(test_r2))\n",
    "\n",
    "\n"
   ]
  },
  {
   "cell_type": "code",
   "execution_count": 101,
   "metadata": {},
   "outputs": [
    {
     "data": {
      "text/plain": [
       "13964    13.432511\n",
       "6105    -13.281156\n",
       "9001     -5.677313\n",
       "12335   -31.224319\n",
       "11237     4.764753\n",
       "           ...    \n",
       "1956    -17.298526\n",
       "10375    -4.126278\n",
       "3972    -11.257448\n",
       "5302    -16.109106\n",
       "96      -32.127213\n",
       "Name: Price, Length: 3122, dtype: float64"
      ]
     },
     "execution_count": 101,
     "metadata": {},
     "output_type": "execute_result"
    }
   ],
   "source": [
    "y_test - y_test_predict"
   ]
  }
 ],
 "metadata": {
  "kernelspec": {
   "display_name": "Python 3 (ipykernel)",
   "language": "python",
   "name": "python3"
  },
  "language_info": {
   "codemirror_mode": {
    "name": "ipython",
    "version": 3
   },
   "file_extension": ".py",
   "mimetype": "text/x-python",
   "name": "python",
   "nbconvert_exporter": "python",
   "pygments_lexer": "ipython3",
   "version": "3.10.4"
  },
  "vscode": {
   "interpreter": {
    "hash": "e7370f93d1d0cde622a1f8e1c04877d8463912d04d973331ad4851f04de6915a"
   }
  }
 },
 "nbformat": 4,
 "nbformat_minor": 4
}
