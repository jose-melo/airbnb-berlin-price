{
 "cells": [
  {
   "cell_type": "code",
   "execution_count": 130,
   "metadata": {},
   "outputs": [],
   "source": [
    "import matplotlib\n",
    "font = {'weight' : 'bold', 'size' : 14}\n",
    "matplotlib.rc('font', **font)\n",
    "import numpy as np\n",
    "import pandas as pd\n",
    "import sys\n",
    "import sklearn.preprocessing\n",
    "import sklearn.model_selection\n",
    "import sklearn.metrics\n",
    "import sklearn\n",
    "import lazypredict\n",
    "import matplotlib.pyplot as plt\n",
    "from tqdm.notebook import tnrange\n",
    "import itertools\n",
    "from sklearn.impute import KNNImputer\n",
    "import tqdm\n",
    "from sklearn.tree import DecisionTreeRegressor\n",
    "from sklearn.model_selection import cross_validate\n",
    "from sklearn import linear_model\n",
    "from sklearn.metrics import mean_squared_error\n",
    "from sklearn.model_selection import KFold\n",
    "from sklearn.decomposition import PCA\n",
    "from sklearn.neural_network import MLPRegressor\n",
    "from sklearn.model_selection import GridSearchCV\n",
    "from sklearn import svm\n",
    "import optuna\n",
    "from sklearn.preprocessing import StandardScaler\n",
    "from sklearn.pipeline import Pipeline\n",
    "from sklearn.ensemble import AdaBoostRegressor\n",
    "from sklearn.ensemble import GradientBoostingRegressor\n",
    "from sklearn.neural_network import MLPRegressor\n",
    "from warnings import simplefilter\n",
    "from sklearn.exceptions import ConvergenceWarning\n",
    "from sklearn.preprocessing import FunctionTransformer\n",
    "from fitter import Fitter, get_common_distributions, get_distributions\n",
    "import time\n",
    "from datetime import datetime\n",
    "from sklearn.neighbors import KNeighborsRegressor\n",
    "from sklearn.ensemble import RandomForestRegressor\n",
    "from sklearn.preprocessing import LabelEncoder\n",
    "import seaborn as sns\n",
    "import matplotlib\n",
    "font = {'family' : 'normal',\n",
    "        'weight' : 'bold',\n",
    "        'size'   : 14}\n",
    "\n",
    "matplotlib.rc('font', **font)"
   ]
  },
  {
   "cell_type": "code",
   "execution_count": 43,
   "metadata": {},
   "outputs": [],
   "source": [
    "data_files = {\n",
    "    \"train_airbnb\": \"../DATA/train_airbnb_berlin.xls\",\n",
    "    \"berlin_crimes\": \"../DATA/extra_datasets/Berlin_crimes.csv\",\n",
    "    \"berlin_demographics\": \"../DATA/extra_datasets/Berlin_demographics.csv\"\n",
    "}\n",
    "\n",
    "def cast_district(x):\n",
    "    return x.replace(\"NeukÃ¶lln\",\"Neukölln\").replace('Tempelhof - SchÃ¶neberg','Tempelhof - Schöneberg').replace('Treptow - KÃ¶penick','Treptow - Köpenick').replace('Charlottenburg-Wilm.','Charlottenburg-Wilmersdorf').replace('Ã¶','ö').replace('Ã¤','ä').replace('Ã','ß')\n",
    "\n",
    "def get_training_data(data_files):\n",
    "    df_train = pd.read_csv(data_files['train_airbnb'])\n",
    "\n",
    "    crimes_df = pd.read_csv(data_files['berlin_crimes'])\n",
    "    crimes_df = crimes_df.groupby(['District','Year']).sum().groupby('District').mean().drop('Code', axis=1)\n",
    "\n",
    "    demographics_df = pd.read_csv(data_files['berlin_demographics'], delimiter=';', encoding='latin-1')\n",
    "    demographics_df['Code Postal'] = demographics_df.apply(lambda x: x['Bezirk']*10000+x['Ortsteil']*10+x['Geschl'], axis=1)\n",
    "    demographics_df = demographics_df[['Code Postal', 'Bez-Name', 'Ortst-Name', 'Staatsangeh','Altersgr', 'Häufigkeit']]\n",
    "    demographics_df = demographics_df.rename(columns = {\"Bez-Name\":\"District\",\"Häufigkeit\": \"Population\", \"Altersgr\":\"Tranche d'âge\",\"Staatsangeh\":\"Origine\"})\n",
    "    number_of_inhabitants_df = demographics_df.groupby(['Code Postal','District','Ortst-Name']).sum()\n",
    "    number_of_germans_df = demographics_df.groupby(['Code Postal','District','Ortst-Name','Origine']).sum().query('Origine==\"D\"').rename(columns = {\"Population\":\"Nb Allemands\"})\n",
    "    number_of_immigrants_df = demographics_df.groupby(['Code Postal','District','Ortst-Name','Origine']).sum().query('Origine==\"A\"').rename(columns = {\"Population\":\"Nb Immigrants\"})\n",
    "    demographics_df = number_of_inhabitants_df.merge(number_of_germans_df, how='inner', on=['Code Postal','District','Ortst-Name']).merge(number_of_immigrants_df, how='inner', on=['Code Postal','District','Ortst-Name'])\n",
    "    demographics_df['Proportion Allemands'] = demographics_df.apply(lambda x: x['Nb Allemands']/x['Population'], axis=1)\n",
    "    demographics_df['Proportion Immigrants'] = demographics_df.apply(lambda x: x['Nb Immigrants']/x['Population'], axis=1)\n",
    "    demographics_df = demographics_df[['Population','Proportion Allemands','Proportion Immigrants']]\n",
    "\n",
    "    extra_data_df = demographics_df.reset_index().merge(crimes_df, how='left', on='District')\n",
    "    for column in extra_data_df.columns:\n",
    "        if column in ['Robbery','Street_robbery', 'Injury', 'Agg_assault', 'Threat', 'Theft', 'Car','From_car', 'Bike', 'Burglary', 'Fire', 'Arson', 'Damage', 'Graffiti','Drugs', 'Local']:\n",
    "            extra_data_df[column] = extra_data_df.apply(lambda x: x[column]/x['Population'], axis=1)\n",
    "    \n",
    "    extra_data_df = extra_data_df.drop_duplicates(['Ortst-Name'])\n",
    "\n",
    "    df_train['neighbourhood'] = df_train['neighbourhood'].apply(lambda x:cast_district(x))\n",
    "    df_train['Neighborhood Group'] = df_train['Neighborhood Group'].apply(lambda x:cast_district(x))\n",
    "    df_train = df_train.merge(extra_data_df, how='left', left_on='neighbourhood', right_on='Ortst-Name')\n",
    "\n",
    "    return df_train"
   ]
  },
  {
   "cell_type": "markdown",
   "metadata": {},
   "source": [
    "# Pre processing"
   ]
  },
  {
   "cell_type": "markdown",
   "metadata": {},
   "source": [
    "### Feature analysis"
   ]
  },
  {
   "cell_type": "code",
   "execution_count": 44,
   "metadata": {},
   "outputs": [],
   "source": [
    "def get_subplot_analysis():\n",
    "    plt.subplot(221)\n",
    "    df_train.boxplot(column='Price')\n",
    "\n",
    "    plt.subplot(222)\n",
    "    df_train.boxplot(column='Square Feet')\n",
    "\n",
    "    plt.subplot(223)\n",
    "    df_train.boxplot(column='Value Rating')\n",
    "\n",
    "    plt.subplot(224)\n",
    "    df_train.boxplot(column='Accuracy Rating')\n",
    "\n",
    "    plt.show()"
   ]
  },
  {
   "cell_type": "code",
   "execution_count": 85,
   "metadata": {},
   "outputs": [],
   "source": [
    "def percentage_of_nans(df: pd.DataFrame) -> list:\n",
    "    nan_percentage = pd.DataFrame(columns=['Feature Name', 'Percentage of NaNs'])\n",
    "    for idx, feature in enumerate(df.columns):\n",
    "        notnans = df_train[feature].notna().value_counts()\n",
    "        percentage = 0\n",
    "        if False in notnans:\n",
    "            percentage = int(10000*notnans[False]/len(df_train))/100\n",
    "\n",
    "        nan_percentage.loc[idx] = [feature, percentage]\n",
    "    return nan_percentage"
   ]
  },
  {
   "cell_type": "code",
   "execution_count": 89,
   "metadata": {},
   "outputs": [],
   "source": [
    "def nan_percentage_analysis():\n",
    "    nan_percentage = percentage_of_nans(df_train)\n",
    "    df = nan_percentage[nan_percentage['Percentage of NaNs'] >= 18]\n",
    "    display(df.sort_values(by=['Percentage of NaNs'], ascending=False).reset_index().drop(['index'], axis=1))"
   ]
  },
  {
   "cell_type": "code",
   "execution_count": 7,
   "metadata": {},
   "outputs": [
    {
     "data": {
      "text/plain": [
       "34674496.0    18\n",
       "22415.0        5\n",
       "7634930.0      2\n",
       "32809683.0     2\n",
       "26675782.0     1\n",
       "              ..\n",
       "23453981.0     1\n",
       "20547759.0     1\n",
       "13022969.0     1\n",
       "12297376.0     1\n",
       "32774348.0     1\n",
       "Name: listing_id, Length: 15668, dtype: int64"
      ]
     },
     "execution_count": 7,
     "metadata": {},
     "output_type": "execute_result"
    }
   ],
   "source": [
    "df_train['listing_id'].value_counts()"
   ]
  },
  {
   "cell_type": "markdown",
   "metadata": {},
   "source": [
    "### Data cleaning"
   ]
  },
  {
   "cell_type": "code",
   "execution_count": 47,
   "metadata": {},
   "outputs": [],
   "source": [
    "def pre_process_raw(df: pd.DataFrame):\n",
    "    df.columns = df.columns. str.lower().str.replace(' ','_')         \n",
    "\n",
    "    # Converting to datetime\n",
    "    df.host_since = pd.to_datetime(df.host_since)               \n",
    "\n",
    "    cols_to_drop = ['listing_name', 'host_id', 'host_name', 'city', 'country_code', 'country', \n",
    "                    'first_review', 'last_review', 'neighbourhood', 'business_travel_ready',  'postal_code']\n",
    "    df = df.drop(cols_to_drop, axis=1)\n",
    "    df.set_index('listing_id', inplace=True)\n",
    "\n",
    "    df.drop(['square_feet'], axis=1, inplace=True)\n",
    "\n",
    "    for col in df.columns:\n",
    "        df[col] = df[col].replace('*', np.nan)\n",
    "\n",
    "    df = df.dropna(subset=['price'], how='all')\n",
    "    df = df.dropna(subset=['overall_rating', 'accuracy_rating','cleanliness_rating','checkin_rating',\n",
    "                            'communication_rating','location_rating','value_rating'], how='all')\n",
    "    \n",
    "    change = ['accomodates','latitude',\n",
    "          'longitude','bathrooms','bedrooms','beds','guests_included','min_nights','reviews','overall_rating','accuracy_rating',\n",
    "          'cleanliness_rating','checkin_rating', 'communication_rating','location_rating','value_rating']\n",
    "\n",
    "    label_encoded = ['host_response_time', 'is_superhost', 'is_exact_location', 'instant_bookable']\n",
    "\n",
    "    categorical_variables = ['room_type', 'property_type','neighborhood_group'] \n",
    "    for i in change:\n",
    "        df[i]=pd.to_numeric(df[i], downcast=\"float\")\n",
    "\n",
    "    #Replacing the null values\n",
    "\n",
    "    df['host_response_rate'] = df['host_response_rate'].map(lambda x: str(x), na_action='ignore').map(lambda x : int(x[:-1]), na_action='ignore') \n",
    "\n",
    "    for cat_var in categorical_variables:\n",
    "        dummie = pd.get_dummies(df[cat_var])\n",
    "        df = pd.concat([df, dummie], axis=1)\n",
    "\n",
    "    df.drop(categorical_variables, axis=1, inplace=True)\n",
    "    \n",
    "    le = LabelEncoder()\n",
    "    for i in label_encoded:\n",
    "        df[i] = le.fit_transform(df[i].astype(str))\n",
    "    \n",
    "    X = df.drop('price', axis = 1)\n",
    "\n",
    "    # Output/Dependent variable\n",
    "\n",
    "    y = df['price']\n",
    "    return X, y\n",
    "\n",
    "def median_imputer(df: pd.DataFrame):\n",
    "    change = ['accomodates','latitude',\n",
    "        'longitude','bathrooms','bedrooms','beds','guests_included','min_nights','reviews','overall_rating','accuracy_rating',\n",
    "        'cleanliness_rating','checkin_rating', 'communication_rating','location_rating','value_rating' ]\n",
    "    \n",
    "    for x in change:\n",
    "        if not x in df.columns:\n",
    "            print(x)\n",
    "    df = df.copy()\n",
    "\n",
    "    if 'host_since' in df.columns:\n",
    "        # Calculating the number of days    \n",
    "        df['host_days_active'] = (datetime(2019, 7, 21) - df.host_since).astype('timedelta64[D]').copy()\n",
    "\n",
    "        # Replacing null values with the median\n",
    "        df['host_days_active'] = df.host_days_active.fillna(df.host_days_active.median()).copy()\n",
    "\n",
    "        df['host_days_active'] = (datetime(2019, 7, 21) - df.host_since).astype('timedelta64[D]').copy()\n",
    "        df.drop('host_since', axis=1, inplace=True)\n",
    "\n",
    "    for col in change:\n",
    "        if col not in df.columns:continue\n",
    "        df[col].fillna(df[col].median(), inplace=True)\n",
    "\n",
    "    df = df.fillna(0, inplace=True)\n",
    "\n",
    "    return df"
   ]
  },
  {
   "cell_type": "code",
   "execution_count": 61,
   "metadata": {},
   "outputs": [],
   "source": [
    "def fit_clf_scaler_cv(clf, X, y, clf_params, pipeline_params={}, n_features=45):\n",
    "    X = X.copy()\n",
    "    y = y.copy()\n",
    "    X = X.reset_index(drop=True)\n",
    "    y = y.reset_index(drop=True)\n",
    "    kf = KFold(n_splits=5)\n",
    "    \n",
    "    rmse_list = []\n",
    "    r2_list = []\n",
    "    X = median_imputer(X)\n",
    "\n",
    "    for train_index, test_index in kf.split(X):\n",
    "        X_train, X_test = X.loc[train_index], X.loc[test_index]\n",
    "        y_train, y_test = y.loc[train_index], y.loc[test_index]\n",
    "\n",
    "        pipe = Pipeline([\n",
    "        ('scaler', StandardScaler()),\n",
    "        ('pca', PCA(n_components=n_features)),\n",
    "        ('svr', clf(**clf_params))], **pipeline_params)\n",
    "        \n",
    "        pipe.fit(X_train,y_train)\n",
    "        y_pred = pipe.predict(X_test)\n",
    "        rmse = mean_squared_error(y_pred, y_test)**(1/2)\n",
    "        rmse_list.append(rmse)\n",
    "        r2_list.append(pipe.score(X_test, y_test))\n",
    "    return np.array(rmse_list).mean(), np.array(r2_list).mean()\n",
    "\n",
    "def fit_clf_scaler(clf, X, y, clf_params, pipeline_params={}, n_features=45):\n",
    "    X = X.copy()\n",
    "    y = y.copy()\n",
    "    X = X.reset_index(drop=True)\n",
    "    y = y.reset_index(drop=True)\n",
    "    \n",
    "    pipe = Pipeline([('median_imputer', FunctionTransformer(median_imputer)),\n",
    "    ('scaler', StandardScaler()),\n",
    "    ('pca', PCA(n_components=n_features)),\n",
    "    ('svr', clf(**clf_params))], **pipeline_params)\n",
    "    \n",
    "    pipe.fit(X,y)\n",
    "    return pipe "
   ]
  },
  {
   "cell_type": "code",
   "execution_count": 62,
   "metadata": {},
   "outputs": [],
   "source": [
    "X, y = pre_process_raw(df_train)"
   ]
  },
  {
   "cell_type": "code",
   "execution_count": 63,
   "metadata": {},
   "outputs": [],
   "source": [
    "X_train, X_test, y_train, y_test = sklearn.model_selection.train_test_split(X, y, test_size=0.2, random_state=42)"
   ]
  },
  {
   "cell_type": "markdown",
   "metadata": {},
   "source": [
    "### Train test split"
   ]
  },
  {
   "cell_type": "code",
   "execution_count": 111,
   "metadata": {},
   "outputs": [
    {
     "name": "stderr",
     "output_type": "stream",
     "text": [
      "Fitting 1 distributions: 100%|██████████| 1/1 [00:02<00:00,  2.02s/it]\n"
     ]
    },
    {
     "data": {
      "image/png": "[encoded data removed]",
      "text/plain": [
       "<Figure size 640x480 with 1 Axes>"
      ]
     },
     "metadata": {},
     "output_type": "display_data"
    }
   ],
   "source": [
    "from scipy.special import rel_entr\n",
    "from scipy.stats import burr\n",
    "f = Fitter(y.values,\n",
    "           distributions=[\"burr\"])\n",
    "f.fit()\n",
    "x = np.arange(0, 600, 1)\n",
    "r_train = burr.pdf(x, **(f.get_best()['burr']))\n",
    "plt.plot(r_train*65000, label='Burr', c='r', linewidth=2, linestyle='--')\n",
    "plt.title(\"Price Distribution\", weight='bold')\n",
    "plt.hist(y_train,bins=100, label='train')\n",
    "plt.hist(y_test, bins=100,label='test')\n",
    "plt.legend()\n",
    "plt.grid(linewidth=0.4)\n",
    "plt.xlabel('Price', fontsize=16, weight='bold')\n",
    "plt.xlim((0, 400))\n",
    "plt.ylabel('Quantity', fontsize=16, weight='bold')\n",
    "plt.tight_layout()\n",
    "\n",
    "\n",
    "plt.savefig('price_distribution.pdf')\n"
   ]
  },
  {
   "cell_type": "code",
   "execution_count": 70,
   "metadata": {},
   "outputs": [
    {
     "data": {
      "text/plain": [
       "[12.01,\n",
       " 20.03,\n",
       " 28.05,\n",
       " 36.07,\n",
       " 44.089999999999996,\n",
       " 52.11,\n",
       " 60.129999999999995,\n",
       " 68.15,\n",
       " 76.16999999999999,\n",
       " 84.19,\n",
       " 92.21,\n",
       " 100.22999999999999,\n",
       " 108.25,\n",
       " 116.27,\n",
       " 124.29,\n",
       " 132.31,\n",
       " 140.32999999999998,\n",
       " 148.35,\n",
       " 156.37,\n",
       " 164.39,\n",
       " 172.40999999999997,\n",
       " 180.43,\n",
       " 188.45,\n",
       " 196.46999999999997,\n",
       " 204.49,\n",
       " 212.51,\n",
       " 220.52999999999997,\n",
       " 228.55,\n",
       " 236.57,\n",
       " 244.58999999999997,\n",
       " 252.61,\n",
       " 260.63,\n",
       " 268.65,\n",
       " 276.66999999999996,\n",
       " 284.69,\n",
       " 292.71,\n",
       " 300.73,\n",
       " 308.75,\n",
       " 316.77,\n",
       " 324.78999999999996,\n",
       " 332.80999999999995,\n",
       " 340.83,\n",
       " 348.84999999999997,\n",
       " 356.87,\n",
       " 364.89,\n",
       " 372.90999999999997,\n",
       " 380.92999999999995,\n",
       " 388.95,\n",
       " 396.96999999999997,\n",
       " 404.99,\n",
       " 413.01,\n",
       " 421.03,\n",
       " 429.04999999999995,\n",
       " 437.07,\n",
       " 445.09,\n",
       " 453.11,\n",
       " 461.13,\n",
       " 469.15,\n",
       " 477.16999999999996,\n",
       " 485.18999999999994,\n",
       " 493.21,\n",
       " 501.22999999999996,\n",
       " 509.25,\n",
       " 517.27,\n",
       " 525.29,\n",
       " 533.31,\n",
       " 541.3299999999999,\n",
       " 549.3499999999999,\n",
       " 557.37,\n",
       " 565.39,\n",
       " 573.41,\n",
       " 581.43,\n",
       " 589.4499999999999,\n",
       " 597.47,\n",
       " 605.49,\n",
       " 613.51,\n",
       " 621.53,\n",
       " 629.55,\n",
       " 637.5699999999999,\n",
       " 645.5899999999999,\n",
       " 653.6099999999999,\n",
       " 661.63,\n",
       " 669.65,\n",
       " 677.67,\n",
       " 685.6899999999999,\n",
       " 693.7099999999999,\n",
       " 701.73,\n",
       " 709.75,\n",
       " 717.77,\n",
       " 725.79,\n",
       " 733.81,\n",
       " 741.8299999999999,\n",
       " 749.8499999999999,\n",
       " 757.87,\n",
       " 765.89,\n",
       " 773.91,\n",
       " 781.93,\n",
       " 789.9499999999999,\n",
       " 797.9699999999999,\n",
       " 805.99]"
      ]
     },
     "execution_count": 70,
     "metadata": {},
     "output_type": "execute_result"
    }
   ],
   "source": []
  },
  {
   "cell_type": "code",
   "execution_count": 25,
   "metadata": {},
   "outputs": [
    {
     "name": "stderr",
     "output_type": "stream",
     "text": [
      "Fitting 5 distributions: 100%|██████████| 5/5 [00:03<00:00,  1.37it/s]\n"
     ]
    },
    {
     "data": {
      "text/html": [
       "<div>\n",
       "<style scoped>\n",
       "    .dataframe tbody tr th:only-of-type {\n",
       "        vertical-align: middle;\n",
       "    }\n",
       "\n",
       "    .dataframe tbody tr th {\n",
       "        vertical-align: top;\n",
       "    }\n",
       "\n",
       "    .dataframe thead th {\n",
       "        text-align: right;\n",
       "    }\n",
       "</style>\n",
       "<table border=\"1\" class=\"dataframe\">\n",
       "  <thead>\n",
       "    <tr style=\"text-align: right;\">\n",
       "      <th></th>\n",
       "      <th>sumsquare_error</th>\n",
       "      <th>aic</th>\n",
       "      <th>bic</th>\n",
       "      <th>kl_div</th>\n",
       "      <th>ks_statistic</th>\n",
       "      <th>ks_pvalue</th>\n",
       "    </tr>\n",
       "  </thead>\n",
       "  <tbody>\n",
       "    <tr>\n",
       "      <th>burr</th>\n",
       "      <td>0.000074</td>\n",
       "      <td>1981.694736</td>\n",
       "      <td>-241262.345112</td>\n",
       "      <td>inf</td>\n",
       "      <td>0.045383</td>\n",
       "      <td>3.221602e-23</td>\n",
       "    </tr>\n",
       "    <tr>\n",
       "      <th>beta</th>\n",
       "      <td>0.000145</td>\n",
       "      <td>3168.370031</td>\n",
       "      <td>-232761.691453</td>\n",
       "      <td>inf</td>\n",
       "      <td>0.095318</td>\n",
       "      <td>4.235137e-101</td>\n",
       "    </tr>\n",
       "    <tr>\n",
       "      <th>norm</th>\n",
       "      <td>0.000480</td>\n",
       "      <td>8769.505263</td>\n",
       "      <td>-217554.043109</td>\n",
       "      <td>inf</td>\n",
       "      <td>0.179096</td>\n",
       "      <td>0.000000e+00</td>\n",
       "    </tr>\n",
       "    <tr>\n",
       "      <th>gamma</th>\n",
       "      <td>0.001484</td>\n",
       "      <td>25858.296772</td>\n",
       "      <td>-203167.414114</td>\n",
       "      <td>inf</td>\n",
       "      <td>0.993223</td>\n",
       "      <td>0.000000e+00</td>\n",
       "    </tr>\n",
       "    <tr>\n",
       "      <th>lognorm</th>\n",
       "      <td>0.001603</td>\n",
       "      <td>1793.180180</td>\n",
       "      <td>-202187.780540</td>\n",
       "      <td>inf</td>\n",
       "      <td>0.671548</td>\n",
       "      <td>0.000000e+00</td>\n",
       "    </tr>\n",
       "  </tbody>\n",
       "</table>\n",
       "</div>"
      ],
      "text/plain": [
       "         sumsquare_error           aic            bic  kl_div  ks_statistic  \\\n",
       "burr            0.000074   1981.694736 -241262.345112     inf      0.045383   \n",
       "beta            0.000145   3168.370031 -232761.691453     inf      0.095318   \n",
       "norm            0.000480   8769.505263 -217554.043109     inf      0.179096   \n",
       "gamma           0.001484  25858.296772 -203167.414114     inf      0.993223   \n",
       "lognorm         0.001603   1793.180180 -202187.780540     inf      0.671548   \n",
       "\n",
       "             ks_pvalue  \n",
       "burr      3.221602e-23  \n",
       "beta     4.235137e-101  \n",
       "norm      0.000000e+00  \n",
       "gamma     0.000000e+00  \n",
       "lognorm   0.000000e+00  "
      ]
     },
     "execution_count": 25,
     "metadata": {},
     "output_type": "execute_result"
    },
    {
     "data": {
      "image/png": "[encoded data removed]",
      "text/plain": [
       "<Figure size 640x480 with 1 Axes>"
      ]
     },
     "metadata": {},
     "output_type": "display_data"
    }
   ],
   "source": [
    "f = Fitter(y.values,\n",
    "           distributions=['gamma',\n",
    "                          'lognorm',\n",
    "                          \"beta\",\n",
    "                          \"burr\",\n",
    "                          \"norm\"])\n",
    "f.fit()\n",
    "f.summary()"
   ]
  },
  {
   "cell_type": "code",
   "execution_count": 12,
   "metadata": {},
   "outputs": [
    {
     "name": "stderr",
     "output_type": "stream",
     "text": [
      "Fitting 1 distributions: 100%|██████████| 1/1 [00:00<00:00,  1.47it/s]\n"
     ]
    },
    {
     "data": {
      "text/plain": [
       "{'burr': {'c': 2.4336757321267513,\n",
       "  'd': 2.3736987014670436,\n",
       "  'loc': -0.1117503663963326,\n",
       "  'scale': 30.190820465770095}}"
      ]
     },
     "metadata": {},
     "output_type": "display_data"
    },
    {
     "name": "stderr",
     "output_type": "stream",
     "text": [
      "Fitting 1 distributions: 100%|██████████| 1/1 [00:00<00:00,  2.57it/s]\n"
     ]
    },
    {
     "data": {
      "text/plain": [
       "{'burr': {'c': 2.350771491630069,\n",
       "  'd': 2.6101279071387133,\n",
       "  'loc': -0.09477798726861912,\n",
       "  'scale': 28.50946706833561}}"
      ]
     },
     "metadata": {},
     "output_type": "display_data"
    }
   ],
   "source": [
    "f_train = Fitter(y_train.values, distributions=['burr'])\n",
    "f_train.fit()\n",
    "\n",
    "    f = Fitter(y.values,\n",
    "            distributions=['gamma',\n",
    "                            'lognorm',\n",
    "                            \"beta\",\n",
    "                            \"burr\",\n",
    "                            \"norm\"])\n",
    "    f.fit()\n",
    "    f.summary()\n",
    "\n",
    "    f_train = Fitter(y_train.values, distributions=['burr'])\n",
    "    f_train.fit()\n",
    "\n",
    "    display(f_train.get_best())\n",
    "\n",
    "    f_test = Fitter(y_test.values, distributions=['burr'])\n",
    "    f_test.fit()\n",
    "    display(f_test.get_best())\n"
   ]
  },
  {
   "cell_type": "markdown",
   "metadata": {},
   "source": [
    "# Feature analysis"
   ]
  },
  {
   "cell_type": "markdown",
   "metadata": {},
   "source": [
    "### PCA"
   ]
  },
  {
   "cell_type": "code",
   "execution_count": 114,
   "metadata": {},
   "outputs": [],
   "source": [
    "def make_pca_analysis():\n",
    "    pipe = Pipeline([('median_imputer', FunctionTransformer(median_imputer)),\n",
    "    ('scaler', StandardScaler()),\n",
    "    ('pca', PCA())])\n",
    "\n",
    "    pipe.fit(X_train)\n",
    "    explained_variance = pipe['pca'].explained_variance_ratio_\n",
    "    acc_sum = np.cumsum(explained_variance) \n",
    "\n",
    "    plt.title('Cumulative explained variance')\n",
    "    plt.plot(acc_sum)\n",
    "    plt.grid()\n",
    "    plt.ylabel('Explained variance')\n",
    "    plt.xlabel('Number of features')\n",
    "    plt.plot(45,0.99332219,'ro') \n",
    "    plt.show()\n",
    "\n",
    "    print('Explained variance with 45 features: ', acc_sum[45])"
   ]
  },
  {
   "cell_type": "code",
   "execution_count": 117,
   "metadata": {},
   "outputs": [
    {
     "data": {
      "image/png": "[encoded data removed]",
      "text/plain": [
       "<Figure size 640x480 with 1 Axes>"
      ]
     },
     "metadata": {},
     "output_type": "display_data"
    }
   ],
   "source": [
    "pipe = Pipeline([('median_imputer', FunctionTransformer(median_imputer)),\n",
    "('scaler', StandardScaler()),\n",
    "('pca', PCA())])\n",
    "\n",
    "pipe.fit(X_train)\n",
    "explained_variance = pipe['pca'].explained_variance_ratio_\n",
    "acc_sum = np.cumsum(explained_variance) \n",
    "\n",
    "plt.title('Cumulative explained variance')\n",
    "plt.plot(acc_sum)\n",
    "plt.grid()\n",
    "plt.ylabel('Explained variance')\n",
    "plt.xlabel('Number of features')\n",
    "plt.plot(45,0.99332219,'ro') \n",
    "plt.savefig('./pca.pdf')"
   ]
  },
  {
   "cell_type": "code",
   "execution_count": 129,
   "metadata": {},
   "outputs": [],
   "source": [
    "def multi_collinearity_heatmap(df, figsize=(11,9)):\n",
    "    \n",
    "    \"\"\"\n",
    "    Creates a heatmap of correlations between features in the df. A figure size can optionally be set.\n",
    "    \"\"\"\n",
    "    \n",
    "    # Set the style of the visualization\n",
    "    sns.set(style=\"white\")\n",
    "\n",
    "    # Create a covariance matrix\n",
    "    corr = df.corr()\n",
    "\n",
    "    # Generate a mask the size of our covariance matrix\n",
    "    mask = np.zeros_like(corr, dtype=np.bool)\n",
    "    mask[np.triu_indices_from(mask)] = True\n",
    "\n",
    "    # Set up the matplotlib figure\n",
    "    f, ax = plt.subplots(figsize=figsize)\n",
    "\n",
    "    # Generate a custom diverging colormap\n",
    "    cmap = sns.diverging_palette(220, 10, as_cmap=True)\n",
    "\n",
    "    # Draw the heatmap with the mask and correct aspect ratio\n",
    "    sns.heatmap(corr, mask=mask, cmap=cmap, center=0, square=True, linewidths=.5, cbar_kws={\"shrink\": .5}, vmax=corr[corr != 1.0].max().max())\n",
    "    f.savefig(\"matrix.pdf\")\n",
    "    "
   ]
  },
  {
   "cell_type": "markdown",
   "metadata": {},
   "source": [
    "### Forward selection + Cross Validation"
   ]
  },
  {
   "cell_type": "code",
   "execution_count": 13,
   "metadata": {},
   "outputs": [],
   "source": [
    "def get_feature_importance(clf, params):\n",
    "\tr2 = [] \n",
    "\trmse = []\n",
    "\tfeatures = []\n",
    "\tn_features = []\n",
    "\n",
    "\tfor k in range(1,len(X.columns) + 1):\n",
    "\t\tr2_tmp = []\n",
    "\t\trmse_tmp = []\n",
    "\t\tfor new_feat in X_train.columns:\n",
    "\t\t\tif new_feat in features: continue\n",
    "\t\t\tnew_features = features.copy()\n",
    "\t\t\tnew_features.append(new_feat)\n",
    "\t\t\tpipe = fit_clf_scaler(clf, X_train[new_features],y_train, params, {}, n_features=len(new_features))   \n",
    "\t\t\tr_squared = pipe.score(X_test[new_features],y_test)\n",
    "\t\t\ty_pred = pipe.predict(X_test[new_features])\n",
    "\t\t\trmse_val = mean_squared_error(y_pred, y_test)**(1/2)\n",
    "\t\t\tr2_tmp.append((r_squared, new_feat))                 \n",
    "\t\t\trmse_tmp.append(rmse_val)\n",
    "\t\tr2.append(sorted(r2_tmp, key=lambda x: x[0])[-1][0])\t\n",
    "\t\trmse.append(sorted(rmse_tmp)[-1])\n",
    "\t\tnew_feat = sorted(r2_tmp, key=lambda x: x[0])[-1][1]\n",
    "\t\tfeatures.append(new_feat)\n",
    "\t\tn_features.append(len(features))   \n",
    "\n",
    "\tdf = pd.DataFrame({'n_features': n_features,'R2': r2, 'RMSE':rmse ,'features':features})\n",
    "\n",
    "\treturn df"
   ]
  },
  {
   "cell_type": "code",
   "execution_count": 14,
   "metadata": {},
   "outputs": [],
   "source": [
    "def get_subset_selection_analysis():\n",
    "    df = get_feature_importance(linear_model.LinearRegression, {})\n",
    "    plt.title('Cross-validated subset selection - Linear Regression')\n",
    "    plt.xlabel('Number of features')\n",
    "    plt.ylabel('R squared')\n",
    "    plt.grid()\n",
    "    plt.plot(df['n_features'], df['R2'])\n",
    "    plt.show()\n",
    "\n",
    "    plt.title('Cross-validated subset selection - Linear Regression')\n",
    "    plt.xlabel('Number of features')\n",
    "    plt.ylabel('RMSE')\n",
    "    plt.grid()\n",
    "    plt.plot(df['n_features'], df['RMSE'])\n",
    "    plt.show()\n"
   ]
  },
  {
   "cell_type": "markdown",
   "metadata": {},
   "source": [
    "# Model selection"
   ]
  },
  {
   "cell_type": "markdown",
   "metadata": {},
   "source": [
    "### Decision Trees"
   ]
  },
  {
   "cell_type": "markdown",
   "metadata": {},
   "source": [
    "#### Analysis"
   ]
  },
  {
   "cell_type": "code",
   "execution_count": 59,
   "metadata": {},
   "outputs": [],
   "source": [
    "def get_decision_tree_analysis():\n",
    "    rmse = []\n",
    "    max_depth = []\n",
    "    for k in range(1, 30):\n",
    "        rmse_val = fit_clf_scaler_cv(DecisionTreeRegressor, X_train,y_train, {\"max_depth\": k}, {\"verbose\": 0}, n_features=25) \n",
    "        rmse.append(rmse_val)\t\n",
    "        max_depth.append(k)\n",
    "\n",
    "    df = pd.DataFrame({'RMSE': rmse,'max_depth':max_depth})\n",
    "    plt.title('Influence of the max depth - Decision Tree Regression - 5 fold CV')\n",
    "    plt.xlabel('Max depth')\n",
    "    plt.ylabel('RMSE')\n",
    "    plt.grid()\n",
    "    plt.plot(df['max_depth'], df['RMSE'])\n",
    "    plt.show()"
   ]
  },
  {
   "cell_type": "markdown",
   "metadata": {},
   "source": [
    "#### Model selection"
   ]
  },
  {
   "cell_type": "code",
   "execution_count": 65,
   "metadata": {},
   "outputs": [
    {
     "name": "stdout",
     "output_type": "stream",
     "text": [
      "r_squared:  0.3053300346014107\n",
      "rmse:  40.27958266853882\n"
     ]
    }
   ],
   "source": [
    "clf_params = {'max_depth': 4, 'min_samples_split': 2}\n",
    "rmse, r_squared = fit_clf_scaler_cv(DecisionTreeRegressor, X_train, y_train, clf_params)\n",
    "\n",
    "print('r_squared: ', r_squared)\n",
    "print('rmse: ', rmse)"
   ]
  },
  {
   "cell_type": "markdown",
   "metadata": {},
   "source": [
    "### SVM"
   ]
  },
  {
   "cell_type": "markdown",
   "metadata": {},
   "source": [
    "#### Optimization"
   ]
  },
  {
   "cell_type": "code",
   "execution_count": 17,
   "metadata": {},
   "outputs": [],
   "source": [
    "def optimize_smv():\n",
    "    def objective(trial: optuna.trial.Trial):\n",
    "\n",
    "        parameters = {\n",
    "            'kernel': trial.suggest_categorical('kernel', ['linear', 'poly', 'rbf', 'sigmoid']),\n",
    "            'C': trial.suggest_float('C', 1e-3, 1e3),\n",
    "            'epsilon': trial.suggest_float('epsilon', 1e-3, 1)\n",
    "        }\n",
    "\n",
    "        clf = svm.SVR\n",
    "        return -fit_clf_scaler(clf, X_train, y_train, parameters)\n",
    "\n",
    "    study = optuna.create_study()\n",
    "    study.optimize(objective, n_trials=1)"
   ]
  },
  {
   "cell_type": "markdown",
   "metadata": {},
   "source": [
    "#### Model selection"
   ]
  },
  {
   "cell_type": "code",
   "execution_count": 66,
   "metadata": {},
   "outputs": [
    {
     "name": "stdout",
     "output_type": "stream",
     "text": [
      "r_squared:  0.27464201177827396\n",
      "rmse:  41.20496844776924\n"
     ]
    }
   ],
   "source": [
    "clf_params = {'kernel': 'rbf'}#, 'C': 595.6756199722245, 'epsilon': 0.8771538699650302}\n",
    "rmse, r_squared = fit_clf_scaler_cv(svm.SVR, X_train, y_train, clf_params, {\"verbose\": 0})\n",
    "\n",
    "print('r_squared: ', r_squared)\n",
    "print('rmse: ', rmse)"
   ]
  },
  {
   "cell_type": "code",
   "execution_count": null,
   "metadata": {},
   "outputs": [],
   "source": [
    "clf_params = {'kernel': 'rbf'}#, 'C': 595.6756199722245, 'epsilon': 0.8771538699650302}\n",
    "pipe = fit_clf_scaler(svm.SVR, X_train, y_train, clf_params, {\"verbose\": 1})\n",
    "r_squared = pipe.score(X_test,y_test)\n",
    "y_pred = pipe.predict(X_test)\n",
    "rmse = mean_squared_error(y_pred, y_test)**(1/2)\n",
    "\n",
    "print('r_squared: ', r_squared)\n",
    "print('rmse: ', rmse)"
   ]
  },
  {
   "cell_type": "markdown",
   "metadata": {},
   "source": [
    "### AdaBoost"
   ]
  },
  {
   "cell_type": "markdown",
   "metadata": {},
   "source": [
    "#### Optimization"
   ]
  },
  {
   "cell_type": "code",
   "execution_count": 34,
   "metadata": {},
   "outputs": [],
   "source": [
    "def optimize_adaboost():\n",
    "    def objective(trial: optuna.trial.Trial):\n",
    "\n",
    "        parameters = {\n",
    "            'n_estimators': trial.suggest_int('n_estimators', 1, 200),\n",
    "            'learning_rate': trial.suggest_float('learning_rate', 1e-6, 1)\n",
    "        }\n",
    "\n",
    "        clf = AdaBoostRegressor\n",
    "        return -fit_clf_scaler(clf, X_train, y_train, parameters, n_features=5)\n",
    "\n",
    "    study = optuna.create_study()\n",
    "    study.optimize(objective, n_trials=10)"
   ]
  },
  {
   "cell_type": "markdown",
   "metadata": {},
   "source": [
    "#### Model selection"
   ]
  },
  {
   "cell_type": "code",
   "execution_count": 67,
   "metadata": {},
   "outputs": [
    {
     "name": "stdout",
     "output_type": "stream",
     "text": [
      "r_squared:  -0.7737609942599648\n",
      "rmse:  63.911137175415696\n"
     ]
    }
   ],
   "source": [
    "clf_params = {'n_estimators': 119, 'learning_rate': 0.9617041908836014}\n",
    "rmse, r_squared = fit_clf_scaler_cv(AdaBoostRegressor, X_train, y_train, clf_params, {\"verbose\": 0})\n",
    "\n",
    "print('r_squared: ', r_squared)\n",
    "print('rmse: ', rmse)"
   ]
  },
  {
   "cell_type": "markdown",
   "metadata": {},
   "source": [
    "### KNN"
   ]
  },
  {
   "cell_type": "markdown",
   "metadata": {},
   "source": [
    "#### Optimization"
   ]
  },
  {
   "cell_type": "code",
   "execution_count": 36,
   "metadata": {},
   "outputs": [],
   "source": [
    "def optimize_knn():\n",
    "    def objective(trial: optuna.trial.Trial):\n",
    "\n",
    "        trial_suggestion = {\n",
    "            'n_neighbors': trial.suggest_int('n_neighbors', 1, 200),\n",
    "            'leaf_size': trial.suggest_int('leaf_size', 10, 50),\n",
    "        }\n",
    "\n",
    "        clf_params = {\n",
    "            'n_neighbors': trial_suggestion['n_neighbors'],\n",
    "            'leaf_size': trial_suggestion['leaf_size'],\n",
    "            'n_jobs': -1\n",
    "        }\n",
    "        imputer_params = {\n",
    "            \"n_neighbors\": 3\n",
    "        }\n",
    "\n",
    "        clf = KNeighborsRegressor\n",
    "        return fit_clf_scaler_cv(clf, X_train, y_train, clf_params, imputer_params, n_features=28)\n",
    "\n",
    "    study = optuna.create_study()\n",
    "    study.optimize(objective, n_trials=30, n_jobs=-1)"
   ]
  },
  {
   "cell_type": "markdown",
   "metadata": {},
   "source": [
    "#### Model Selection"
   ]
  },
  {
   "cell_type": "code",
   "execution_count": 68,
   "metadata": {},
   "outputs": [
    {
     "name": "stdout",
     "output_type": "stream",
     "text": [
      "r_squared:  0.3848138185662309\n",
      "rmse:  37.93403678058378\n"
     ]
    }
   ],
   "source": [
    "clf_params =  {'n_neighbors': 84, 'leaf_size': 26}\n",
    "rmse, r_squared = fit_clf_scaler_cv(KNeighborsRegressor, X_train, y_train, clf_params, {\"verbose\": 0})\n",
    "print('r_squared: ', r_squared)\n",
    "print('rmse: ', rmse)"
   ]
  },
  {
   "cell_type": "markdown",
   "metadata": {},
   "source": [
    "### Gradient Tree Boosting"
   ]
  },
  {
   "cell_type": "markdown",
   "metadata": {},
   "source": [
    "#### Optimization"
   ]
  },
  {
   "cell_type": "code",
   "execution_count": null,
   "metadata": {},
   "outputs": [],
   "source": [
    "def optimize_gradient_boost():\n",
    "    def objective(trial: optuna.trial.Trial):\n",
    "\n",
    "        trial_suggestion = {\n",
    "            'n_estimators': trial.suggest_int('n_estimators', 1, 200),\n",
    "            'learning_rate': trial.suggest_float('learning_rate', 1e-6, 1),\n",
    "            'max_depth': trial.suggest_int('max_depth', 1, 20),\n",
    "            'n_neighbors': trial.suggest_int('n_neighbors',  2, 4),\n",
    "            'n_features': trial.suggest_int('n_features', 10, 54)\n",
    "        }\n",
    "\n",
    "        clf_params = {\n",
    "            'n_estimators': trial_suggestion['n_estimators'],\n",
    "            'learning_rate': trial_suggestion['learning_rate'],\n",
    "            'max_depth': trial_suggestion['max_depth'],\n",
    "        }\n",
    "        imputer_params = {\n",
    "            \"n_neighbors\": trial_suggestion['n_neighbors']\n",
    "        }\n",
    "\n",
    "        clf = GradientBoostingRegressor\n",
    "        return fit_clf_scaler_cv(clf, X_train, y_train, clf_params, imputer_params, n_features=trial_suggestion['n_features'])\n",
    "\n",
    "    study = optuna.create_study()\n",
    "    study.optimize(objective, n_trials=10, n_jobs=-1)"
   ]
  },
  {
   "cell_type": "markdown",
   "metadata": {},
   "source": [
    "#### Model selection"
   ]
  },
  {
   "cell_type": "code",
   "execution_count": 69,
   "metadata": {},
   "outputs": [
    {
     "name": "stdout",
     "output_type": "stream",
     "text": [
      "r_squared:  0.43997522756037216\n",
      "rmse:  36.1987953657963\n"
     ]
    }
   ],
   "source": [
    "clf_params = {'n_estimators': 178, 'learning_rate': 0.15253399946567545, 'max_depth': 2} \n",
    "rmse, r_squared = fit_clf_scaler_cv(GradientBoostingRegressor, X_train, y_train, clf_params, {\"verbose\": 0})\n",
    "\n",
    "print('r_squared: ', r_squared)\n",
    "print('rmse: ', rmse)"
   ]
  },
  {
   "cell_type": "code",
   "execution_count": 82,
   "metadata": {},
   "outputs": [
    {
     "name": "stdout",
     "output_type": "stream",
     "text": [
      "[Pipeline] .... (step 1 of 4) Processing median_imputer, total=   0.0s\n",
      "[Pipeline] ............ (step 2 of 4) Processing scaler, total=   0.0s\n",
      "[Pipeline] ............... (step 3 of 4) Processing pca, total=   0.0s\n",
      "[Pipeline] ............... (step 4 of 4) Processing svr, total=  16.5s\n",
      "r_squared:  0.37931461886713536\n",
      "rmse:  33.682215060732275\n"
     ]
    }
   ],
   "source": [
    "clf_params = {'n_estimators': 178, 'learning_rate': 0.15253399946567545, 'max_depth': 2} \n",
    "pipe = fit_clf_scaler(GradientBoostingRegressor, X_train, y_train, clf_params, {\"verbose\": 1})\n",
    "r_squared = pipe.score(X_test,y_test)\n",
    "y_pred = pipe.predict(X_test)\n",
    "rmse = mean_squared_error(y_pred, y_test)**(1/2)\n",
    "\n",
    "print('r_squared: ', r_squared)\n",
    "print('rmse: ', rmse)"
   ]
  },
  {
   "cell_type": "markdown",
   "metadata": {},
   "source": [
    "### MLP"
   ]
  },
  {
   "cell_type": "markdown",
   "metadata": {},
   "source": [
    "#### Optimization"
   ]
  },
  {
   "cell_type": "code",
   "execution_count": 73,
   "metadata": {},
   "outputs": [],
   "source": [
    "simplefilter(\"ignore\", category=ConvergenceWarning)\n",
    "def optimize_mlp():\n",
    "    def objective(trial: optuna.trial.Trial):\n",
    "\n",
    "        trial_suggestions = {\n",
    "            'first_layer': trial.suggest_int('first_layer', 1, 100),\n",
    "            'second_layer': trial.suggest_int('second_layer', 1, 100),\n",
    "            'activation': trial.suggest_categorical('activation', ['relu', 'logistic', 'tanh', 'relu'])\n",
    "        }\n",
    "\n",
    "        clf = MLPRegressor \n",
    "        clf_params = {\n",
    "            'hidden_layer_sizes': (trial_suggestions['first_layer'], trial_suggestions['second_layer']),#, trial_suggestions['third_layer']),\n",
    "            'activation': trial_suggestions['activation'],\n",
    "            'max_iter': 200,\n",
    "            'learning_rate': 'adaptive'\n",
    "        }\n",
    "        rmse, r_squared = fit_clf_scaler_cv(clf, X_train, y_train, clf_params, {\"verbose\": 0})\n",
    "        return rmse\n",
    "\n",
    "    study = optuna.create_study()\n",
    "    study.optimize(objective, n_trials=4)"
   ]
  },
  {
   "cell_type": "markdown",
   "metadata": {},
   "source": [
    "#### Model selection"
   ]
  },
  {
   "cell_type": "code",
   "execution_count": 79,
   "metadata": {},
   "outputs": [
    {
     "name": "stdout",
     "output_type": "stream",
     "text": [
      "r_squared:  0.4294232742959682\n",
      "rmse:  36.53176887530087\n"
     ]
    }
   ],
   "source": [
    "clf_params = {\n",
    "    \"hidden_layer_sizes\": (14, 95),\n",
    "    \"activation\": 'relu'\n",
    "}\n",
    "rmse, r_squared = fit_clf_scaler_cv(sklearn.neural_network.MLPRegressor , X_train, y_train, clf_params, {\"verbose\": 0})\n",
    "\n",
    "print('r_squared: ', r_squared)\n",
    "print('rmse: ', rmse)"
   ]
  },
  {
   "cell_type": "code",
   "execution_count": 83,
   "metadata": {},
   "outputs": [
    {
     "name": "stdout",
     "output_type": "stream",
     "text": [
      "[Pipeline] .... (step 1 of 4) Processing median_imputer, total=   0.0s\n",
      "[Pipeline] ............ (step 2 of 4) Processing scaler, total=   0.0s\n",
      "[Pipeline] ............... (step 3 of 4) Processing pca, total=   0.0s\n",
      "[Pipeline] ............... (step 4 of 4) Processing svr, total=  28.7s\n",
      "r_squared:  0.40734843465884263\n",
      "rmse:  32.91278282351066\n"
     ]
    }
   ],
   "source": [
    "clf_params = {\n",
    "    \"hidden_layer_sizes\": (14, 95),\n",
    "    \"activation\": 'logistic'\n",
    "}\n",
    "pipe = fit_clf_scaler(sklearn.neural_network.MLPRegressor, X_train, y_train, clf_params, {\"verbose\": 1})\n",
    "r_squared = pipe.score(X_test,y_test)\n",
    "y_pred = pipe.predict(X_test)\n",
    "rmse = mean_squared_error(y_pred, y_test)**(1/2)\n",
    "\n",
    "print('r_squared: ', r_squared)\n",
    "print('rmse: ', rmse)"
   ]
  },
  {
   "cell_type": "markdown",
   "metadata": {},
   "source": [
    "### XGBoost"
   ]
  },
  {
   "cell_type": "markdown",
   "metadata": {},
   "source": [
    "#### Model selection"
   ]
  },
  {
   "cell_type": "code",
   "execution_count": 80,
   "metadata": {},
   "outputs": [
    {
     "name": "stdout",
     "output_type": "stream",
     "text": [
      "r_squared:  0.4590075445890086\n",
      "rmse:  35.5799051734408\n"
     ]
    }
   ],
   "source": [
    "from xgboost import XGBRegressor\n",
    "clf_params = {\n",
    "    \"learning_rate\": 0.001,\n",
    "    \"n_estimators\":6000,\n",
    "    \"max_depth\":4,\n",
    "    \"min_child_weight\":0,\n",
    "    \"gamma\":0.6,\n",
    "    \"subsample\":0.7,\n",
    "    \"colsample_bytree\":0.7,\n",
    "    \"objective\":'reg:squarederror',\n",
    "    \"nthread\":-1,\n",
    "    \"scale_pos_weight\":1,\n",
    "    \"seed\":27,\n",
    "    \"reg_alpha\":0.00006,\n",
    "    \"random_state\":42\n",
    "}\n",
    "rmse, r_squared = fit_clf_scaler_cv(XGBRegressor, X_train, y_train, clf_params, {\"verbose\": 0})\n",
    "\n",
    "print('r_squared: ', r_squared)\n",
    "print('rmse: ', rmse)"
   ]
  },
  {
   "cell_type": "code",
   "execution_count": 81,
   "metadata": {},
   "outputs": [
    {
     "name": "stdout",
     "output_type": "stream",
     "text": [
      "r_squared:  0.39719589117447807\n",
      "rmse:  33.193495434221596\n"
     ]
    }
   ],
   "source": [
    "clf_params = {\n",
    "    \"learning_rate\": 0.001,\n",
    "    \"n_estimators\":6000,\n",
    "    \"max_depth\":4,\n",
    "    \"min_child_weight\":0,\n",
    "    \"gamma\":0.6,\n",
    "    \"subsample\":0.7,\n",
    "    \"colsample_bytree\":0.7,\n",
    "    \"objective\":'reg:squarederror',\n",
    "    \"nthread\":-1,\n",
    "    \"scale_pos_weight\":1,\n",
    "    \"seed\":27,\n",
    "    \"reg_alpha\":0.00006,\n",
    "    \"random_state\":42\n",
    "}\n",
    "\n",
    "pipe = fit_clf_scaler(XGBRegressor, X_train, y_train, clf_params, {\"verbose\": 0})\n",
    "\n",
    "r_squared = pipe.score(X_test,y_test)\n",
    "y_pred = pipe.predict(X_test)\n",
    "rmse = mean_squared_error(y_pred, y_test)**(1/2)\n",
    "\n",
    "print('r_squared: ', r_squared)\n",
    "print('rmse: ', rmse)"
   ]
  },
  {
   "cell_type": "markdown",
   "metadata": {},
   "source": [
    "### Random Forest"
   ]
  },
  {
   "cell_type": "markdown",
   "metadata": {},
   "source": [
    "#### Optimization"
   ]
  },
  {
   "cell_type": "code",
   "execution_count": null,
   "metadata": {},
   "outputs": [],
   "source": [
    "def optimize_random_forest():\n",
    "    def objective(trial: optuna.trial.Trial):\n",
    "\n",
    "        trial_suggestion = {\n",
    "            'n_estimators': trial.suggest_int('n_estimators', 1, 200),\n",
    "            'max_depth': trial.suggest_int('max_depth', 1, 20),\n",
    "            'n_neighbors': trial.suggest_int('n_neighbors',  2, 4),\n",
    "        }\n",
    "\n",
    "        clf_params = {\n",
    "            \"n_estimators\": trial_suggestion['n_estimators'],\n",
    "            \"criterion\": \"squared_error\",\n",
    "\n",
    "        }\n",
    "        imputer_params = {\n",
    "            \"n_neighbors\": trial_suggestion['n_neighbors']\n",
    "        }\n",
    "\n",
    "        clf = GradientBoostingRegressor\n",
    "        return fit_clf_scaler_cv(clf, X_train, y_train, clf_params, imputer_params, n_features=28)\n",
    "\n",
    "    study = optuna.create_study()\n",
    "    study.optimize(objective, n_trials=10, n_jobs=-1)"
   ]
  },
  {
   "cell_type": "markdown",
   "metadata": {},
   "source": [
    "#### Model selection"
   ]
  },
  {
   "cell_type": "code",
   "execution_count": 72,
   "metadata": {},
   "outputs": [
    {
     "name": "stdout",
     "output_type": "stream",
     "text": [
      "r_squared:  0.4093093736997332\n",
      "rmse:  37.18032085955069\n"
     ]
    }
   ],
   "source": [
    "clf_params = {'n_estimators': 134, 'max_depth': 5}\n",
    "rmse, r_squared = fit_clf_scaler_cv(RandomForestRegressor, X_train, y_train, clf_params, {\"verbose\": 0})\n",
    "\n",
    "print('r_squared: ', r_squared)\n",
    "print('rmse: ', rmse)"
   ]
  }
 ],
 "metadata": {
  "kernelspec": {
   "display_name": "Python 3 (ipykernel)",
   "language": "python",
   "name": "python3"
  },
  "language_info": {
   "codemirror_mode": {
    "name": "ipython",
    "version": 3
   },
   "file_extension": ".py",
   "mimetype": "text/x-python",
   "name": "python",
   "nbconvert_exporter": "python",
   "pygments_lexer": "ipython3",
   "version": "3.10.8"
  },
  "vscode": {
   "interpreter": {
    "hash": "e7370f93d1d0cde622a1f8e1c04877d8463912d04d973331ad4851f04de6915a"
   }
  }
 },
 "nbformat": 4,
 "nbformat_minor": 4
}
