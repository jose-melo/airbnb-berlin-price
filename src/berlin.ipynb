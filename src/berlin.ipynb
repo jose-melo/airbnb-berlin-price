{
 "cells": [
  {
   "cell_type": "code",
   "execution_count": 1,
   "metadata": {},
   "outputs": [
    {
     "name": "stderr",
     "output_type": "stream",
     "text": [
      "Matplotlib created a temporary config/cache directory at /tmp/matplotlib-_4rxr0p4 because the default path (/home/bold_satoshi/.config/matplotlib) is not a writable directory; it is highly recommended to set the MPLCONFIGDIR environment variable to a writable directory, in particular to speed up the import of Matplotlib and to better support multiprocessing.\n",
      "/home/bold_satoshi/.local/lib/python3.10/site-packages/tqdm/auto.py:22: TqdmWarning: IProgress not found. Please update jupyter and ipywidgets. See https://ipywidgets.readthedocs.io/en/stable/user_install.html\n",
      "  from .autonotebook import tqdm as notebook_tqdm\n"
     ]
    }
   ],
   "source": [
    "import numpy as np\n",
    "import pandas as pd\n",
    "import sys\n",
    "import sklearn.preprocessing\n",
    "import sklearn.model_selection\n",
    "import sklearn.metrics\n",
    "import sklearn\n",
    "import lazypredict\n",
    "import matplotlib.pyplot as plt\n",
    "from tqdm.notebook import tnrange\n",
    "import itertools\n",
    "from sklearn.impute import KNNImputer\n",
    "import tqdm\n",
    "from sklearn.tree import DecisionTreeRegressor\n",
    "from sklearn.model_selection import cross_validate\n",
    "from sklearn import linear_model\n",
    "from sklearn.metrics import mean_squared_error\n",
    "from sklearn.model_selection import KFold\n",
    "from sklearn.decomposition import PCA\n",
    "from sklearn.neural_network import MLPRegressor\n",
    "from sklearn.model_selection import GridSearchCV\n",
    "from sklearn import svm\n",
    "import optuna\n",
    "from sklearn.preprocessing import StandardScaler\n",
    "from sklearn.pipeline import Pipeline\n",
    "from sklearn.ensemble import AdaBoostRegressor\n",
    "from sklearn.ensemble import GradientBoostingRegressor\n",
    "from sklearn.neural_network import MLPRegressor\n",
    "from warnings import simplefilter\n",
    "from sklearn.exceptions import ConvergenceWarning\n",
    "from sklearn.preprocessing import FunctionTransformer\n",
    "from fitter import Fitter, get_common_distributions, get_distributions\n",
    "import time\n",
    "from datetime import datetime"
   ]
  },
  {
   "cell_type": "code",
   "execution_count": 2,
   "metadata": {},
   "outputs": [],
   "source": [
    "df_train = pd.read_csv('../DATA/train_airbnb_berlin.xls')"
   ]
  },
  {
   "cell_type": "markdown",
   "metadata": {},
   "source": [
    "# Pre processing"
   ]
  },
  {
   "cell_type": "markdown",
   "metadata": {},
   "source": [
    "### Feature analysis"
   ]
  },
  {
   "cell_type": "code",
   "execution_count": 60,
   "metadata": {},
   "outputs": [
    {
     "data": {
      "image/png": "[encoded data removed]",
      "text/plain": [
       "<Figure size 640x480 with 4 Axes>"
      ]
     },
     "metadata": {},
     "output_type": "display_data"
    }
   ],
   "source": [
    "plt.subplot(221)\n",
    "df_train.boxplot(column='Price')\n",
    "\n",
    "plt.subplot(222)\n",
    "df_train.boxplot(column='Square Feet')\n",
    "\n",
    "plt.subplot(223)\n",
    "df_train.boxplot(column='Value Rating')\n",
    "\n",
    "plt.subplot(224)\n",
    "df_train.boxplot(column='Accuracy Rating')\n",
    "\n",
    "plt.show()"
   ]
  },
  {
   "cell_type": "code",
   "execution_count": 61,
   "metadata": {},
   "outputs": [],
   "source": [
    "def percentage_of_nans(df: pd.DataFrame) -> list:\n",
    "    nan_percentage = pd.DataFrame(columns=['Feature Name', 'Percentage of NaNs'])\n",
    "    for idx, feature in enumerate(df.columns):\n",
    "        notnans = df_train[feature].notna().value_counts()\n",
    "        percentage = 0\n",
    "        if False in notnans:\n",
    "            percentage = int(10000*notnans[False]/len(df_train))/100\n",
    "\n",
    "        nan_percentage.loc[idx] = [feature, percentage]\n",
    "    return nan_percentage"
   ]
  },
  {
   "cell_type": "code",
   "execution_count": 62,
   "metadata": {},
   "outputs": [
    {
     "data": {
      "text/html": [
       "<div>\n",
       "<style scoped>\n",
       "    .dataframe tbody tr th:only-of-type {\n",
       "        vertical-align: middle;\n",
       "    }\n",
       "\n",
       "    .dataframe tbody tr th {\n",
       "        vertical-align: top;\n",
       "    }\n",
       "\n",
       "    .dataframe thead th {\n",
       "        text-align: right;\n",
       "    }\n",
       "</style>\n",
       "<table border=\"1\" class=\"dataframe\">\n",
       "  <thead>\n",
       "    <tr style=\"text-align: right;\">\n",
       "      <th></th>\n",
       "      <th>Feature Name</th>\n",
       "      <th>Percentage of NaNs</th>\n",
       "    </tr>\n",
       "  </thead>\n",
       "  <tbody>\n",
       "    <tr>\n",
       "      <th>0</th>\n",
       "      <td>Square Feet</td>\n",
       "      <td>98.06</td>\n",
       "    </tr>\n",
       "    <tr>\n",
       "      <th>1</th>\n",
       "      <td>Host Response Time</td>\n",
       "      <td>45.08</td>\n",
       "    </tr>\n",
       "    <tr>\n",
       "      <th>2</th>\n",
       "      <td>Host Response Rate</td>\n",
       "      <td>45.08</td>\n",
       "    </tr>\n",
       "    <tr>\n",
       "      <th>3</th>\n",
       "      <td>Checkin Rating</td>\n",
       "      <td>18.94</td>\n",
       "    </tr>\n",
       "    <tr>\n",
       "      <th>4</th>\n",
       "      <td>Accuracy Rating</td>\n",
       "      <td>18.93</td>\n",
       "    </tr>\n",
       "    <tr>\n",
       "      <th>5</th>\n",
       "      <td>Location Rating</td>\n",
       "      <td>18.93</td>\n",
       "    </tr>\n",
       "    <tr>\n",
       "      <th>6</th>\n",
       "      <td>Value Rating</td>\n",
       "      <td>18.93</td>\n",
       "    </tr>\n",
       "    <tr>\n",
       "      <th>7</th>\n",
       "      <td>Cleanliness Rating</td>\n",
       "      <td>18.92</td>\n",
       "    </tr>\n",
       "    <tr>\n",
       "      <th>8</th>\n",
       "      <td>Communication Rating</td>\n",
       "      <td>18.92</td>\n",
       "    </tr>\n",
       "    <tr>\n",
       "      <th>9</th>\n",
       "      <td>Overall Rating</td>\n",
       "      <td>18.87</td>\n",
       "    </tr>\n",
       "  </tbody>\n",
       "</table>\n",
       "</div>"
      ],
      "text/plain": [
       "           Feature Name  Percentage of NaNs\n",
       "0           Square Feet               98.06\n",
       "1    Host Response Time               45.08\n",
       "2    Host Response Rate               45.08\n",
       "3        Checkin Rating               18.94\n",
       "4       Accuracy Rating               18.93\n",
       "5       Location Rating               18.93\n",
       "6          Value Rating               18.93\n",
       "7    Cleanliness Rating               18.92\n",
       "8  Communication Rating               18.92\n",
       "9        Overall Rating               18.87"
      ]
     },
     "execution_count": 62,
     "metadata": {},
     "output_type": "execute_result"
    }
   ],
   "source": [
    "nan_percentage = percentage_of_nans(df_train)\n",
    "df = nan_percentage[nan_percentage['Percentage of NaNs'] >= 18]\n",
    "df.sort_values(by=['Percentage of NaNs'], ascending=False).reset_index().drop(['index'], axis=1)"
   ]
  },
  {
   "cell_type": "markdown",
   "metadata": {},
   "source": [
    "### Data cleaning"
   ]
  },
  {
   "cell_type": "code",
   "execution_count": 43,
   "metadata": {},
   "outputs": [],
   "source": [
    "from sklearn.preprocessing import LabelEncoder\n",
    "\n",
    "def pre_process_raw(df: pd.DataFrame):\n",
    "    df.columns = df.columns. str.lower().str.replace(' ','_')         \n",
    "\n",
    "    # Converting to datetime\n",
    "    df.host_since = pd.to_datetime(df.host_since)               \n",
    "\n",
    "    cols_to_drop = ['listing_name', 'host_id', 'host_name', 'city', 'country_code', 'country' ]\n",
    "    df = df.drop(cols_to_drop, axis=1)\n",
    "    df.set_index('listing_id', inplace=True)\n",
    "\n",
    "    df.drop(['square_feet'], axis=1, inplace=True)\n",
    "\n",
    "    for col in df.columns:\n",
    "        df[col] = df[col].replace('*', np.nan)\n",
    "\n",
    "    df.drop(['first_review','last_review'], axis=1, inplace=True)\n",
    "    df = df.dropna(subset=['price'], how='all')\n",
    "    df = df.dropna(subset=['overall_rating', 'accuracy_rating','cleanliness_rating','checkin_rating',\n",
    "                            'communication_rating','location_rating','value_rating'], how='all')\n",
    "    \n",
    "    change = ['postal_code','accomodates','latitude',\n",
    "          'longitude','bathrooms','bedrooms','beds','guests_included','min_nights','reviews','overall_rating','accuracy_rating',\n",
    "          'cleanliness_rating','checkin_rating', 'communication_rating','location_rating','value_rating' ]\n",
    "\n",
    "    for i in change:\n",
    "        df[i]=pd.to_numeric(df[i], downcast=\"float\")\n",
    "\n",
    "    #Replacing the null values\n",
    "\n",
    "\n",
    "    obj = df.select_dtypes(include = \"object\").columns\n",
    "    le = LabelEncoder()\n",
    "    for i in obj:\n",
    "        df[i] = le.fit_transform(df[i].astype(str))\n",
    "    \n",
    "    X = df.drop('price', axis = 1)\n",
    "\n",
    "    # Output/Dependent variable\n",
    "\n",
    "    y = df['price']\n",
    "    return X, y\n",
    "\n",
    "def median_imputer(df: pd.DataFrame):\n",
    "    change = ['postal_code','accomodates','latitude',\n",
    "        'longitude','bathrooms','bedrooms','beds','guests_included','min_nights','reviews','overall_rating','accuracy_rating',\n",
    "        'cleanliness_rating','checkin_rating', 'communication_rating','location_rating','value_rating' ]\n",
    "    \n",
    "    df = df.copy()\n",
    "\n",
    "    if 'host_since' in df.columns:\n",
    "        # Calculating the number of days    \n",
    "        df['host_days_active'] = (datetime(2019, 7, 21) - df.host_since).astype('timedelta64[D]').copy()\n",
    "\n",
    "        # Replacing null values with the median\n",
    "        df['host_days_active'] = df.host_days_active.fillna(df.host_days_active.median()).copy()\n",
    "\n",
    "        df['host_days_active'] = (datetime(2019, 7, 21) - df.host_since).astype('timedelta64[D]').copy()\n",
    "        df.drop('host_since', axis=1, inplace=True)\n",
    "\n",
    "    for col in change:\n",
    "        if col not in df.columns:continue\n",
    "        df[col].fillna(df[col].median(), inplace=True)\n",
    "\n",
    "    df = df.fillna(0).copy()\n",
    "\n",
    "    return df"
   ]
  },
  {
   "cell_type": "code",
   "execution_count": 54,
   "metadata": {},
   "outputs": [],
   "source": [
    "def fit_clf_scaler_cv(clf, X, y, clf_params, n_features=26):\n",
    "    X = X.reset_index(drop=True)\n",
    "    y = y.reset_index(drop=True)\n",
    "    kf = KFold(n_splits=5)\n",
    "    \n",
    "    metric = []\n",
    "    X = median_imputer(X)\n",
    "\n",
    "    for train_index, test_index in kf.split(X):\n",
    "        X_train, X_test = X.loc[train_index], X.loc[test_index]\n",
    "        y_train, y_test = y.loc[train_index], y.loc[test_index]\n",
    "\n",
    "        pipe = Pipeline([\n",
    "        ('scaler', StandardScaler()),\n",
    "        ('pca', PCA(n_components=n_features)),\n",
    "        ('svr', clf(**clf_params))])\n",
    "        \n",
    "        pipe.fit(X_train,y_train)\n",
    "        y_pred = pipe.predict(X_test)\n",
    "        rmse = mean_squared_error(y_pred, y_test)**(1/2)\n",
    "        metric.append(rmse)\n",
    "    return np.array(metric).mean()\n",
    "\n",
    "def fit_clf_scaler(clf, X, y, clf_params, pipeline_params,n_features=26):\n",
    "    X = X.copy()\n",
    "    y = y.copy()\n",
    "    X = X.reset_index(drop=True)\n",
    "    y = y.reset_index(drop=True)\n",
    "    \n",
    "    pipe = Pipeline([('median_imputer', FunctionTransformer(median_imputer)),\n",
    "    ('scaler', StandardScaler()),\n",
    "    ('pca', PCA(n_components=n_features)),\n",
    "    ('svr', clf(**clf_params))], **pipeline_params)\n",
    "    \n",
    "    pipe.fit(X,y)\n",
    "    return pipe "
   ]
  },
  {
   "cell_type": "code",
   "execution_count": 44,
   "metadata": {},
   "outputs": [],
   "source": [
    "X, y = pre_process_raw(df_train)"
   ]
  },
  {
   "cell_type": "code",
   "execution_count": 45,
   "metadata": {},
   "outputs": [],
   "source": [
    "X_train, X_test, y_train, y_test = sklearn.model_selection.train_test_split(X, y, test_size=0.2, random_state=42)"
   ]
  },
  {
   "cell_type": "markdown",
   "metadata": {},
   "source": [
    "### Train test split"
   ]
  },
  {
   "cell_type": "code",
   "execution_count": 7,
   "metadata": {},
   "outputs": [
    {
     "data": {
      "image/png": "[encoded data removed]",
      "text/plain": [
       "<Figure size 640x480 with 1 Axes>"
      ]
     },
     "metadata": {},
     "output_type": "display_data"
    }
   ],
   "source": [
    "plt.hist(y_train,bins=100, label='train')\n",
    "plt.hist(y_test, bins=100,label='test')\n",
    "plt.legend()\n",
    "plt.grid(axis='x')\n",
    "plt.show()\n"
   ]
  },
  {
   "cell_type": "code",
   "execution_count": 8,
   "metadata": {},
   "outputs": [
    {
     "name": "stderr",
     "output_type": "stream",
     "text": [
      "Fitting 5 distributions: 100%|██████████| 5/5 [00:02<00:00,  1.86it/s]\n"
     ]
    },
    {
     "data": {
      "text/html": [
       "<div>\n",
       "<style scoped>\n",
       "    .dataframe tbody tr th:only-of-type {\n",
       "        vertical-align: middle;\n",
       "    }\n",
       "\n",
       "    .dataframe tbody tr th {\n",
       "        vertical-align: top;\n",
       "    }\n",
       "\n",
       "    .dataframe thead th {\n",
       "        text-align: right;\n",
       "    }\n",
       "</style>\n",
       "<table border=\"1\" class=\"dataframe\">\n",
       "  <thead>\n",
       "    <tr style=\"text-align: right;\">\n",
       "      <th></th>\n",
       "      <th>sumsquare_error</th>\n",
       "      <th>aic</th>\n",
       "      <th>bic</th>\n",
       "      <th>kl_div</th>\n",
       "      <th>ks_statistic</th>\n",
       "      <th>ks_pvalue</th>\n",
       "    </tr>\n",
       "  </thead>\n",
       "  <tbody>\n",
       "    <tr>\n",
       "      <th>burr</th>\n",
       "      <td>0.000074</td>\n",
       "      <td>1981.694736</td>\n",
       "      <td>-241262.345112</td>\n",
       "      <td>inf</td>\n",
       "      <td>0.045383</td>\n",
       "      <td>3.221602e-23</td>\n",
       "    </tr>\n",
       "    <tr>\n",
       "      <th>beta</th>\n",
       "      <td>0.000145</td>\n",
       "      <td>3168.370031</td>\n",
       "      <td>-232761.691453</td>\n",
       "      <td>inf</td>\n",
       "      <td>0.095318</td>\n",
       "      <td>4.235137e-101</td>\n",
       "    </tr>\n",
       "    <tr>\n",
       "      <th>norm</th>\n",
       "      <td>0.000480</td>\n",
       "      <td>8769.505263</td>\n",
       "      <td>-217554.043109</td>\n",
       "      <td>inf</td>\n",
       "      <td>0.179096</td>\n",
       "      <td>0.000000e+00</td>\n",
       "    </tr>\n",
       "    <tr>\n",
       "      <th>gamma</th>\n",
       "      <td>0.001484</td>\n",
       "      <td>25858.296772</td>\n",
       "      <td>-203167.414114</td>\n",
       "      <td>inf</td>\n",
       "      <td>0.993223</td>\n",
       "      <td>0.000000e+00</td>\n",
       "    </tr>\n",
       "    <tr>\n",
       "      <th>lognorm</th>\n",
       "      <td>0.001603</td>\n",
       "      <td>1793.180180</td>\n",
       "      <td>-202187.780540</td>\n",
       "      <td>inf</td>\n",
       "      <td>0.671548</td>\n",
       "      <td>0.000000e+00</td>\n",
       "    </tr>\n",
       "  </tbody>\n",
       "</table>\n",
       "</div>"
      ],
      "text/plain": [
       "         sumsquare_error           aic            bic  kl_div  ks_statistic  \\\n",
       "burr            0.000074   1981.694736 -241262.345112     inf      0.045383   \n",
       "beta            0.000145   3168.370031 -232761.691453     inf      0.095318   \n",
       "norm            0.000480   8769.505263 -217554.043109     inf      0.179096   \n",
       "gamma           0.001484  25858.296772 -203167.414114     inf      0.993223   \n",
       "lognorm         0.001603   1793.180180 -202187.780540     inf      0.671548   \n",
       "\n",
       "             ks_pvalue  \n",
       "burr      3.221602e-23  \n",
       "beta     4.235137e-101  \n",
       "norm      0.000000e+00  \n",
       "gamma     0.000000e+00  \n",
       "lognorm   0.000000e+00  "
      ]
     },
     "execution_count": 8,
     "metadata": {},
     "output_type": "execute_result"
    },
    {
     "data": {
      "image/png": "[encoded data removed]",
      "text/plain": [
       "<Figure size 640x480 with 1 Axes>"
      ]
     },
     "metadata": {},
     "output_type": "display_data"
    }
   ],
   "source": [
    "f = Fitter(y.values,\n",
    "           distributions=['gamma',\n",
    "                          'lognorm',\n",
    "                          \"beta\",\n",
    "                          \"burr\",\n",
    "                          \"norm\"])\n",
    "f.fit()\n",
    "f.summary()"
   ]
  },
  {
   "cell_type": "code",
   "execution_count": 12,
   "metadata": {},
   "outputs": [
    {
     "name": "stderr",
     "output_type": "stream",
     "text": [
      "Fitting 1 distributions: 100%|██████████| 1/1 [00:00<00:00,  1.47it/s]\n"
     ]
    },
    {
     "data": {
      "text/plain": [
       "{'burr': {'c': 2.4336757321267513,\n",
       "  'd': 2.3736987014670436,\n",
       "  'loc': -0.1117503663963326,\n",
       "  'scale': 30.190820465770095}}"
      ]
     },
     "metadata": {},
     "output_type": "display_data"
    },
    {
     "name": "stderr",
     "output_type": "stream",
     "text": [
      "Fitting 1 distributions: 100%|██████████| 1/1 [00:00<00:00,  2.57it/s]\n"
     ]
    },
    {
     "data": {
      "text/plain": [
       "{'burr': {'c': 2.350771491630069,\n",
       "  'd': 2.6101279071387133,\n",
       "  'loc': -0.09477798726861912,\n",
       "  'scale': 28.50946706833561}}"
      ]
     },
     "metadata": {},
     "output_type": "display_data"
    }
   ],
   "source": [
    "f_train = Fitter(y_train.values, distributions=['burr'])\n",
    "f_train.fit()\n",
    "\n",
    "display(f_train.get_best())\n",
    "\n",
    "f_test = Fitter(y_test.values, distributions=['burr'])\n",
    "f_test.fit()\n",
    "display(f_test.get_best())\n"
   ]
  },
  {
   "cell_type": "code",
   "execution_count": 13,
   "metadata": {},
   "outputs": [
    {
     "name": "stdout",
     "output_type": "stream",
     "text": [
      "KL divergence between train and test:  26194.48171235727\n",
      "KL divergence reference:  27599.514757022785\n"
     ]
    }
   ],
   "source": [
    "from scipy.special import rel_entr\n",
    "from scipy.stats import burr\n",
    "\n",
    "r_train = burr.rvs(**(f_train.get_best()['burr']),size=1000)\n",
    "r_test = burr.rvs(**(f_test.get_best()['burr']),size=1000)\n",
    "r_test_base = burr.rvs(**(f_test.get_best()['burr']),size=1000)\n",
    "print('KL divergence between train and test: ', sum(rel_entr(r_train, r_test)))\n",
    "print('KL divergence reference: ', sum(rel_entr(r_test, r_test_base)))"
   ]
  },
  {
   "cell_type": "markdown",
   "metadata": {},
   "source": [
    "# Feature analysis"
   ]
  },
  {
   "cell_type": "markdown",
   "metadata": {},
   "source": [
    "### PCA"
   ]
  },
  {
   "cell_type": "code",
   "execution_count": 9,
   "metadata": {},
   "outputs": [
    {
     "name": "stdout",
     "output_type": "stream",
     "text": [
      "Index(['host_since', 'host_response_time', 'host_response_rate',\n",
      "       'is_superhost', 'neighbourhood', 'neighborhood_group', 'postal_code',\n",
      "       'latitude', 'longitude', 'is_exact_location', 'property_type',\n",
      "       'room_type', 'accomodates', 'bathrooms', 'bedrooms', 'beds',\n",
      "       'guests_included', 'min_nights', 'reviews', 'overall_rating',\n",
      "       'accuracy_rating', 'cleanliness_rating', 'checkin_rating',\n",
      "       'communication_rating', 'location_rating', 'value_rating',\n",
      "       'instant_bookable', 'business_travel_ready'],\n",
      "      dtype='object')\n"
     ]
    },
    {
     "data": {
      "image/png": "[encoded data removed]",
      "text/plain": [
       "<Figure size 640x480 with 1 Axes>"
      ]
     },
     "metadata": {},
     "output_type": "display_data"
    },
    {
     "name": "stdout",
     "output_type": "stream",
     "text": [
      "Explained variance with 24 features:  0.9926008696684153\n"
     ]
    }
   ],
   "source": [
    "pipe = Pipeline([('median_imputer', FunctionTransformer(median_imputer)),\n",
    "('scaler', StandardScaler()),\n",
    "('pca', PCA())])\n",
    "\n",
    "pipe.fit(X_train)\n",
    "explained_variance = pipe['pca'].explained_variance_ratio_\n",
    "acc_sum = np.cumsum(explained_variance) \n",
    "\n",
    "plt.title('Cumulative explained variance')\n",
    "plt.plot(acc_sum)\n",
    "plt.grid()\n",
    "plt.ylabel('Explained variance')\n",
    "plt.xlabel('Number of features')\n",
    "plt.show()\n",
    "\n",
    "print('Explained variance with 24 features: ', acc_sum[25])"
   ]
  },
  {
   "cell_type": "markdown",
   "metadata": {},
   "source": [
    "### Forward selection + Cross Validation"
   ]
  },
  {
   "cell_type": "code",
   "execution_count": 62,
   "metadata": {},
   "outputs": [],
   "source": [
    "def get_feature_importance(clf, params):\n",
    "\tr2 = [] \n",
    "\trmse = []\n",
    "\tfeatures = []\n",
    "\tn_features = []\n",
    "\n",
    "\tfor k in range(1,len(X.columns) + 1):\n",
    "\t\tr2_tmp = []\n",
    "\t\trmse_tmp = []\n",
    "\t\tfor new_feat in X_train.columns:\n",
    "\t\t\tif new_feat in features: continue\n",
    "\t\t\tnew_features = features.copy()\n",
    "\t\t\tnew_features.append(new_feat)\n",
    "\t\t\tpipe = fit_clf_scaler(clf, X_train[new_features],y_train, params, {}, n_features=len(new_features))   \n",
    "\t\t\tr_squared = pipe.score(X_test[new_features],y_test)\n",
    "\t\t\ty_pred = pipe.predict(X_test[new_features])\n",
    "\t\t\trmse_val = mean_squared_error(y_pred, y_test)**(1/2)\n",
    "\t\t\tr2_tmp.append((r_squared, new_feat))                 \n",
    "\t\t\trmse_tmp.append(rmse_val)\n",
    "\t\tr2.append(sorted(r2_tmp, key=lambda x: x[0])[-1][0])\t\n",
    "\t\trmse.append(sorted(rmse_tmp)[-1])\n",
    "\t\tnew_feat = sorted(r2_tmp, key=lambda x: x[0])[-1][1]\n",
    "\t\tfeatures.append(new_feat)\n",
    "\t\tn_features.append(len(features))   \n",
    "\n",
    "\tdf = pd.DataFrame({'n_features': n_features,'R2': r2, 'RMSE':rmse ,'features':features})\n",
    "\n",
    "\treturn df"
   ]
  },
  {
   "cell_type": "code",
   "execution_count": 63,
   "metadata": {},
   "outputs": [
    {
     "data": {
      "image/png": "[encoded data removed]",
      "text/plain": [
       "<Figure size 640x480 with 1 Axes>"
      ]
     },
     "metadata": {},
     "output_type": "display_data"
    },
    {
     "data": {
      "image/png": "[encoded data removed]",
      "text/plain": [
       "<Figure size 640x480 with 1 Axes>"
      ]
     },
     "metadata": {},
     "output_type": "display_data"
    }
   ],
   "source": [
    "df = get_feature_importance(linear_model.LinearRegression, {})\n",
    "plt.title('Cross-validated subset selection - Linear Regression')\n",
    "plt.xlabel('Number of features')\n",
    "plt.ylabel('R squared')\n",
    "plt.grid()\n",
    "plt.plot(df['n_features'], df['R2'])\n",
    "plt.show()\n",
    "\n",
    "plt.title('Cross-validated subset selection - Linear Regression')\n",
    "plt.xlabel('Number of features')\n",
    "plt.ylabel('RMSE')\n",
    "plt.grid()\n",
    "plt.plot(df['n_features'], df['RMSE'])\n",
    "plt.show()\n"
   ]
  },
  {
   "cell_type": "markdown",
   "metadata": {},
   "source": [
    "### Autoencoder"
   ]
  },
  {
   "cell_type": "code",
   "execution_count": 114,
   "metadata": {},
   "outputs": [],
   "source": [
    "\n",
    "n_input = X_train.columns\n",
    "\n",
    "n_encoder1 = 50\n",
    "n_encoder2 = 30\n",
    "\n",
    "n_latent = 2\n",
    "\n",
    "n_decoder2 = 30\n",
    "n_decoder1 = 50"
   ]
  },
  {
   "cell_type": "code",
   "execution_count": 115,
   "metadata": {},
   "outputs": [],
   "source": [
    "reg = MLPRegressor(hidden_layer_sizes = (n_encoder1, n_encoder2, n_latent, n_decoder2, n_decoder1), \n",
    "                   activation = 'tanh', \n",
    "                   solver = 'adam', \n",
    "                   learning_rate_init = 1e-4, \n",
    "                   max_iter = 100, \n",
    "                   tol = 0.0000001, \n",
    "                   verbose = False)"
   ]
  },
  {
   "cell_type": "code",
   "execution_count": 116,
   "metadata": {},
   "outputs": [
    {
     "name": "stderr",
     "output_type": "stream",
     "text": [
      "/home/josemelocosta/.local/lib/python3.8/site-packages/sklearn/neural_network/_multilayer_perceptron.py:692: ConvergenceWarning: Stochastic Optimizer: Maximum iterations (100) reached and the optimization hasn't converged yet.\n",
      "  warnings.warn(\n"
     ]
    },
    {
     "data": {
      "text/plain": [
       "MLPRegressor(activation='tanh', hidden_layer_sizes=(50, 30, 2, 30, 50),\n",
       "             learning_rate_init=0.0001, max_iter=100, tol=1e-07)"
      ]
     },
     "execution_count": 116,
     "metadata": {},
     "output_type": "execute_result"
    }
   ],
   "source": [
    "reg.fit(X_train, y_train)"
   ]
  },
  {
   "cell_type": "code",
   "execution_count": 117,
   "metadata": {},
   "outputs": [],
   "source": [
    "def encoder(data):\n",
    "    data = np.asmatrix(data)\n",
    "    \n",
    "    encoder1 = data*reg.coefs_[0] + reg.intercepts_[0]\n",
    "    encoder1 = (np.exp(encoder1) - np.exp(-encoder1))/(np.exp(encoder1) + np.exp(-encoder1))\n",
    "    \n",
    "    encoder2 = encoder1*reg.coefs_[1] + reg.intercepts_[1]\n",
    "    encoder2 = (np.exp(encoder2) - np.exp(-encoder2))/(np.exp(encoder2) + np.exp(-encoder2))\n",
    "    \n",
    "    latent = encoder2*reg.coefs_[2] + reg.intercepts_[2]\n",
    "    latent = (np.exp(latent) - np.exp(-latent))/(np.exp(latent) + np.exp(-latent))\n",
    "    \n",
    "    return np.asarray(latent)\n",
    "\n",
    "test_latent = encoder(X_train)\n"
   ]
  },
  {
   "cell_type": "code",
   "execution_count": 120,
   "metadata": {},
   "outputs": [
    {
     "data": {
      "image/png": "[encoded data removed]",
      "text/plain": [
       "<Figure size 432x288 with 1 Axes>"
      ]
     },
     "metadata": {
      "needs_background": "light"
     },
     "output_type": "display_data"
    }
   ],
   "source": [
    "plt.scatter(test_latent[:, 0], test_latent[:, 1])\n",
    "plt.grid()\n",
    "plt.show()"
   ]
  },
  {
   "cell_type": "markdown",
   "metadata": {},
   "source": [
    "# Model selection"
   ]
  },
  {
   "cell_type": "code",
   "execution_count": 11,
   "metadata": {},
   "outputs": [],
   "source": [
    "from sklearn.metrics import mean_squared_error"
   ]
  },
  {
   "cell_type": "markdown",
   "metadata": {},
   "source": [
    "### Decision Trees"
   ]
  },
  {
   "cell_type": "markdown",
   "metadata": {},
   "source": [
    "#### Optimization"
   ]
  },
  {
   "cell_type": "code",
   "execution_count": 64,
   "metadata": {},
   "outputs": [
    {
     "ename": "TypeError",
     "evalue": "'>=' not supported between instances of 'dict' and 'int'",
     "output_type": "error",
     "traceback": [
      "\u001b[0;31m---------------------------------------------------------------------------\u001b[0m",
      "\u001b[0;31mTypeError\u001b[0m                                 Traceback (most recent call last)",
      "Cell \u001b[0;32mIn [64], line 4\u001b[0m\n\u001b[1;32m      2\u001b[0m max_depth \u001b[39m=\u001b[39m []\n\u001b[1;32m      3\u001b[0m \u001b[39mfor\u001b[39;00m k \u001b[39min\u001b[39;00m \u001b[39mrange\u001b[39m(\u001b[39m1\u001b[39m, \u001b[39m30\u001b[39m):\n\u001b[0;32m----> 4\u001b[0m     r2_val \u001b[39m=\u001b[39m fit_clf_scaler_cv(DecisionTreeRegressor, X_train,y_train, {\u001b[39m\"\u001b[39;49m\u001b[39mmax_depth\u001b[39;49m\u001b[39m\"\u001b[39;49m: k}, {\u001b[39m\"\u001b[39;49m\u001b[39mverbose\u001b[39;49m\u001b[39m\"\u001b[39;49m: \u001b[39m1\u001b[39;49m}) \n\u001b[1;32m      5\u001b[0m     r2\u001b[39m.\u001b[39mappend(r2_val)\t\n\u001b[1;32m      6\u001b[0m     max_depth\u001b[39m.\u001b[39mappend(k)\n",
      "Cell \u001b[0;32mIn [54], line 18\u001b[0m, in \u001b[0;36mfit_clf_scaler_cv\u001b[0;34m(clf, X, y, clf_params, n_features)\u001b[0m\n\u001b[1;32m     11\u001b[0m y_train, y_test \u001b[39m=\u001b[39m y\u001b[39m.\u001b[39mloc[train_index], y\u001b[39m.\u001b[39mloc[test_index]\n\u001b[1;32m     13\u001b[0m pipe \u001b[39m=\u001b[39m Pipeline([\n\u001b[1;32m     14\u001b[0m (\u001b[39m'\u001b[39m\u001b[39mscaler\u001b[39m\u001b[39m'\u001b[39m, StandardScaler()),\n\u001b[1;32m     15\u001b[0m (\u001b[39m'\u001b[39m\u001b[39mpca\u001b[39m\u001b[39m'\u001b[39m, PCA(n_components\u001b[39m=\u001b[39mn_features)),\n\u001b[1;32m     16\u001b[0m (\u001b[39m'\u001b[39m\u001b[39msvr\u001b[39m\u001b[39m'\u001b[39m, clf(\u001b[39m*\u001b[39m\u001b[39m*\u001b[39mclf_params))])\n\u001b[0;32m---> 18\u001b[0m pipe\u001b[39m.\u001b[39;49mfit(X_train,y_train)\n\u001b[1;32m     19\u001b[0m y_pred \u001b[39m=\u001b[39m pipe\u001b[39m.\u001b[39mpredict(X_test)\n\u001b[1;32m     20\u001b[0m rmse \u001b[39m=\u001b[39m mean_squared_error(y_pred, y_test)\u001b[39m*\u001b[39m\u001b[39m*\u001b[39m(\u001b[39m1\u001b[39m\u001b[39m/\u001b[39m\u001b[39m2\u001b[39m)\n",
      "File \u001b[0;32m/usr/local/lib/python3.10/dist-packages/sklearn/pipeline.py:378\u001b[0m, in \u001b[0;36mPipeline.fit\u001b[0;34m(self, X, y, **fit_params)\u001b[0m\n\u001b[1;32m    352\u001b[0m \u001b[39m\"\"\"Fit the model.\u001b[39;00m\n\u001b[1;32m    353\u001b[0m \n\u001b[1;32m    354\u001b[0m \u001b[39mFit all the transformers one after the other and transform the\u001b[39;00m\n\u001b[0;32m   (...)\u001b[0m\n\u001b[1;32m    375\u001b[0m \u001b[39m    Pipeline with fitted steps.\u001b[39;00m\n\u001b[1;32m    376\u001b[0m \u001b[39m\"\"\"\u001b[39;00m\n\u001b[1;32m    377\u001b[0m fit_params_steps \u001b[39m=\u001b[39m \u001b[39mself\u001b[39m\u001b[39m.\u001b[39m_check_fit_params(\u001b[39m*\u001b[39m\u001b[39m*\u001b[39mfit_params)\n\u001b[0;32m--> 378\u001b[0m Xt \u001b[39m=\u001b[39m \u001b[39mself\u001b[39;49m\u001b[39m.\u001b[39;49m_fit(X, y, \u001b[39m*\u001b[39;49m\u001b[39m*\u001b[39;49mfit_params_steps)\n\u001b[1;32m    379\u001b[0m \u001b[39mwith\u001b[39;00m _print_elapsed_time(\u001b[39m\"\u001b[39m\u001b[39mPipeline\u001b[39m\u001b[39m\"\u001b[39m, \u001b[39mself\u001b[39m\u001b[39m.\u001b[39m_log_message(\u001b[39mlen\u001b[39m(\u001b[39mself\u001b[39m\u001b[39m.\u001b[39msteps) \u001b[39m-\u001b[39m \u001b[39m1\u001b[39m)):\n\u001b[1;32m    380\u001b[0m     \u001b[39mif\u001b[39;00m \u001b[39mself\u001b[39m\u001b[39m.\u001b[39m_final_estimator \u001b[39m!=\u001b[39m \u001b[39m\"\u001b[39m\u001b[39mpassthrough\u001b[39m\u001b[39m\"\u001b[39m:\n",
      "File \u001b[0;32m/usr/local/lib/python3.10/dist-packages/sklearn/pipeline.py:336\u001b[0m, in \u001b[0;36mPipeline._fit\u001b[0;34m(self, X, y, **fit_params_steps)\u001b[0m\n\u001b[1;32m    334\u001b[0m     cloned_transformer \u001b[39m=\u001b[39m clone(transformer)\n\u001b[1;32m    335\u001b[0m \u001b[39m# Fit or load from cache the current transformer\u001b[39;00m\n\u001b[0;32m--> 336\u001b[0m X, fitted_transformer \u001b[39m=\u001b[39m fit_transform_one_cached(\n\u001b[1;32m    337\u001b[0m     cloned_transformer,\n\u001b[1;32m    338\u001b[0m     X,\n\u001b[1;32m    339\u001b[0m     y,\n\u001b[1;32m    340\u001b[0m     \u001b[39mNone\u001b[39;49;00m,\n\u001b[1;32m    341\u001b[0m     message_clsname\u001b[39m=\u001b[39;49m\u001b[39m\"\u001b[39;49m\u001b[39mPipeline\u001b[39;49m\u001b[39m\"\u001b[39;49m,\n\u001b[1;32m    342\u001b[0m     message\u001b[39m=\u001b[39;49m\u001b[39mself\u001b[39;49m\u001b[39m.\u001b[39;49m_log_message(step_idx),\n\u001b[1;32m    343\u001b[0m     \u001b[39m*\u001b[39;49m\u001b[39m*\u001b[39;49mfit_params_steps[name],\n\u001b[1;32m    344\u001b[0m )\n\u001b[1;32m    345\u001b[0m \u001b[39m# Replace the transformer of the step with the fitted\u001b[39;00m\n\u001b[1;32m    346\u001b[0m \u001b[39m# transformer. This is necessary when loading the transformer\u001b[39;00m\n\u001b[1;32m    347\u001b[0m \u001b[39m# from the cache.\u001b[39;00m\n\u001b[1;32m    348\u001b[0m \u001b[39mself\u001b[39m\u001b[39m.\u001b[39msteps[step_idx] \u001b[39m=\u001b[39m (name, fitted_transformer)\n",
      "File \u001b[0;32m/usr/local/lib/python3.10/dist-packages/joblib/memory.py:349\u001b[0m, in \u001b[0;36mNotMemorizedFunc.__call__\u001b[0;34m(self, *args, **kwargs)\u001b[0m\n\u001b[1;32m    348\u001b[0m \u001b[39mdef\u001b[39;00m \u001b[39m__call__\u001b[39m(\u001b[39mself\u001b[39m, \u001b[39m*\u001b[39margs, \u001b[39m*\u001b[39m\u001b[39m*\u001b[39mkwargs):\n\u001b[0;32m--> 349\u001b[0m     \u001b[39mreturn\u001b[39;00m \u001b[39mself\u001b[39;49m\u001b[39m.\u001b[39;49mfunc(\u001b[39m*\u001b[39;49margs, \u001b[39m*\u001b[39;49m\u001b[39m*\u001b[39;49mkwargs)\n",
      "File \u001b[0;32m/usr/local/lib/python3.10/dist-packages/sklearn/pipeline.py:870\u001b[0m, in \u001b[0;36m_fit_transform_one\u001b[0;34m(transformer, X, y, weight, message_clsname, message, **fit_params)\u001b[0m\n\u001b[1;32m    868\u001b[0m \u001b[39mwith\u001b[39;00m _print_elapsed_time(message_clsname, message):\n\u001b[1;32m    869\u001b[0m     \u001b[39mif\u001b[39;00m \u001b[39mhasattr\u001b[39m(transformer, \u001b[39m\"\u001b[39m\u001b[39mfit_transform\u001b[39m\u001b[39m\"\u001b[39m):\n\u001b[0;32m--> 870\u001b[0m         res \u001b[39m=\u001b[39m transformer\u001b[39m.\u001b[39;49mfit_transform(X, y, \u001b[39m*\u001b[39;49m\u001b[39m*\u001b[39;49mfit_params)\n\u001b[1;32m    871\u001b[0m     \u001b[39melse\u001b[39;00m:\n\u001b[1;32m    872\u001b[0m         res \u001b[39m=\u001b[39m transformer\u001b[39m.\u001b[39mfit(X, y, \u001b[39m*\u001b[39m\u001b[39m*\u001b[39mfit_params)\u001b[39m.\u001b[39mtransform(X)\n",
      "File \u001b[0;32m/usr/local/lib/python3.10/dist-packages/sklearn/decomposition/_pca.py:433\u001b[0m, in \u001b[0;36mPCA.fit_transform\u001b[0;34m(self, X, y)\u001b[0m\n\u001b[1;32m    411\u001b[0m \u001b[39mdef\u001b[39;00m \u001b[39mfit_transform\u001b[39m(\u001b[39mself\u001b[39m, X, y\u001b[39m=\u001b[39m\u001b[39mNone\u001b[39;00m):\n\u001b[1;32m    412\u001b[0m     \u001b[39m\"\"\"Fit the model with X and apply the dimensionality reduction on X.\u001b[39;00m\n\u001b[1;32m    413\u001b[0m \n\u001b[1;32m    414\u001b[0m \u001b[39m    Parameters\u001b[39;00m\n\u001b[0;32m   (...)\u001b[0m\n\u001b[1;32m    431\u001b[0m \u001b[39m    C-ordered array, use 'np.ascontiguousarray'.\u001b[39;00m\n\u001b[1;32m    432\u001b[0m \u001b[39m    \"\"\"\u001b[39;00m\n\u001b[0;32m--> 433\u001b[0m     U, S, Vt \u001b[39m=\u001b[39m \u001b[39mself\u001b[39;49m\u001b[39m.\u001b[39;49m_fit(X)\n\u001b[1;32m    434\u001b[0m     U \u001b[39m=\u001b[39m U[:, : \u001b[39mself\u001b[39m\u001b[39m.\u001b[39mn_components_]\n\u001b[1;32m    436\u001b[0m     \u001b[39mif\u001b[39;00m \u001b[39mself\u001b[39m\u001b[39m.\u001b[39mwhiten:\n\u001b[1;32m    437\u001b[0m         \u001b[39m# X_new = X * V / S * sqrt(n_samples) = U * sqrt(n_samples)\u001b[39;00m\n",
      "File \u001b[0;32m/usr/local/lib/python3.10/dist-packages/sklearn/decomposition/_pca.py:475\u001b[0m, in \u001b[0;36mPCA._fit\u001b[0;34m(self, X)\u001b[0m\n\u001b[1;32m    473\u001b[0m \u001b[39mif\u001b[39;00m \u001b[39mmax\u001b[39m(X\u001b[39m.\u001b[39mshape) \u001b[39m<\u001b[39m\u001b[39m=\u001b[39m \u001b[39m500\u001b[39m \u001b[39mor\u001b[39;00m n_components \u001b[39m==\u001b[39m \u001b[39m\"\u001b[39m\u001b[39mmle\u001b[39m\u001b[39m\"\u001b[39m:\n\u001b[1;32m    474\u001b[0m     \u001b[39mself\u001b[39m\u001b[39m.\u001b[39m_fit_svd_solver \u001b[39m=\u001b[39m \u001b[39m\"\u001b[39m\u001b[39mfull\u001b[39m\u001b[39m\"\u001b[39m\n\u001b[0;32m--> 475\u001b[0m \u001b[39melif\u001b[39;00m n_components \u001b[39m>\u001b[39;49m\u001b[39m=\u001b[39;49m \u001b[39m1\u001b[39;49m \u001b[39mand\u001b[39;00m n_components \u001b[39m<\u001b[39m \u001b[39m0.8\u001b[39m \u001b[39m*\u001b[39m \u001b[39mmin\u001b[39m(X\u001b[39m.\u001b[39mshape):\n\u001b[1;32m    476\u001b[0m     \u001b[39mself\u001b[39m\u001b[39m.\u001b[39m_fit_svd_solver \u001b[39m=\u001b[39m \u001b[39m\"\u001b[39m\u001b[39mrandomized\u001b[39m\u001b[39m\"\u001b[39m\n\u001b[1;32m    477\u001b[0m \u001b[39m# This is also the case of n_components in (0,1)\u001b[39;00m\n\u001b[1;32m    478\u001b[0m \u001b[39melse\u001b[39;00m:\n",
      "\u001b[0;31mTypeError\u001b[0m: '>=' not supported between instances of 'dict' and 'int'"
     ]
    }
   ],
   "source": [
    "r2 = []\n",
    "max_depth = []\n",
    "for k in range(1, 30):\n",
    "    r2_val = fit_clf_scaler_cv(DecisionTreeRegressor, X_train,y_train, {\"max_depth\": k}, {\"verbose\": 1}) \n",
    "    r2.append(r2_val)\t\n",
    "    max_depth.append(k)\n",
    "\n",
    "df = pd.DataFrame({'R2': r2,'max_depth':max_depth})\n",
    "plt.title('Influence of the max depth - Decision Tree Regression - 5 fold CV')\n",
    "plt.xlabel('Max depth')\n",
    "plt.ylabel('R squared')\n",
    "plt.grid()\n",
    "plt.plot(df['max_depth'], df['R2'])\n",
    "plt.show()"
   ]
  },
  {
   "cell_type": "code",
   "execution_count": 95,
   "metadata": {},
   "outputs": [
    {
     "data": {
      "image/png": "[encoded data removed]",
      "text/plain": [
       "<Figure size 640x480 with 1 Axes>"
      ]
     },
     "metadata": {},
     "output_type": "display_data"
    }
   ],
   "source": [
    "r2 = []\n",
    "min_samples_split = []\n",
    "for k in range(2, 50):\n",
    "    r2_val = fit_clf(DecisionTreeRegressor, X_train[new_features],y_train, {\"min_samples_split\": k}) \n",
    "    r2.append(r2_val)\t\n",
    "    min_samples_split.append(k)\n",
    "\n",
    "df = pd.DataFrame({'R2': r2,'min_samples_split':min_samples_split})\n",
    "plt.title('Influence of the min samples split - Decision Tree Regression - 5 fold CV')\n",
    "plt.xlabel('Min samples split')\n",
    "plt.ylabel('R squared')\n",
    "plt.grid()\n",
    "plt.plot(df['min_samples_split'], df['R2'])\n",
    "plt.show()"
   ]
  },
  {
   "cell_type": "code",
   "execution_count": 97,
   "metadata": {},
   "outputs": [
    {
     "name": "stdout",
     "output_type": "stream",
     "text": [
      "Best params:  {'max_depth': 4, 'min_samples_split': 2}\n",
      "Best score:  0.3336581268285735\n"
     ]
    }
   ],
   "source": [
    "parameters = {'max_depth':np.arange(1, 15), 'min_samples_split':np.arange(2, 5)}\n",
    "clf = GridSearchCV(DecisionTreeRegressor(), parameters)\n",
    "clf.fit(X_train, y_train)\n",
    "print('Best params: ', clf.best_params_)\n",
    "print('Best score: ', clf.best_score_)"
   ]
  },
  {
   "cell_type": "markdown",
   "metadata": {},
   "source": [
    "#### Model selection"
   ]
  },
  {
   "cell_type": "code",
   "execution_count": 24,
   "metadata": {},
   "outputs": [
    {
     "name": "stdout",
     "output_type": "stream",
     "text": [
      "[Pipeline] ....... (step 1 of 5) Processing pre_process, total=   0.0s\n",
      "[Pipeline] ........... (step 2 of 5) Processing imputer, total=  14.3s\n",
      "[Pipeline] ............ (step 3 of 5) Processing scaler, total=   0.0s\n",
      "[Pipeline] ............... (step 4 of 5) Processing pca, total=   0.2s\n",
      "[Pipeline] ............... (step 5 of 5) Processing svr, total=   0.3s\n",
      "r_squared:  0.36643237820876284\n",
      "rmse:  38.31193351469978\n"
     ]
    }
   ],
   "source": [
    "clf_params = {'max_depth': 4, 'min_samples_split': 2}\n",
    "imputer_params = {\"n_neighbors\": 3}\n",
    "pipe = fit_clf_scaler(DecisionTreeRegressor, X_train, y_train, clf_params, imputer_params)\n",
    "r_squared = pipe.score(X_test,y_test)\n",
    "y_pred = pipe.predict(X_test)\n",
    "rmse = mean_squared_error(y_pred, y_test)**(1/2)\n",
    "\n",
    "print('r_squared: ', r_squared)\n",
    "print('rmse: ', rmse)"
   ]
  },
  {
   "cell_type": "markdown",
   "metadata": {},
   "source": [
    "### SVM"
   ]
  },
  {
   "cell_type": "markdown",
   "metadata": {},
   "source": [
    "#### Optimization"
   ]
  },
  {
   "cell_type": "code",
   "execution_count": null,
   "metadata": {},
   "outputs": [],
   "source": [
    "\n",
    "def objective(trial: optuna.trial.Trial):\n",
    "\n",
    "    parameters = {\n",
    "        'kernel': trial.suggest_categorical('kernel', ['linear', 'poly', 'rbf', 'sigmoid']),\n",
    "        'C': trial.suggest_float('C', 1e-3, 1e3),\n",
    "        'epsilon': trial.suggest_float('epsilon', 1e-3, 1)\n",
    "    }\n",
    "\n",
    "    clf = svm.SVR\n",
    "    return -fit_clf_scaler(clf, X_train, y_train, parameters)\n",
    "\n",
    "study = optuna.create_study()\n",
    "study.optimize(objective, n_trials=1)\n"
   ]
  },
  {
   "cell_type": "markdown",
   "metadata": {},
   "source": [
    "#### Model selection"
   ]
  },
  {
   "cell_type": "code",
   "execution_count": 370,
   "metadata": {},
   "outputs": [
    {
     "name": "stdout",
     "output_type": "stream",
     "text": [
      "[Pipeline] ........... (step 1 of 4) Processing imputer, total=   0.0s\n",
      "[Pipeline] ............ (step 2 of 4) Processing scaler, total=   0.0s\n",
      "[Pipeline] ............... (step 3 of 4) Processing pca, total=   0.0s\n",
      "[Pipeline] ............... (step 4 of 4) Processing svr, total=  47.2s\n"
     ]
    },
    {
     "data": {
      "text/html": [
       "<style>#sk-container-id-19 {color: black;background-color: white;}#sk-container-id-19 pre{padding: 0;}#sk-container-id-19 div.sk-toggleable {background-color: white;}#sk-container-id-19 label.sk-toggleable__label {cursor: pointer;display: block;width: 100%;margin-bottom: 0;padding: 0.3em;box-sizing: border-box;text-align: center;}#sk-container-id-19 label.sk-toggleable__label-arrow:before {content: \"▸\";float: left;margin-right: 0.25em;color: #696969;}#sk-container-id-19 label.sk-toggleable__label-arrow:hover:before {color: black;}#sk-container-id-19 div.sk-estimator:hover label.sk-toggleable__label-arrow:before {color: black;}#sk-container-id-19 div.sk-toggleable__content {max-height: 0;max-width: 0;overflow: hidden;text-align: left;background-color: #f0f8ff;}#sk-container-id-19 div.sk-toggleable__content pre {margin: 0.2em;color: black;border-radius: 0.25em;background-color: #f0f8ff;}#sk-container-id-19 input.sk-toggleable__control:checked~div.sk-toggleable__content {max-height: 200px;max-width: 100%;overflow: auto;}#sk-container-id-19 input.sk-toggleable__control:checked~label.sk-toggleable__label-arrow:before {content: \"▾\";}#sk-container-id-19 div.sk-estimator input.sk-toggleable__control:checked~label.sk-toggleable__label {background-color: #d4ebff;}#sk-container-id-19 div.sk-label input.sk-toggleable__control:checked~label.sk-toggleable__label {background-color: #d4ebff;}#sk-container-id-19 input.sk-hidden--visually {border: 0;clip: rect(1px 1px 1px 1px);clip: rect(1px, 1px, 1px, 1px);height: 1px;margin: -1px;overflow: hidden;padding: 0;position: absolute;width: 1px;}#sk-container-id-19 div.sk-estimator {font-family: monospace;background-color: #f0f8ff;border: 1px dotted black;border-radius: 0.25em;box-sizing: border-box;margin-bottom: 0.5em;}#sk-container-id-19 div.sk-estimator:hover {background-color: #d4ebff;}#sk-container-id-19 div.sk-parallel-item::after {content: \"\";width: 100%;border-bottom: 1px solid gray;flex-grow: 1;}#sk-container-id-19 div.sk-label:hover label.sk-toggleable__label {background-color: #d4ebff;}#sk-container-id-19 div.sk-serial::before {content: \"\";position: absolute;border-left: 1px solid gray;box-sizing: border-box;top: 0;bottom: 0;left: 50%;z-index: 0;}#sk-container-id-19 div.sk-serial {display: flex;flex-direction: column;align-items: center;background-color: white;padding-right: 0.2em;padding-left: 0.2em;position: relative;}#sk-container-id-19 div.sk-item {position: relative;z-index: 1;}#sk-container-id-19 div.sk-parallel {display: flex;align-items: stretch;justify-content: center;background-color: white;position: relative;}#sk-container-id-19 div.sk-item::before, #sk-container-id-19 div.sk-parallel-item::before {content: \"\";position: absolute;border-left: 1px solid gray;box-sizing: border-box;top: 0;bottom: 0;left: 50%;z-index: -1;}#sk-container-id-19 div.sk-parallel-item {display: flex;flex-direction: column;z-index: 1;position: relative;background-color: white;}#sk-container-id-19 div.sk-parallel-item:first-child::after {align-self: flex-end;width: 50%;}#sk-container-id-19 div.sk-parallel-item:last-child::after {align-self: flex-start;width: 50%;}#sk-container-id-19 div.sk-parallel-item:only-child::after {width: 0;}#sk-container-id-19 div.sk-dashed-wrapped {border: 1px dashed gray;margin: 0 0.4em 0.5em 0.4em;box-sizing: border-box;padding-bottom: 0.4em;background-color: white;}#sk-container-id-19 div.sk-label label {font-family: monospace;font-weight: bold;display: inline-block;line-height: 1.2em;}#sk-container-id-19 div.sk-label-container {text-align: center;}#sk-container-id-19 div.sk-container {/* jupyter's `normalize.less` sets `[hidden] { display: none; }` but bootstrap.min.css set `[hidden] { display: none !important; }` so we also need the `!important` here to be able to override the default hidden behavior on the sphinx rendered scikit-learn.org. See: https://github.com/scikit-learn/scikit-learn/issues/21755 */display: inline-block !important;position: relative;}#sk-container-id-19 div.sk-text-repr-fallback {display: none;}</style><div id=\"sk-container-id-19\" class=\"sk-top-container\"><div class=\"sk-text-repr-fallback\"><pre>Pipeline(steps=[(&#x27;imputer&#x27;, KNNImputer(n_neighbors=3)),\n",
       "                (&#x27;scaler&#x27;, StandardScaler()), (&#x27;pca&#x27;, PCA(n_components=28)),\n",
       "                (&#x27;svr&#x27;, SVR(C=595.6756199722245, epsilon=0.8771538699650302))],\n",
       "         verbose=1)</pre><b>In a Jupyter environment, please rerun this cell to show the HTML representation or trust the notebook. <br />On GitHub, the HTML representation is unable to render, please try loading this page with nbviewer.org.</b></div><div class=\"sk-container\" hidden><div class=\"sk-item sk-dashed-wrapped\"><div class=\"sk-label-container\"><div class=\"sk-label sk-toggleable\"><input class=\"sk-toggleable__control sk-hidden--visually\" id=\"sk-estimator-id-65\" type=\"checkbox\" ><label for=\"sk-estimator-id-65\" class=\"sk-toggleable__label sk-toggleable__label-arrow\">Pipeline</label><div class=\"sk-toggleable__content\"><pre>Pipeline(steps=[(&#x27;imputer&#x27;, KNNImputer(n_neighbors=3)),\n",
       "                (&#x27;scaler&#x27;, StandardScaler()), (&#x27;pca&#x27;, PCA(n_components=28)),\n",
       "                (&#x27;svr&#x27;, SVR(C=595.6756199722245, epsilon=0.8771538699650302))],\n",
       "         verbose=1)</pre></div></div></div><div class=\"sk-serial\"><div class=\"sk-item\"><div class=\"sk-estimator sk-toggleable\"><input class=\"sk-toggleable__control sk-hidden--visually\" id=\"sk-estimator-id-66\" type=\"checkbox\" ><label for=\"sk-estimator-id-66\" class=\"sk-toggleable__label sk-toggleable__label-arrow\">KNNImputer</label><div class=\"sk-toggleable__content\"><pre>KNNImputer(n_neighbors=3)</pre></div></div></div><div class=\"sk-item\"><div class=\"sk-estimator sk-toggleable\"><input class=\"sk-toggleable__control sk-hidden--visually\" id=\"sk-estimator-id-67\" type=\"checkbox\" ><label for=\"sk-estimator-id-67\" class=\"sk-toggleable__label sk-toggleable__label-arrow\">StandardScaler</label><div class=\"sk-toggleable__content\"><pre>StandardScaler()</pre></div></div></div><div class=\"sk-item\"><div class=\"sk-estimator sk-toggleable\"><input class=\"sk-toggleable__control sk-hidden--visually\" id=\"sk-estimator-id-68\" type=\"checkbox\" ><label for=\"sk-estimator-id-68\" class=\"sk-toggleable__label sk-toggleable__label-arrow\">PCA</label><div class=\"sk-toggleable__content\"><pre>PCA(n_components=28)</pre></div></div></div><div class=\"sk-item\"><div class=\"sk-estimator sk-toggleable\"><input class=\"sk-toggleable__control sk-hidden--visually\" id=\"sk-estimator-id-69\" type=\"checkbox\" ><label for=\"sk-estimator-id-69\" class=\"sk-toggleable__label sk-toggleable__label-arrow\">SVR</label><div class=\"sk-toggleable__content\"><pre>SVR(C=595.6756199722245, epsilon=0.8771538699650302)</pre></div></div></div></div></div></div></div>"
      ],
      "text/plain": [
       "Pipeline(steps=[('imputer', KNNImputer(n_neighbors=3)),\n",
       "                ('scaler', StandardScaler()), ('pca', PCA(n_components=28)),\n",
       "                ('svr', SVR(C=595.6756199722245, epsilon=0.8771538699650302))],\n",
       "         verbose=1)"
      ]
     },
     "execution_count": 370,
     "metadata": {},
     "output_type": "execute_result"
    }
   ],
   "source": [
    "clf_params = {'kernel': 'rbf', 'C': 595.6756199722245, 'epsilon': 0.8771538699650302}\n",
    "imputer_params = {\"n_neighbors\": 3}\n",
    "fit_clf_scaler(svm.SVR, X_train, y_train, clf_params, imputer_params, n_features=28)"
   ]
  },
  {
   "cell_type": "code",
   "execution_count": 372,
   "metadata": {},
   "outputs": [
    {
     "name": "stdout",
     "output_type": "stream",
     "text": [
      "[Pipeline] ........... (step 1 of 4) Processing imputer, total=   0.0s\n",
      "[Pipeline] ............ (step 2 of 4) Processing scaler, total=   0.0s\n",
      "[Pipeline] ............... (step 3 of 4) Processing pca, total=   0.0s\n",
      "[Pipeline] ............... (step 4 of 4) Processing svr, total=  47.6s\n"
     ]
    }
   ],
   "source": [
    "pipe = fit_clf_scaler(svm.SVR, X_train, y_train, clf_params, imputer_params, n_features=28)\n",
    "r_squared = pipe.score(X_test,y_test)\n",
    "y_pred = pipe.predict(X_test)"
   ]
  },
  {
   "cell_type": "code",
   "execution_count": 373,
   "metadata": {},
   "outputs": [],
   "source": [
    "rmse = mean_squared_error(y_pred, y_test)**(1/2)"
   ]
  },
  {
   "cell_type": "code",
   "execution_count": 374,
   "metadata": {},
   "outputs": [
    {
     "name": "stdout",
     "output_type": "stream",
     "text": [
      "r_squared:  0.31228753828216727\n",
      "rmse:  35.45425248695693\n"
     ]
    }
   ],
   "source": [
    "print('r_squared: ', r_squared)\n",
    "print('rmse: ', rmse)"
   ]
  },
  {
   "cell_type": "markdown",
   "metadata": {},
   "source": [
    "### AdaBoost"
   ]
  },
  {
   "cell_type": "markdown",
   "metadata": {},
   "source": [
    "#### Optimization"
   ]
  },
  {
   "cell_type": "code",
   "execution_count": 12,
   "metadata": {},
   "outputs": [
    {
     "name": "stderr",
     "output_type": "stream",
     "text": [
      "\u001b[32m[I 2022-10-25 20:13:25,943]\u001b[0m A new study created in memory with name: no-name-fe4bc88d-2ebe-4483-a0cb-36e440b5cfd1\u001b[0m\n",
      "\u001b[32m[I 2022-10-25 20:13:30,579]\u001b[0m Trial 0 finished with value: 0.775794758150748 and parameters: {'n_estimators': 200, 'learning_rate': 0.3890851033130652}. Best is trial 0 with value: 0.775794758150748.\u001b[0m\n",
      "\u001b[32m[I 2022-10-25 20:13:34,626]\u001b[0m Trial 1 finished with value: 1.4470120718879524 and parameters: {'n_estimators': 107, 'learning_rate': 0.5049110671832184}. Best is trial 0 with value: 0.775794758150748.\u001b[0m\n",
      "\u001b[32m[I 2022-10-25 20:13:39,200]\u001b[0m Trial 2 finished with value: 1.0269724904664261 and parameters: {'n_estimators': 177, 'learning_rate': 0.4116827080077768}. Best is trial 0 with value: 0.775794758150748.\u001b[0m\n",
      "\u001b[32m[I 2022-10-25 20:13:44,815]\u001b[0m Trial 3 finished with value: 1.4601433789501144 and parameters: {'n_estimators': 174, 'learning_rate': 0.33538487460819755}. Best is trial 0 with value: 0.775794758150748.\u001b[0m\n",
      "\u001b[32m[I 2022-10-25 20:13:49,333]\u001b[0m Trial 4 finished with value: 0.7154979268822259 and parameters: {'n_estimators': 56, 'learning_rate': 0.3413479621565723}. Best is trial 4 with value: 0.7154979268822259.\u001b[0m\n",
      "\u001b[32m[I 2022-10-25 20:13:56,491]\u001b[0m Trial 5 finished with value: 0.23297038136489362 and parameters: {'n_estimators': 97, 'learning_rate': 0.16406204109777842}. Best is trial 5 with value: 0.23297038136489362.\u001b[0m\n",
      "\u001b[32m[I 2022-10-25 20:13:58,773]\u001b[0m Trial 6 finished with value: 0.4214192064394989 and parameters: {'n_estimators': 18, 'learning_rate': 0.9458185375224981}. Best is trial 5 with value: 0.23297038136489362.\u001b[0m\n",
      "\u001b[32m[I 2022-10-25 20:14:04,717]\u001b[0m Trial 7 finished with value: -0.20732708610150336 and parameters: {'n_estimators': 58, 'learning_rate': 0.09109878174282131}. Best is trial 7 with value: -0.20732708610150336.\u001b[0m\n",
      "\u001b[32m[I 2022-10-25 20:14:21,751]\u001b[0m Trial 8 finished with value: -0.16756444014489735 and parameters: {'n_estimators': 195, 'learning_rate': 0.02612760572593917}. Best is trial 7 with value: -0.20732708610150336.\u001b[0m\n",
      "\u001b[32m[I 2022-10-25 20:14:24,931]\u001b[0m Trial 9 finished with value: 3.373624065363495 and parameters: {'n_estimators': 119, 'learning_rate': 0.9617041908836014}. Best is trial 7 with value: -0.20732708610150336.\u001b[0m\n"
     ]
    }
   ],
   "source": [
    "\n",
    "def objective(trial: optuna.trial.Trial):\n",
    "\n",
    "    parameters = {\n",
    "        'n_estimators': trial.suggest_int('n_estimators', 1, 200),\n",
    "        'learning_rate': trial.suggest_float('learning_rate', 1e-6, 1)\n",
    "    }\n",
    "\n",
    "    clf = AdaBoostRegressor\n",
    "    return -fit_clf_scaler(clf, X_train, y_train, parameters, n_features=5)\n",
    "\n",
    "study = optuna.create_study()\n",
    "study.optimize(objective, n_trials=10)\n"
   ]
  },
  {
   "cell_type": "markdown",
   "metadata": {},
   "source": [
    "#### Model selection"
   ]
  },
  {
   "cell_type": "code",
   "execution_count": 376,
   "metadata": {},
   "outputs": [
    {
     "name": "stdout",
     "output_type": "stream",
     "text": [
      "[Pipeline] ........... (step 1 of 4) Processing imputer, total=   0.0s\n",
      "[Pipeline] ............ (step 2 of 4) Processing scaler, total=   0.0s\n",
      "[Pipeline] ............... (step 3 of 4) Processing pca, total=   0.0s\n",
      "[Pipeline] ............... (step 4 of 4) Processing svr, total=   2.1s\n"
     ]
    }
   ],
   "source": [
    "clf_params = {'n_estimators': 119, 'learning_rate': 0.9617041908836014}\n",
    "imputer_params = {\"n_neighbors\": 3}\n",
    "pipe = fit_clf_scaler(AdaBoostRegressor, X_train, y_train, clf_params, imputer_params, n_features=28)"
   ]
  },
  {
   "cell_type": "code",
   "execution_count": 377,
   "metadata": {},
   "outputs": [],
   "source": [
    "r_squared = pipe.score(X_test,y_test)\n",
    "y_pred = pipe.predict(X_test)"
   ]
  },
  {
   "cell_type": "code",
   "execution_count": 378,
   "metadata": {},
   "outputs": [
    {
     "name": "stdout",
     "output_type": "stream",
     "text": [
      "r_squared:  -1.1441387185777665\n",
      "rmse:  35.45425248695693\n"
     ]
    }
   ],
   "source": [
    "print('r_squared: ', r_squared)\n",
    "print('rmse: ', rmse)"
   ]
  },
  {
   "cell_type": "markdown",
   "metadata": {},
   "source": [
    "### KNN"
   ]
  },
  {
   "cell_type": "markdown",
   "metadata": {},
   "source": [
    "#### Optimization"
   ]
  },
  {
   "cell_type": "code",
   "execution_count": 386,
   "metadata": {},
   "outputs": [
    {
     "name": "stderr",
     "output_type": "stream",
     "text": [
      "\u001b[32m[I 2022-10-27 01:37:03,160]\u001b[0m A new study created in memory with name: no-name-c7ca8a52-e9db-4024-b790-be06983f4bda\u001b[0m\n",
      "\u001b[32m[I 2022-10-27 01:37:06,247]\u001b[0m Trial 1 finished with value: 37.269399946280224 and parameters: {'n_neighbors': 9, 'leaf_size': 30}. Best is trial 1 with value: 37.269399946280224.\u001b[0m\n",
      "\u001b[32m[I 2022-10-27 01:37:06,285]\u001b[0m Trial 0 finished with value: 38.44130324211633 and parameters: {'n_neighbors': 5, 'leaf_size': 34}. Best is trial 1 with value: 37.269399946280224.\u001b[0m\n",
      "\u001b[32m[I 2022-10-27 01:37:06,578]\u001b[0m Trial 7 finished with value: 48.80545560087855 and parameters: {'n_neighbors': 1, 'leaf_size': 18}. Best is trial 1 with value: 37.269399946280224.\u001b[0m\n",
      "\u001b[32m[I 2022-10-27 01:37:06,970]\u001b[0m Trial 6 finished with value: 36.55611760119297 and parameters: {'n_neighbors': 35, 'leaf_size': 44}. Best is trial 6 with value: 36.55611760119297.\u001b[0m\n",
      "\u001b[32m[I 2022-10-27 01:37:07,477]\u001b[0m Trial 4 finished with value: 36.94531607533883 and parameters: {'n_neighbors': 78, 'leaf_size': 41}. Best is trial 6 with value: 36.55611760119297.\u001b[0m\n",
      "\u001b[32m[I 2022-10-27 01:37:07,886]\u001b[0m Trial 3 finished with value: 37.4479011767174 and parameters: {'n_neighbors': 127, 'leaf_size': 10}. Best is trial 6 with value: 36.55611760119297.\u001b[0m\n",
      "\u001b[32m[I 2022-10-27 01:37:08,165]\u001b[0m Trial 5 finished with value: 37.8639695101339 and parameters: {'n_neighbors': 186, 'leaf_size': 39}. Best is trial 6 with value: 36.55611760119297.\u001b[0m\n",
      "\u001b[32m[I 2022-10-27 01:37:08,567]\u001b[0m Trial 2 finished with value: 37.908732536705315 and parameters: {'n_neighbors': 194, 'leaf_size': 22}. Best is trial 6 with value: 36.55611760119297.\u001b[0m\n",
      "\u001b[32m[I 2022-10-27 01:37:09,780]\u001b[0m Trial 9 finished with value: 36.73335616403669 and parameters: {'n_neighbors': 19, 'leaf_size': 32}. Best is trial 6 with value: 36.55611760119297.\u001b[0m\n",
      "\u001b[32m[I 2022-10-27 01:37:10,153]\u001b[0m Trial 8 finished with value: 36.73063454971009 and parameters: {'n_neighbors': 55, 'leaf_size': 44}. Best is trial 6 with value: 36.55611760119297.\u001b[0m\n",
      "\u001b[32m[I 2022-10-27 01:37:11,574]\u001b[0m Trial 12 finished with value: 36.77211254242281 and parameters: {'n_neighbors': 60, 'leaf_size': 47}. Best is trial 6 with value: 36.55611760119297.\u001b[0m\n",
      "\u001b[32m[I 2022-10-27 01:37:11,746]\u001b[0m Trial 15 finished with value: 36.89353800259194 and parameters: {'n_neighbors': 12, 'leaf_size': 31}. Best is trial 6 with value: 36.55611760119297.\u001b[0m\n",
      "\u001b[32m[I 2022-10-27 01:37:11,848]\u001b[0m Trial 10 finished with value: 37.310508892545286 and parameters: {'n_neighbors': 111, 'leaf_size': 50}. Best is trial 6 with value: 36.55611760119297.\u001b[0m\n",
      "\u001b[32m[I 2022-10-27 01:37:12,008]\u001b[0m Trial 11 finished with value: 37.84667152016925 and parameters: {'n_neighbors': 183, 'leaf_size': 38}. Best is trial 6 with value: 36.55611760119297.\u001b[0m\n",
      "\u001b[32m[I 2022-10-27 01:37:12,988]\u001b[0m Trial 13 finished with value: 37.680952886320384 and parameters: {'n_neighbors': 156, 'leaf_size': 15}. Best is trial 6 with value: 36.55611760119297.\u001b[0m\n",
      "\u001b[32m[I 2022-10-27 01:37:13,575]\u001b[0m Trial 16 finished with value: 36.56464423289272 and parameters: {'n_neighbors': 41, 'leaf_size': 33}. Best is trial 6 with value: 36.55611760119297.\u001b[0m\n",
      "\u001b[32m[I 2022-10-27 01:37:13,676]\u001b[0m Trial 14 finished with value: 37.84667152016925 and parameters: {'n_neighbors': 183, 'leaf_size': 10}. Best is trial 6 with value: 36.55611760119297.\u001b[0m\n",
      "\u001b[32m[I 2022-10-27 01:37:14,957]\u001b[0m Trial 17 finished with value: 37.50588190147803 and parameters: {'n_neighbors': 134, 'leaf_size': 50}. Best is trial 6 with value: 36.55611760119297.\u001b[0m\n",
      "\u001b[32m[I 2022-10-27 01:37:15,362]\u001b[0m Trial 18 finished with value: 36.633684224765034 and parameters: {'n_neighbors': 49, 'leaf_size': 50}. Best is trial 6 with value: 36.55611760119297.\u001b[0m\n",
      "\u001b[32m[I 2022-10-27 01:37:15,674]\u001b[0m Trial 19 finished with value: 36.764899577247306 and parameters: {'n_neighbors': 59, 'leaf_size': 50}. Best is trial 6 with value: 36.55611760119297.\u001b[0m\n",
      "\u001b[32m[I 2022-10-27 01:37:15,833]\u001b[0m Trial 20 finished with value: 36.65389838875636 and parameters: {'n_neighbors': 51, 'leaf_size': 42}. Best is trial 6 with value: 36.55611760119297.\u001b[0m\n",
      "\u001b[32m[I 2022-10-27 01:37:16,072]\u001b[0m Trial 21 finished with value: 36.65389838875636 and parameters: {'n_neighbors': 51, 'leaf_size': 45}. Best is trial 6 with value: 36.55611760119297.\u001b[0m\n",
      "\u001b[32m[I 2022-10-27 01:37:17,193]\u001b[0m Trial 22 finished with value: 36.65389838875636 and parameters: {'n_neighbors': 51, 'leaf_size': 44}. Best is trial 6 with value: 36.55611760119297.\u001b[0m\n",
      "\u001b[32m[I 2022-10-27 01:37:17,244]\u001b[0m Trial 23 finished with value: 36.549210222722934 and parameters: {'n_neighbors': 39, 'leaf_size': 36}. Best is trial 23 with value: 36.549210222722934.\u001b[0m\n",
      "\u001b[32m[I 2022-10-27 01:37:17,366]\u001b[0m Trial 24 finished with value: 36.56464423289272 and parameters: {'n_neighbors': 41, 'leaf_size': 26}. Best is trial 23 with value: 36.549210222722934.\u001b[0m\n",
      "\u001b[32m[I 2022-10-27 01:37:17,948]\u001b[0m Trial 25 finished with value: 36.54304344068159 and parameters: {'n_neighbors': 36, 'leaf_size': 25}. Best is trial 25 with value: 36.54304344068159.\u001b[0m\n",
      "\u001b[32m[I 2022-10-27 01:37:18,190]\u001b[0m Trial 27 finished with value: 36.60689856808713 and parameters: {'n_neighbors': 29, 'leaf_size': 24}. Best is trial 25 with value: 36.54304344068159.\u001b[0m\n",
      "\u001b[32m[I 2022-10-27 01:37:18,289]\u001b[0m Trial 29 finished with value: 36.60689856808713 and parameters: {'n_neighbors': 29, 'leaf_size': 24}. Best is trial 25 with value: 36.54304344068159.\u001b[0m\n",
      "\u001b[32m[I 2022-10-27 01:37:18,367]\u001b[0m Trial 28 finished with value: 36.55611760119297 and parameters: {'n_neighbors': 35, 'leaf_size': 26}. Best is trial 25 with value: 36.54304344068159.\u001b[0m\n",
      "\u001b[32m[I 2022-10-27 01:37:18,392]\u001b[0m Trial 26 finished with value: 37.00952300418429 and parameters: {'n_neighbors': 84, 'leaf_size': 26}. Best is trial 25 with value: 36.54304344068159.\u001b[0m\n"
     ]
    }
   ],
   "source": [
    "from sklearn.ensemble import GradientBoostingRegressor\n",
    "\n",
    "def fit_clf_scaler_cv(clf, X, y, clf_params, imputer_params, n_features=43):\n",
    "    X = X.reset_index(drop=True)\n",
    "    y = y.reset_index(drop=True)\n",
    "    kf = KFold(n_splits=5)\n",
    "    \n",
    "    metric = []\n",
    "    imputer = KNNImputer(**imputer_params)\n",
    "    imputed = imputer.fit_transform(X)\n",
    "    X = pd.DataFrame(imputed, columns=X.columns)\n",
    "\n",
    "    for train_index, test_index in kf.split(X):\n",
    "        X_train, X_test = X.loc[train_index], X.loc[test_index]\n",
    "        y_train, y_test = y.loc[train_index], y.loc[test_index]\n",
    "\n",
    "        pipe = Pipeline([\n",
    "        ('scaler', StandardScaler()),\n",
    "        ('pca', PCA(n_components=n_features)),\n",
    "        ('svr', clf(**clf_params))])\n",
    "        \n",
    "        pipe.fit(X_train,y_train)\n",
    "        y_pred = pipe.predict(X_test)\n",
    "        rmse = mean_squared_error(y_pred, y_test)**(1/2)\n",
    "        metric.append(rmse)\n",
    "    return np.array(metric).mean()\n",
    "\n",
    "\n",
    "def objective(trial: optuna.trial.Trial):\n",
    "\n",
    "    trial_suggestion = {\n",
    "        'n_neighbors': trial.suggest_int('n_neighbors', 1, 200),\n",
    "        'leaf_size': trial.suggest_int('leaf_size', 10, 50),\n",
    "    }\n",
    "\n",
    "    clf_params = {\n",
    "        'n_neighbors': trial_suggestion['n_neighbors'],\n",
    "        'leaf_size': trial_suggestion['leaf_size'],\n",
    "        'n_jobs': -1\n",
    "    }\n",
    "    imputer_params = {\n",
    "        \"n_neighbors\": 3\n",
    "    }\n",
    "\n",
    "    clf = KNeighborsRegressor\n",
    "    return fit_clf_scaler_cv(clf, X_train, y_train, clf_params, imputer_params, n_features=28)\n",
    "\n",
    "study = optuna.create_study()\n",
    "study.optimize(objective, n_trials=30, n_jobs=-1)\n",
    "\n"
   ]
  },
  {
   "cell_type": "markdown",
   "metadata": {},
   "source": [
    "#### Model Selection"
   ]
  },
  {
   "cell_type": "code",
   "execution_count": 387,
   "metadata": {},
   "outputs": [
    {
     "name": "stdout",
     "output_type": "stream",
     "text": [
      "[Pipeline] ........... (step 1 of 4) Processing imputer, total=   0.0s\n",
      "[Pipeline] ............ (step 2 of 4) Processing scaler, total=   0.0s\n",
      "[Pipeline] ............... (step 3 of 4) Processing pca, total=   0.0s\n",
      "[Pipeline] ............... (step 4 of 4) Processing svr, total=   0.0s\n",
      "r_squared:  0.3991066217178917\n",
      "rmse:  35.45425248695693\n"
     ]
    }
   ],
   "source": [
    "from sklearn.neighbors import KNeighborsRegressor\n",
    "\n",
    "clf_params =  {'n_neighbors': 84, 'leaf_size': 26}\n",
    "imputer_params = {\n",
    "    \"n_neighbors\": 3\n",
    "}\n",
    "pipe = fit_clf_scaler(KNeighborsRegressor, X_train, y_train, clf_params, imputer_params, n_features=28)\n",
    "r_squared = pipe.score(X_test,y_test)\n",
    "y_pred = pipe.predict(X_test)\n",
    "print('r_squared: ', r_squared)\n",
    "print('rmse: ', rmse)"
   ]
  },
  {
   "cell_type": "markdown",
   "metadata": {},
   "source": [
    "### Gradient Tree Boosting"
   ]
  },
  {
   "cell_type": "markdown",
   "metadata": {},
   "source": [
    "#### Optimization"
   ]
  },
  {
   "cell_type": "code",
   "execution_count": null,
   "metadata": {},
   "outputs": [],
   "source": [
    "from sklearn.ensemble import GradientBoostingRegressor\n",
    "\n",
    "def objective(trial: optuna.trial.Trial):\n",
    "\n",
    "    trial_suggestion = {\n",
    "        'n_estimators': trial.suggest_int('n_estimators', 1, 200),\n",
    "        'learning_rate': trial.suggest_float('learning_rate', 1e-6, 1),\n",
    "        'max_depth': trial.suggest_int('max_depth', 1, 20),\n",
    "        'n_neighbors': trial.suggest_int('n_neighbors',  2, 4),\n",
    "        'n_features': trial.suggest_int('n_features', 10, 54)\n",
    "    }\n",
    "\n",
    "    clf_params = {\n",
    "        'n_estimators': trial_suggestion['n_estimators'],\n",
    "        'learning_rate': trial_suggestion['learning_rate'],\n",
    "        'max_depth': trial_suggestion['max_depth'],\n",
    "    }\n",
    "    imputer_params = {\n",
    "        \"n_neighbors\": trial_suggestion['n_neighbors']\n",
    "    }\n",
    "\n",
    "    clf = GradientBoostingRegressor\n",
    "    return fit_clf_scaler_cv(clf, X_train, y_train, clf_params, imputer_params, n_features=trial_suggestion['n_features'])\n",
    "\n",
    "study = optuna.create_study()\n",
    "study.optimize(objective, n_trials=10, n_jobs=-1)\n",
    "\n"
   ]
  },
  {
   "cell_type": "markdown",
   "metadata": {},
   "source": [
    "#### Model selection"
   ]
  },
  {
   "cell_type": "code",
   "execution_count": 364,
   "metadata": {},
   "outputs": [
    {
     "name": "stdout",
     "output_type": "stream",
     "text": [
      "[Pipeline] ........... (step 1 of 4) Processing imputer, total=   0.0s\n",
      "[Pipeline] ............ (step 2 of 4) Processing scaler, total=   0.0s\n",
      "[Pipeline] ............... (step 3 of 4) Processing pca, total=   0.0s\n",
      "[Pipeline] ............... (step 4 of 4) Processing svr, total=   9.9s\n",
      "r_squared:  0.3878889868899279\n",
      "rmse:  33.44875695528625\n"
     ]
    }
   ],
   "source": [
    "clf_params = {'n_estimators': 178, 'learning_rate': 0.15253399946567545, 'max_depth': 2} \n",
    "imputer_params = {\"n_neighbors\": 3}\n",
    "pipe = fit_clf_scaler(GradientBoostingRegressor, X_train, y_train, clf_params, imputer_params, n_features=28)\n",
    "r_squared = pipe.score(X_test,y_test)\n",
    "y_pred = pipe.predict(X_test)\n",
    "rmse = mean_squared_error(y_pred, y_test)**(1/2)\n",
    "\n",
    "print('r_squared: ', r_squared)\n",
    "print('rmse: ', rmse)"
   ]
  },
  {
   "cell_type": "markdown",
   "metadata": {},
   "source": [
    "### MLP"
   ]
  },
  {
   "cell_type": "code",
   "execution_count": null,
   "metadata": {},
   "outputs": [],
   "source": [
    "!pip install lazypredict"
   ]
  },
  {
   "cell_type": "markdown",
   "metadata": {},
   "source": [
    "#### Optimization"
   ]
  },
  {
   "cell_type": "code",
   "execution_count": 21,
   "metadata": {},
   "outputs": [
    {
     "name": "stderr",
     "output_type": "stream",
     "text": [
      "\u001b[32m[I 2022-10-27 02:09:30,716]\u001b[0m A new study created in memory with name: no-name-9fdadcac-8165-4146-91d2-51401fde83c8\u001b[0m\n"
     ]
    }
   ],
   "source": [
    "simplefilter(\"ignore\", category=ConvergenceWarning)\n",
    "\n",
    "\n",
    "def fit_clf_scaler_cv(clf, X, y, clf_params, imputer_params, n_features=43):\n",
    "    X = X.reset_index(drop=True)\n",
    "    y = y.reset_index(drop=True)\n",
    "    kf = KFold(n_splits=5)\n",
    "    \n",
    "    metric = []\n",
    "    for train_index, test_index in kf.split(X):\n",
    "        X_train, X_test = X.loc[train_index], X.loc[test_index]\n",
    "        y_train, y_test = y.loc[train_index], y.loc[test_index]\n",
    "\n",
    "        pipe = Pipeline([\n",
    "        ('scaler', StandardScaler()),\n",
    "        ('pca', PCA(n_components=n_features)),\n",
    "        ('svr', clf(**clf_params))])\n",
    "        \n",
    "        pipe.fit(X_train,y_train)\n",
    "        y_pred = pipe.predict(X_test)\n",
    "        rmse = mean_squared_error(y_pred, y_test)**(1/2)\n",
    "        metric.append(rmse)\n",
    "    return np.array(metric).mean()\n",
    "\n",
    "def objective(trial: optuna.trial.Trial):\n",
    "\n",
    "    trial_suggestions = {\n",
    "        'first_layer': trial.suggest_int('first_layer', 1, 100),\n",
    "        'second_layer': trial.suggest_int('second_layer', 1, 100),\n",
    "        'activation': trial.suggest_categorical('activation', ['relu', 'logistic', 'tanh', 'relu'])\n",
    "    }\n",
    "\n",
    "    clf = MLPRegressor \n",
    "    clf_params = {\n",
    "        'hidden_layer_sizes': (trial_suggestions['first_layer'], trial_suggestions['second_layer']),#, trial_suggestions['third_layer']),\n",
    "        'activation': trial_suggestions['activation'],\n",
    "        'max_iter': 200,\n",
    "        'learning_rate': 'adaptive'\n",
    "    }\n",
    "    imputer_params = {\n",
    "        \"n_neighbors\": 3\n",
    "    }\n",
    "    return fit_clf_scaler_cv(clf, X_train, y_train, clf_params, imputer_params, 28)\n",
    "\n",
    "study = optuna.create_study()\n",
    "study.optimize(objective, n_trials=20, n_jobs=-1)"
   ]
  },
  {
   "cell_type": "markdown",
   "metadata": {},
   "source": [
    "#### Model selection"
   ]
  },
  {
   "cell_type": "markdown",
   "metadata": {},
   "source": [
    "[I 2022-10-27 01:55:31,546] Trial 0 finished with value: 32.689708727150084 and parameters: {'first_layer': 93, 'second_layer': 47, 'activation': 'logistic'}. Best is trial 0 with value: 32.689708727150084.\n"
   ]
  },
  {
   "cell_type": "code",
   "execution_count": 16,
   "metadata": {},
   "outputs": [
    {
     "name": "stdout",
     "output_type": "stream",
     "text": [
      "r_squared:  0.4154780426799747\n",
      "rmse:  32.68626528119727\n"
     ]
    },
    {
     "name": "stderr",
     "output_type": "stream",
     "text": [
      "/usr/local/lib/python3.10/dist-packages/sklearn/neural_network/_multilayer_perceptron.py:702: ConvergenceWarning: Stochastic Optimizer: Maximum iterations (200) reached and the optimization hasn't converged yet.\n",
      "  warnings.warn(\n"
     ]
    }
   ],
   "source": [
    "def fit_clf_scaler_pipe(clf, X, y, clf_params, imputer_params, n_features=43):\n",
    "    X = X.copy()\n",
    "    y = y.copy()\n",
    "    X = X.reset_index(drop=True)\n",
    "    y = y.reset_index(drop=True)\n",
    "    \n",
    "    pipe = Pipeline([\n",
    "    ('scaler', StandardScaler()),\n",
    "    ('pca', PCA(n_components=n_features)),\n",
    "    ('svr', clf(**clf_params))])\n",
    "    \n",
    "    pipe.fit(X,y)\n",
    "    return pipe\n",
    "clf_params = {\n",
    "    \"hidden_layer_sizes\": (93, 47),\n",
    "    \"activation\": 'logistic'\n",
    "}\n",
    "imputer_params = {\n",
    "    \"n_neighbors\": 3\n",
    "}\n",
    "model = sklearn.neural_network.MLPRegressor\n",
    "pipe = fit_clf_scaler_pipe(model, X_train, y_train, clf_params, imputer_params, n_features=28)\n",
    "r_squared = pipe.score(X_test,y_test)\n",
    "y_pred = pipe.predict(X_test)\n",
    "rmse = mean_squared_error(y_pred, y_test)**(1/2)\n",
    "\n",
    "print('r_squared: ', r_squared)\n",
    "print('rmse: ', rmse)"
   ]
  },
  {
   "cell_type": "markdown",
   "metadata": {},
   "source": [
    "### XGBoost"
   ]
  },
  {
   "cell_type": "markdown",
   "metadata": {},
   "source": [
    "#### Model selection"
   ]
  },
  {
   "cell_type": "code",
   "execution_count": 361,
   "metadata": {},
   "outputs": [
    {
     "name": "stdout",
     "output_type": "stream",
     "text": [
      "[Pipeline] ........... (step 1 of 4) Processing imputer, total=   0.0s\n",
      "[Pipeline] ............ (step 2 of 4) Processing scaler, total=   0.0s\n",
      "[Pipeline] ............... (step 3 of 4) Processing pca, total=   0.0s\n",
      "[Pipeline] ............... (step 4 of 4) Processing svr, total=  42.7s\n",
      "r_squared:  0.3962699336625629\n",
      "rmse:  33.218979643663836\n"
     ]
    }
   ],
   "source": [
    "from xgboost import XGBRegressor\n",
    "def fit_clf_scaler(clf, X, y, clf_params, imputer_params, n_features=37):\n",
    "    X = X.copy()\n",
    "    y = y.copy()\n",
    "    X = X.reset_index(drop=True)\n",
    "    y = y.reset_index(drop=True)\n",
    "    \n",
    "    pipe = Pipeline([\n",
    "    ('imputer', KNNImputer(**imputer_params)),\n",
    "    ('scaler', StandardScaler()),\n",
    "    ('pca', PCA(n_components=n_features)),\n",
    "    ('svr', clf(**clf_params))], verbose=1)\n",
    "    \n",
    "    pipe.fit(X,y)\n",
    "    return pipe \n",
    "\n",
    "clf_params = {\n",
    "    \"learning_rate\": 0.001,\n",
    "    \"n_estimators\":6000,\n",
    "    \"max_depth\":4,\n",
    "    \"min_child_weight\":0,\n",
    "    \"gamma\":0.6,\n",
    "    \"subsample\":0.7,\n",
    "    \"colsample_bytree\":0.7,\n",
    "    \"objective\":'reg:squarederror',\n",
    "    \"nthread\":-1,\n",
    "    \"scale_pos_weight\":1,\n",
    "    \"seed\":27,\n",
    "    \"reg_alpha\":0.00006,\n",
    "    \"random_state\":42\n",
    "}\n",
    "imputer_params = {\"n_neighbors\": 3}\n",
    "pipe = fit_clf_scaler(XGBRegressor, X_train, y_train, clf_params, imputer_params, n_features=28)\n",
    "r_squared = pipe.score(X_test,y_test)\n",
    "y_pred = pipe.predict(X_test)\n",
    "rmse = mean_squared_error(y_pred, y_test)**(1/2)\n",
    "\n",
    "print('r_squared: ', r_squared)\n",
    "print('rmse: ', rmse)\n"
   ]
  },
  {
   "cell_type": "markdown",
   "metadata": {},
   "source": [
    "### Random Forest"
   ]
  },
  {
   "cell_type": "code",
   "execution_count": 389,
   "metadata": {},
   "outputs": [
    {
     "name": "stderr",
     "output_type": "stream",
     "text": [
      "\u001b[32m[I 2022-10-27 01:39:15,323]\u001b[0m A new study created in memory with name: no-name-1f95ccdf-b623-4866-854a-33bd7c0164cf\u001b[0m\n",
      "\u001b[32m[I 2022-10-27 01:39:29,671]\u001b[0m Trial 1 finished with value: 38.269789754838406 and parameters: {'n_estimators': 15, 'max_depth': 10, 'n_neighbors': 3}. Best is trial 1 with value: 38.269789754838406.\u001b[0m\n",
      "\u001b[32m[I 2022-10-27 01:40:05,848]\u001b[0m Trial 6 finished with value: 36.65043646930766 and parameters: {'n_estimators': 55, 'max_depth': 1, 'n_neighbors': 4}. Best is trial 6 with value: 36.65043646930766.\u001b[0m\n",
      "\u001b[32m[I 2022-10-27 01:40:24,956]\u001b[0m Trial 4 finished with value: 36.411537629955106 and parameters: {'n_estimators': 71, 'max_depth': 3, 'n_neighbors': 2}. Best is trial 4 with value: 36.411537629955106.\u001b[0m\n",
      "\u001b[32m[I 2022-10-27 01:40:28,736]\u001b[0m Trial 7 finished with value: 36.42361486957127 and parameters: {'n_estimators': 79, 'max_depth': 17, 'n_neighbors': 3}. Best is trial 4 with value: 36.411537629955106.\u001b[0m\n",
      "\u001b[32m[I 2022-10-27 01:40:36,088]\u001b[0m Trial 5 finished with value: 36.43113405099212 and parameters: {'n_estimators': 86, 'max_depth': 15, 'n_neighbors': 2}. Best is trial 4 with value: 36.411537629955106.\u001b[0m\n",
      "\u001b[32m[I 2022-10-27 01:40:37,557]\u001b[0m Trial 8 finished with value: 36.49201048665498 and parameters: {'n_estimators': 75, 'max_depth': 4, 'n_neighbors': 4}. Best is trial 4 with value: 36.411537629955106.\u001b[0m\n",
      "\u001b[32m[I 2022-10-27 01:40:46,706]\u001b[0m Trial 2 finished with value: 36.32242077921289 and parameters: {'n_estimators': 119, 'max_depth': 17, 'n_neighbors': 3}. Best is trial 2 with value: 36.32242077921289.\u001b[0m\n",
      "\u001b[32m[I 2022-10-27 01:40:47,582]\u001b[0m Trial 9 finished with value: 36.41921577520954 and parameters: {'n_estimators': 69, 'max_depth': 9, 'n_neighbors': 2}. Best is trial 2 with value: 36.32242077921289.\u001b[0m\n",
      "\u001b[32m[I 2022-10-27 01:40:50,872]\u001b[0m Trial 0 finished with value: 36.30860494804996 and parameters: {'n_estimators': 134, 'max_depth': 5, 'n_neighbors': 2}. Best is trial 0 with value: 36.30860494804996.\u001b[0m\n",
      "\u001b[32m[I 2022-10-27 01:41:04,405]\u001b[0m Trial 3 finished with value: 36.34866553751019 and parameters: {'n_estimators': 171, 'max_depth': 19, 'n_neighbors': 4}. Best is trial 0 with value: 36.30860494804996.\u001b[0m\n"
     ]
    }
   ],
   "source": [
    "from sklearn.ensemble import GradientBoostingRegressor\n",
    "\n",
    "def objective(trial: optuna.trial.Trial):\n",
    "\n",
    "    trial_suggestion = {\n",
    "        'n_estimators': trial.suggest_int('n_estimators', 1, 200),\n",
    "        'max_depth': trial.suggest_int('max_depth', 1, 20),\n",
    "        'n_neighbors': trial.suggest_int('n_neighbors',  2, 4),\n",
    "    }\n",
    "\n",
    "    clf_params = {\n",
    "        \"n_estimators\": trial_suggestion['n_estimators'],\n",
    "        \"criterion\": \"squared_error\",\n",
    "\n",
    "    }\n",
    "    imputer_params = {\n",
    "        \"n_neighbors\": trial_suggestion['n_neighbors']\n",
    "    }\n",
    "\n",
    "    clf = GradientBoostingRegressor\n",
    "    return fit_clf_scaler_cv(clf, X_train, y_train, clf_params, imputer_params, n_features=28)\n",
    "\n",
    "study = optuna.create_study()\n",
    "study.optimize(objective, n_trials=10, n_jobs=-1)\n",
    "\n"
   ]
  },
  {
   "cell_type": "code",
   "execution_count": 18,
   "metadata": {},
   "outputs": [
    {
     "name": "stdout",
     "output_type": "stream",
     "text": [
      "[Pipeline] ............ (step 1 of 3) Processing scaler, total=   0.0s\n",
      "[Pipeline] ............... (step 2 of 3) Processing pca, total=   0.0s\n",
      "[Pipeline] ............... (step 3 of 3) Processing svr, total=  10.0s\n",
      "r_squared:  0.34239202211821196\n",
      "rmse:  32.68626528119727\n"
     ]
    }
   ],
   "source": [
    "from sklearn.ensemble import RandomForestRegressor\n",
    "def fit_clf_scaler(clf, X, y, clf_params, imputer_params, n_features=37):\n",
    "    X = X.copy()\n",
    "    y = y.copy()\n",
    "    X = X.reset_index(drop=True)\n",
    "    y = y.reset_index(drop=True)\n",
    "    \n",
    "    pipe = Pipeline([\n",
    "    ('scaler', StandardScaler()),\n",
    "    ('pca', PCA(n_components=n_features)),\n",
    "    ('svr', clf(**clf_params))], verbose=1)\n",
    "    \n",
    "    pipe.fit(X,y)\n",
    "    return pipe \n",
    "\n",
    "clf_params = {'n_estimators': 134, 'max_depth': 5}\n",
    "imputer_params = {\n",
    "    \"n_neighbors\": 2\n",
    "}\n",
    "pipe = fit_clf_scaler(RandomForestRegressor, X_train, y_train, clf_params, imputer_params, n_features=28)\n",
    "r_squared = pipe.score(X_test,y_test)\n",
    "y_pred = pipe.predict(X_test)\n",
    "print('r_squared: ', r_squared)\n",
    "print('rmse: ', rmse)"
   ]
  },
  {
   "cell_type": "markdown",
   "metadata": {},
   "source": [
    "### MLP + XGBoost"
   ]
  },
  {
   "cell_type": "code",
   "execution_count": 300,
   "metadata": {},
   "outputs": [],
   "source": [
    "import torch\n",
    "import torch.nn as nn\n",
    "\n",
    "device = torch.device('cuda' if torch.cuda.is_available() else 'cpu')\n",
    "\n",
    "class MLP(nn.Module):\n",
    "\n",
    "    def __init__(self, params):\n",
    "        super(MLP, self).__init__()\n",
    "        self.first_layer = nn.Linear(params['n_components'], params['first_layer'])\n",
    "        self.second_layer = nn.Linear(params['first_layer'], params['latent_variables'])\n",
    "        self.last_layer = nn.Linear(params['latent_variables'], 1)\n",
    "        self.layers = nn.Sequential(\n",
    "            self.first_layer,\n",
    "            nn.ReLU(),\n",
    "            self.second_layer,\n",
    "            nn.ReLU(),\n",
    "            self.last_layer\n",
    "        )\n",
    "\n",
    "    def forward(self, x):\n",
    "        out = self.layers(x)\n",
    "        return out\n",
    "\n",
    "        \n",
    "clf_params = {\n",
    "    'n_components': 43,\n",
    "    'first_layer': 30,\n",
    "    'latent_variables': 10,\n",
    "    'learning_rate': 1e-5\n",
    "}\n",
    "\n",
    "model = MLP(clf_params).to(device)\n",
    "optimizer = torch.optim.Adam(model.parameters())"
   ]
  },
  {
   "cell_type": "code",
   "execution_count": 301,
   "metadata": {},
   "outputs": [],
   "source": [
    "X_train_mlp, X_train_xgb, y_train_mlp, y_train_xgb = sklearn.model_selection.train_test_split(X_train, y_train, test_size=0.1, random_state=10)"
   ]
  },
  {
   "cell_type": "code",
   "execution_count": 302,
   "metadata": {},
   "outputs": [
    {
     "data": {
      "text/html": [
       "<style>#sk-container-id-18 {color: black;background-color: white;}#sk-container-id-18 pre{padding: 0;}#sk-container-id-18 div.sk-toggleable {background-color: white;}#sk-container-id-18 label.sk-toggleable__label {cursor: pointer;display: block;width: 100%;margin-bottom: 0;padding: 0.3em;box-sizing: border-box;text-align: center;}#sk-container-id-18 label.sk-toggleable__label-arrow:before {content: \"▸\";float: left;margin-right: 0.25em;color: #696969;}#sk-container-id-18 label.sk-toggleable__label-arrow:hover:before {color: black;}#sk-container-id-18 div.sk-estimator:hover label.sk-toggleable__label-arrow:before {color: black;}#sk-container-id-18 div.sk-toggleable__content {max-height: 0;max-width: 0;overflow: hidden;text-align: left;background-color: #f0f8ff;}#sk-container-id-18 div.sk-toggleable__content pre {margin: 0.2em;color: black;border-radius: 0.25em;background-color: #f0f8ff;}#sk-container-id-18 input.sk-toggleable__control:checked~div.sk-toggleable__content {max-height: 200px;max-width: 100%;overflow: auto;}#sk-container-id-18 input.sk-toggleable__control:checked~label.sk-toggleable__label-arrow:before {content: \"▾\";}#sk-container-id-18 div.sk-estimator input.sk-toggleable__control:checked~label.sk-toggleable__label {background-color: #d4ebff;}#sk-container-id-18 div.sk-label input.sk-toggleable__control:checked~label.sk-toggleable__label {background-color: #d4ebff;}#sk-container-id-18 input.sk-hidden--visually {border: 0;clip: rect(1px 1px 1px 1px);clip: rect(1px, 1px, 1px, 1px);height: 1px;margin: -1px;overflow: hidden;padding: 0;position: absolute;width: 1px;}#sk-container-id-18 div.sk-estimator {font-family: monospace;background-color: #f0f8ff;border: 1px dotted black;border-radius: 0.25em;box-sizing: border-box;margin-bottom: 0.5em;}#sk-container-id-18 div.sk-estimator:hover {background-color: #d4ebff;}#sk-container-id-18 div.sk-parallel-item::after {content: \"\";width: 100%;border-bottom: 1px solid gray;flex-grow: 1;}#sk-container-id-18 div.sk-label:hover label.sk-toggleable__label {background-color: #d4ebff;}#sk-container-id-18 div.sk-serial::before {content: \"\";position: absolute;border-left: 1px solid gray;box-sizing: border-box;top: 0;bottom: 0;left: 50%;z-index: 0;}#sk-container-id-18 div.sk-serial {display: flex;flex-direction: column;align-items: center;background-color: white;padding-right: 0.2em;padding-left: 0.2em;position: relative;}#sk-container-id-18 div.sk-item {position: relative;z-index: 1;}#sk-container-id-18 div.sk-parallel {display: flex;align-items: stretch;justify-content: center;background-color: white;position: relative;}#sk-container-id-18 div.sk-item::before, #sk-container-id-18 div.sk-parallel-item::before {content: \"\";position: absolute;border-left: 1px solid gray;box-sizing: border-box;top: 0;bottom: 0;left: 50%;z-index: -1;}#sk-container-id-18 div.sk-parallel-item {display: flex;flex-direction: column;z-index: 1;position: relative;background-color: white;}#sk-container-id-18 div.sk-parallel-item:first-child::after {align-self: flex-end;width: 50%;}#sk-container-id-18 div.sk-parallel-item:last-child::after {align-self: flex-start;width: 50%;}#sk-container-id-18 div.sk-parallel-item:only-child::after {width: 0;}#sk-container-id-18 div.sk-dashed-wrapped {border: 1px dashed gray;margin: 0 0.4em 0.5em 0.4em;box-sizing: border-box;padding-bottom: 0.4em;background-color: white;}#sk-container-id-18 div.sk-label label {font-family: monospace;font-weight: bold;display: inline-block;line-height: 1.2em;}#sk-container-id-18 div.sk-label-container {text-align: center;}#sk-container-id-18 div.sk-container {/* jupyter's `normalize.less` sets `[hidden] { display: none; }` but bootstrap.min.css set `[hidden] { display: none !important; }` so we also need the `!important` here to be able to override the default hidden behavior on the sphinx rendered scikit-learn.org. See: https://github.com/scikit-learn/scikit-learn/issues/21755 */display: inline-block !important;position: relative;}#sk-container-id-18 div.sk-text-repr-fallback {display: none;}</style><div id=\"sk-container-id-18\" class=\"sk-top-container\"><div class=\"sk-text-repr-fallback\"><pre>Pipeline(steps=[(&#x27;pre_process&#x27;,\n",
       "                 FunctionTransformer(func=&lt;function process_model_1 at 0x7fd495ee5240&gt;)),\n",
       "                (&#x27;imputer&#x27;, KNNImputer(n_neighbors=3)),\n",
       "                (&#x27;scaler&#x27;, StandardScaler()), (&#x27;pca&#x27;, PCA(n_components=43))])</pre><b>In a Jupyter environment, please rerun this cell to show the HTML representation or trust the notebook. <br />On GitHub, the HTML representation is unable to render, please try loading this page with nbviewer.org.</b></div><div class=\"sk-container\" hidden><div class=\"sk-item sk-dashed-wrapped\"><div class=\"sk-label-container\"><div class=\"sk-label sk-toggleable\"><input class=\"sk-toggleable__control sk-hidden--visually\" id=\"sk-estimator-id-60\" type=\"checkbox\" ><label for=\"sk-estimator-id-60\" class=\"sk-toggleable__label sk-toggleable__label-arrow\">Pipeline</label><div class=\"sk-toggleable__content\"><pre>Pipeline(steps=[(&#x27;pre_process&#x27;,\n",
       "                 FunctionTransformer(func=&lt;function process_model_1 at 0x7fd495ee5240&gt;)),\n",
       "                (&#x27;imputer&#x27;, KNNImputer(n_neighbors=3)),\n",
       "                (&#x27;scaler&#x27;, StandardScaler()), (&#x27;pca&#x27;, PCA(n_components=43))])</pre></div></div></div><div class=\"sk-serial\"><div class=\"sk-item\"><div class=\"sk-estimator sk-toggleable\"><input class=\"sk-toggleable__control sk-hidden--visually\" id=\"sk-estimator-id-61\" type=\"checkbox\" ><label for=\"sk-estimator-id-61\" class=\"sk-toggleable__label sk-toggleable__label-arrow\">FunctionTransformer</label><div class=\"sk-toggleable__content\"><pre>FunctionTransformer(func=&lt;function process_model_1 at 0x7fd495ee5240&gt;)</pre></div></div></div><div class=\"sk-item\"><div class=\"sk-estimator sk-toggleable\"><input class=\"sk-toggleable__control sk-hidden--visually\" id=\"sk-estimator-id-62\" type=\"checkbox\" ><label for=\"sk-estimator-id-62\" class=\"sk-toggleable__label sk-toggleable__label-arrow\">KNNImputer</label><div class=\"sk-toggleable__content\"><pre>KNNImputer(n_neighbors=3)</pre></div></div></div><div class=\"sk-item\"><div class=\"sk-estimator sk-toggleable\"><input class=\"sk-toggleable__control sk-hidden--visually\" id=\"sk-estimator-id-63\" type=\"checkbox\" ><label for=\"sk-estimator-id-63\" class=\"sk-toggleable__label sk-toggleable__label-arrow\">StandardScaler</label><div class=\"sk-toggleable__content\"><pre>StandardScaler()</pre></div></div></div><div class=\"sk-item\"><div class=\"sk-estimator sk-toggleable\"><input class=\"sk-toggleable__control sk-hidden--visually\" id=\"sk-estimator-id-64\" type=\"checkbox\" ><label for=\"sk-estimator-id-64\" class=\"sk-toggleable__label sk-toggleable__label-arrow\">PCA</label><div class=\"sk-toggleable__content\"><pre>PCA(n_components=43)</pre></div></div></div></div></div></div></div>"
      ],
      "text/plain": [
       "Pipeline(steps=[('pre_process',\n",
       "                 FunctionTransformer(func=<function process_model_1 at 0x7fd495ee5240>)),\n",
       "                ('imputer', KNNImputer(n_neighbors=3)),\n",
       "                ('scaler', StandardScaler()), ('pca', PCA(n_components=43))])"
      ]
     },
     "execution_count": 302,
     "metadata": {},
     "output_type": "execute_result"
    }
   ],
   "source": [
    "pipe = Pipeline([('pre_process', FunctionTransformer(process_model_1)),\n",
    "('imputer', KNNImputer(**imputer_params)),\n",
    "('scaler', StandardScaler()),\n",
    "('pca', PCA(n_components=clf_params['n_components']))])\n",
    "\n",
    "pipe.fit(X_train, y_train)"
   ]
  },
  {
   "cell_type": "code",
   "execution_count": 298,
   "metadata": {},
   "outputs": [
    {
     "ename": "AttributeError",
     "evalue": "This 'Pipeline' has no attribute 'transform'",
     "output_type": "error",
     "traceback": [
      "\u001b[0;31m---------------------------------------------------------------------------\u001b[0m",
      "\u001b[0;31mAttributeError\u001b[0m                            Traceback (most recent call last)",
      "Cell \u001b[0;32mIn [298], line 1\u001b[0m\n\u001b[0;32m----> 1\u001b[0m X_train_piped_mlp \u001b[39m=\u001b[39m pipe\u001b[39m.\u001b[39;49mtransform(X_train)\n\u001b[1;32m      2\u001b[0m X_train_piped_xgb \u001b[39m=\u001b[39m pipe\u001b[39m.\u001b[39mtransform(X_train_xgb)\n",
      "File \u001b[0;32m/usr/local/lib/python3.10/dist-packages/sklearn/utils/metaestimators.py:128\u001b[0m, in \u001b[0;36m_AvailableIfDescriptor.__get__\u001b[0;34m(self, obj, owner)\u001b[0m\n\u001b[1;32m    124\u001b[0m \u001b[39mif\u001b[39;00m obj \u001b[39mis\u001b[39;00m \u001b[39mnot\u001b[39;00m \u001b[39mNone\u001b[39;00m:\n\u001b[1;32m    125\u001b[0m     \u001b[39m# delegate only on instances, not the classes.\u001b[39;00m\n\u001b[1;32m    126\u001b[0m     \u001b[39m# this is to allow access to the docstrings.\u001b[39;00m\n\u001b[1;32m    127\u001b[0m     \u001b[39mif\u001b[39;00m \u001b[39mnot\u001b[39;00m \u001b[39mself\u001b[39m\u001b[39m.\u001b[39mcheck(obj):\n\u001b[0;32m--> 128\u001b[0m         \u001b[39mraise\u001b[39;00m attr_err\n\u001b[1;32m    129\u001b[0m     out \u001b[39m=\u001b[39m MethodType(\u001b[39mself\u001b[39m\u001b[39m.\u001b[39mfn, obj)\n\u001b[1;32m    131\u001b[0m \u001b[39melse\u001b[39;00m:\n\u001b[1;32m    132\u001b[0m     \u001b[39m# This makes it possible to use the decorated method as an unbound method,\u001b[39;00m\n\u001b[1;32m    133\u001b[0m     \u001b[39m# for instance when monkeypatching.\u001b[39;00m\n",
      "\u001b[0;31mAttributeError\u001b[0m: This 'Pipeline' has no attribute 'transform'"
     ]
    }
   ],
   "source": [
    "X_train_piped_mlp = pipe.transform(X_train)\n",
    "X_train_piped_xgb = pipe.transform(X_train_xgb)"
   ]
  },
  {
   "cell_type": "code",
   "execution_count": 280,
   "metadata": {},
   "outputs": [],
   "source": [
    "X_test_piped = pipe.transform(X_test) \n",
    "X_test_xgboost = model.layers[:2](torch.Tensor(X_test_piped).to(device))\n",
    "X_test_xgboost = X_test_xgboost.detach().cpu()"
   ]
  },
  {
   "cell_type": "code",
   "execution_count": 297,
   "metadata": {},
   "outputs": [],
   "source": [
    "import torch.utils.data as data_utils\n",
    "\n",
    "batch_size = 128\n",
    "train_target = torch.tensor(y_train.values.astype(np.float32))\n",
    "train = torch.tensor(X_train_piped_mlp.astype(np.float32)) \n",
    "train_tensor = data_utils.TensorDataset(train, train_target) \n",
    "train_loader = data_utils.DataLoader(dataset = train_tensor, batch_size = batch_size, shuffle = True)"
   ]
  },
  {
   "cell_type": "code",
   "execution_count": null,
   "metadata": {},
   "outputs": [],
   "source": [
    "epochs = 10\n",
    "\n",
    "def r2_loss(output, target):\n",
    "    target_mean = torch.mean(target)\n",
    "    ss_tot = torch.sum((target - target_mean) ** 2)\n",
    "    ss_res = torch.sum((target - output) ** 2)\n",
    "    r2 = 1 - ss_res / ss_tot\n",
    "    return r2\n",
    "\n",
    "model.train()\n",
    "for epoch in range(epochs):\n",
    "    losses = []\n",
    "    for batch_num, input_data in enumerate(train_loader):\n",
    "        optimizer.zero_grad()\n",
    "        x, y = input_data\n",
    "        x = x.to(device).float()\n",
    "        y = y.to(device)\n",
    "\n",
    "        output = model(x)\n",
    "        #print('output: ', output, output.size())\n",
    "        #print('y: ', y, y.size())\n",
    "        loss = r2_loss(output, y)\n",
    "        asdfsdaf\n",
    "        loss.backward()\n",
    "        losses.append(loss.item())\n",
    "\n",
    "        optimizer.step()\n",
    "\n",
    "    print('Epoch %d | Loss %6.2f' % (epoch, sum(losses)/len(losses)))"
   ]
  },
  {
   "cell_type": "code",
   "execution_count": 283,
   "metadata": {},
   "outputs": [
    {
     "name": "stdout",
     "output_type": "stream",
     "text": [
      "r_squared:  0.006208638447626202\n",
      "rmse:  47.98275629246058\n"
     ]
    }
   ],
   "source": [
    "y_pred = model.layers(torch.Tensor(X_test_piped).to(device)).detach().cpu().numpy()\n",
    "rmse = mean_squared_error(y_pred, y_test)**(1/2)\n",
    "r_squared = r2_score(y_test, y_pred)\n",
    "\n",
    "print('r_squared: ', r_squared)\n",
    "print('rmse: ', rmse)"
   ]
  },
  {
   "cell_type": "code",
   "execution_count": 221,
   "metadata": {},
   "outputs": [],
   "source": [
    "X_train_xgboost = model.layers[:2](torch.Tensor(X_train_piped_xgb).to(device))\n",
    "X_train_xgboost = X_train_xgboost.detach().cpu()"
   ]
  },
  {
   "cell_type": "code",
   "execution_count": 222,
   "metadata": {},
   "outputs": [
    {
     "data": {
      "text/html": [
       "<style>#sk-container-id-14 {color: black;background-color: white;}#sk-container-id-14 pre{padding: 0;}#sk-container-id-14 div.sk-toggleable {background-color: white;}#sk-container-id-14 label.sk-toggleable__label {cursor: pointer;display: block;width: 100%;margin-bottom: 0;padding: 0.3em;box-sizing: border-box;text-align: center;}#sk-container-id-14 label.sk-toggleable__label-arrow:before {content: \"▸\";float: left;margin-right: 0.25em;color: #696969;}#sk-container-id-14 label.sk-toggleable__label-arrow:hover:before {color: black;}#sk-container-id-14 div.sk-estimator:hover label.sk-toggleable__label-arrow:before {color: black;}#sk-container-id-14 div.sk-toggleable__content {max-height: 0;max-width: 0;overflow: hidden;text-align: left;background-color: #f0f8ff;}#sk-container-id-14 div.sk-toggleable__content pre {margin: 0.2em;color: black;border-radius: 0.25em;background-color: #f0f8ff;}#sk-container-id-14 input.sk-toggleable__control:checked~div.sk-toggleable__content {max-height: 200px;max-width: 100%;overflow: auto;}#sk-container-id-14 input.sk-toggleable__control:checked~label.sk-toggleable__label-arrow:before {content: \"▾\";}#sk-container-id-14 div.sk-estimator input.sk-toggleable__control:checked~label.sk-toggleable__label {background-color: #d4ebff;}#sk-container-id-14 div.sk-label input.sk-toggleable__control:checked~label.sk-toggleable__label {background-color: #d4ebff;}#sk-container-id-14 input.sk-hidden--visually {border: 0;clip: rect(1px 1px 1px 1px);clip: rect(1px, 1px, 1px, 1px);height: 1px;margin: -1px;overflow: hidden;padding: 0;position: absolute;width: 1px;}#sk-container-id-14 div.sk-estimator {font-family: monospace;background-color: #f0f8ff;border: 1px dotted black;border-radius: 0.25em;box-sizing: border-box;margin-bottom: 0.5em;}#sk-container-id-14 div.sk-estimator:hover {background-color: #d4ebff;}#sk-container-id-14 div.sk-parallel-item::after {content: \"\";width: 100%;border-bottom: 1px solid gray;flex-grow: 1;}#sk-container-id-14 div.sk-label:hover label.sk-toggleable__label {background-color: #d4ebff;}#sk-container-id-14 div.sk-serial::before {content: \"\";position: absolute;border-left: 1px solid gray;box-sizing: border-box;top: 0;bottom: 0;left: 50%;z-index: 0;}#sk-container-id-14 div.sk-serial {display: flex;flex-direction: column;align-items: center;background-color: white;padding-right: 0.2em;padding-left: 0.2em;position: relative;}#sk-container-id-14 div.sk-item {position: relative;z-index: 1;}#sk-container-id-14 div.sk-parallel {display: flex;align-items: stretch;justify-content: center;background-color: white;position: relative;}#sk-container-id-14 div.sk-item::before, #sk-container-id-14 div.sk-parallel-item::before {content: \"\";position: absolute;border-left: 1px solid gray;box-sizing: border-box;top: 0;bottom: 0;left: 50%;z-index: -1;}#sk-container-id-14 div.sk-parallel-item {display: flex;flex-direction: column;z-index: 1;position: relative;background-color: white;}#sk-container-id-14 div.sk-parallel-item:first-child::after {align-self: flex-end;width: 50%;}#sk-container-id-14 div.sk-parallel-item:last-child::after {align-self: flex-start;width: 50%;}#sk-container-id-14 div.sk-parallel-item:only-child::after {width: 0;}#sk-container-id-14 div.sk-dashed-wrapped {border: 1px dashed gray;margin: 0 0.4em 0.5em 0.4em;box-sizing: border-box;padding-bottom: 0.4em;background-color: white;}#sk-container-id-14 div.sk-label label {font-family: monospace;font-weight: bold;display: inline-block;line-height: 1.2em;}#sk-container-id-14 div.sk-label-container {text-align: center;}#sk-container-id-14 div.sk-container {/* jupyter's `normalize.less` sets `[hidden] { display: none; }` but bootstrap.min.css set `[hidden] { display: none !important; }` so we also need the `!important` here to be able to override the default hidden behavior on the sphinx rendered scikit-learn.org. See: https://github.com/scikit-learn/scikit-learn/issues/21755 */display: inline-block !important;position: relative;}#sk-container-id-14 div.sk-text-repr-fallback {display: none;}</style><div id=\"sk-container-id-14\" class=\"sk-top-container\"><div class=\"sk-text-repr-fallback\"><pre>XGBRegressor(base_score=0.5, booster=&#x27;gbtree&#x27;, callbacks=None,\n",
       "             colsample_bylevel=1, colsample_bynode=1, colsample_bytree=1,\n",
       "             early_stopping_rounds=None, enable_categorical=False, eta=1,\n",
       "             eval_metric=None, gamma=0, gpu_id=-1, grow_policy=&#x27;depthwise&#x27;,\n",
       "             importance_type=None, interaction_constraints=&#x27;&#x27;, learning_rate=1,\n",
       "             max_bin=256, max_cat_to_onehot=4, max_delta_step=0, max_depth=5,\n",
       "             max_leaves=0, min_child_weight=1, missing=nan,\n",
       "             monotone_constraints=&#x27;()&#x27;, n_estimators=100, n_jobs=0,\n",
       "             num_parallel_tree=1, predictor=&#x27;auto&#x27;, random_state=0, reg_alpha=0, ...)</pre><b>In a Jupyter environment, please rerun this cell to show the HTML representation or trust the notebook. <br />On GitHub, the HTML representation is unable to render, please try loading this page with nbviewer.org.</b></div><div class=\"sk-container\" hidden><div class=\"sk-item\"><div class=\"sk-estimator sk-toggleable\"><input class=\"sk-toggleable__control sk-hidden--visually\" id=\"sk-estimator-id-43\" type=\"checkbox\" checked><label for=\"sk-estimator-id-43\" class=\"sk-toggleable__label sk-toggleable__label-arrow\">XGBRegressor</label><div class=\"sk-toggleable__content\"><pre>XGBRegressor(base_score=0.5, booster=&#x27;gbtree&#x27;, callbacks=None,\n",
       "             colsample_bylevel=1, colsample_bynode=1, colsample_bytree=1,\n",
       "             early_stopping_rounds=None, enable_categorical=False, eta=1,\n",
       "             eval_metric=None, gamma=0, gpu_id=-1, grow_policy=&#x27;depthwise&#x27;,\n",
       "             importance_type=None, interaction_constraints=&#x27;&#x27;, learning_rate=1,\n",
       "             max_bin=256, max_cat_to_onehot=4, max_delta_step=0, max_depth=5,\n",
       "             max_leaves=0, min_child_weight=1, missing=nan,\n",
       "             monotone_constraints=&#x27;()&#x27;, n_estimators=100, n_jobs=0,\n",
       "             num_parallel_tree=1, predictor=&#x27;auto&#x27;, random_state=0, reg_alpha=0, ...)</pre></div></div></div></div></div>"
      ],
      "text/plain": [
       "XGBRegressor(base_score=0.5, booster='gbtree', callbacks=None,\n",
       "             colsample_bylevel=1, colsample_bynode=1, colsample_bytree=1,\n",
       "             early_stopping_rounds=None, enable_categorical=False, eta=1,\n",
       "             eval_metric=None, gamma=0, gpu_id=-1, grow_policy='depthwise',\n",
       "             importance_type=None, interaction_constraints='', learning_rate=1,\n",
       "             max_bin=256, max_cat_to_onehot=4, max_delta_step=0, max_depth=5,\n",
       "             max_leaves=0, min_child_weight=1, missing=nan,\n",
       "             monotone_constraints='()', n_estimators=100, n_jobs=0,\n",
       "             num_parallel_tree=1, predictor='auto', random_state=0, reg_alpha=0, ...)"
      ]
     },
     "execution_count": 222,
     "metadata": {},
     "output_type": "execute_result"
    }
   ],
   "source": [
    "clf_params_xgb = {'max_depth':5, 'eta':1, 'objective':'reg:squarederror' }\n",
    "\n",
    "xgb = XGBRegressor(**clf_params_xgb)\n",
    "\n",
    "xgb.fit(X_train_xgboost, y_train_xgb)"
   ]
  },
  {
   "cell_type": "code",
   "execution_count": 224,
   "metadata": {},
   "outputs": [],
   "source": [
    "from sklearn.metrics import r2_score"
   ]
  },
  {
   "cell_type": "code",
   "execution_count": 225,
   "metadata": {},
   "outputs": [
    {
     "name": "stdout",
     "output_type": "stream",
     "text": [
      "r_squared:  -0.08663525234644198\n",
      "rmse:  50.17408695252223\n"
     ]
    }
   ],
   "source": [
    "y_pred = xgb.predict(X_test_xgboost)\n",
    "rmse = mean_squared_error(y_pred, y_test)**(1/2)\n",
    "r_squared = r2_score(y_test, y_pred)\n",
    "\n",
    "print('r_squared: ', r_squared)\n",
    "print('rmse: ', rmse)"
   ]
  }
 ],
 "metadata": {
  "kernelspec": {
   "display_name": "Python 3 (ipykernel)",
   "language": "python",
   "name": "python3"
  },
  "language_info": {
   "codemirror_mode": {
    "name": "ipython",
    "version": 3
   },
   "file_extension": ".py",
   "mimetype": "text/x-python",
   "name": "python",
   "nbconvert_exporter": "python",
   "pygments_lexer": "ipython3",
   "version": "3.10.4"
  },
  "vscode": {
   "interpreter": {
    "hash": "e7370f93d1d0cde622a1f8e1c04877d8463912d04d973331ad4851f04de6915a"
   }
  }
 },
 "nbformat": 4,
 "nbformat_minor": 4
}
